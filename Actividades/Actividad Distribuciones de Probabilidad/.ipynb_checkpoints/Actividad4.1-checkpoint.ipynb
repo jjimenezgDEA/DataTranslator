{
 "cells": [
  {
   "cell_type": "code",
   "execution_count": 2,
   "id": "c38e3055",
   "metadata": {},
   "outputs": [],
   "source": [
    "import pandas as pd\n",
    "import numpy as np\n",
    "import scipy as sp\n",
    "import scipy.stats as stats\n",
    "import matplotlib.pyplot as plt"
   ]
  },
  {
   "cell_type": "markdown",
   "id": "1b280895",
   "metadata": {},
   "source": [
    "# Ejercicio 1\n",
    "## Considerar un dado de 20 caras para calcular las siguientes probabilidades:\n",
    "### P(Obtener un número entre 6 y 9)\n"
   ]
  },
  {
   "cell_type": "code",
   "execution_count": 6,
   "id": "2dd5791c",
   "metadata": {},
   "outputs": [
    {
     "data": {
      "text/plain": [
       "0.2"
      ]
     },
     "execution_count": 6,
     "metadata": {},
     "output_type": "execute_result"
    }
   ],
   "source": [
    "dado.pmf([6,7,8,9]).sum()"
   ]
  },
  {
   "cell_type": "markdown",
   "id": "834750dc",
   "metadata": {},
   "source": [
    "###  P(Obtener al menos 12)"
   ]
  },
  {
   "cell_type": "code",
   "execution_count": 7,
   "id": "d79e003c",
   "metadata": {},
   "outputs": [
    {
     "data": {
      "text/plain": [
       "0.45"
      ]
     },
     "execution_count": 7,
     "metadata": {},
     "output_type": "execute_result"
    }
   ],
   "source": [
    "dado.pmf(list(range(12,21))).sum()"
   ]
  },
  {
   "cell_type": "markdown",
   "id": "882e723c",
   "metadata": {},
   "source": [
    "###  P(Obtener 3 o menos)"
   ]
  },
  {
   "cell_type": "code",
   "execution_count": 8,
   "id": "326d321e",
   "metadata": {},
   "outputs": [
    {
     "data": {
      "text/plain": [
       "0.15000000000000002"
      ]
     },
     "execution_count": 8,
     "metadata": {},
     "output_type": "execute_result"
    }
   ],
   "source": [
    "dado.pmf(list(range(1,4))).sum()"
   ]
  },
  {
   "cell_type": "markdown",
   "id": "ac24cb2b",
   "metadata": {},
   "source": [
    "###  Graficar la Función de Densidad de Probabilidad"
   ]
  },
  {
   "cell_type": "code",
   "execution_count": 9,
   "id": "7fd0337f",
   "metadata": {},
   "outputs": [
    {
     "data": {
      "text/plain": [
       "(0.0, 1.0)"
      ]
     },
     "execution_count": 9,
     "metadata": {},
     "output_type": "execute_result"
    },
    {
     "data": {
      "image/png": "[encoded data removed]",
      "text/plain": [
       "<Figure size 640x480 with 1 Axes>"
      ]
     },
     "metadata": {},
     "output_type": "display_data"
    }
   ],
   "source": [
    "plt.bar(range(0,21),dado.pmf(range(0,21)))\n",
    "plt.ylim([0,1])"
   ]
  },
  {
   "cell_type": "markdown",
   "id": "b7a9391a",
   "metadata": {},
   "source": [
    "# Ejercicio 2\n",
    "## El apagador de una casa funciona 1 de 5 veces y al accionarlo 15 veces calcular la probabilidad de:\n",
    "### P(Funcione 9 veces) "
   ]
  },
  {
   "cell_type": "code",
   "execution_count": 13,
   "id": "273fb505",
   "metadata": {},
   "outputs": [
    {
     "data": {
      "text/plain": [
       "<scipy.stats._distn_infrastructure.rv_discrete_frozen at 0x1b842265b80>"
      ]
     },
     "execution_count": 13,
     "metadata": {},
     "output_type": "execute_result"
    }
   ],
   "source": [
    "fun=1/5\n",
    "num=15\n",
    "apagador=stats.binom(num,fun)\n",
    "apagador"
   ]
  },
  {
   "cell_type": "code",
   "execution_count": 14,
   "id": "57521db2",
   "metadata": {},
   "outputs": [
    {
     "data": {
      "text/plain": [
       "0.0006717597286400012"
      ]
     },
     "execution_count": 14,
     "metadata": {},
     "output_type": "execute_result"
    }
   ],
   "source": [
    "apagador.pmf(9)"
   ]
  },
  {
   "cell_type": "markdown",
   "id": "f77fd773",
   "metadata": {},
   "source": [
    "### P(Funcione menos de 4 veces)"
   ]
  },
  {
   "cell_type": "code",
   "execution_count": 15,
   "id": "bd4d37c5",
   "metadata": {},
   "outputs": [
    {
     "data": {
      "text/plain": [
       "0.6481621045739514"
      ]
     },
     "execution_count": 15,
     "metadata": {},
     "output_type": "execute_result"
    }
   ],
   "source": [
    "apagador.cdf(3)"
   ]
  },
  {
   "cell_type": "markdown",
   "id": "7b03c6de",
   "metadata": {},
   "source": [
    "### P(Funcione 3 o más veces)"
   ]
  },
  {
   "cell_type": "code",
   "execution_count": 17,
   "id": "ded6f07c",
   "metadata": {},
   "outputs": [
    {
     "data": {
      "text/plain": [
       "0.16423372393676827"
      ]
     },
     "execution_count": 17,
     "metadata": {},
     "output_type": "execute_result"
    }
   ],
   "source": [
    "1-apagador.cdf(4)"
   ]
  },
  {
   "cell_type": "markdown",
   "id": "b1740a2c",
   "metadata": {},
   "source": [
    "### Graficar la Función de Densidad de Probabilidad"
   ]
  },
  {
   "cell_type": "code",
   "execution_count": 19,
   "id": "f1dbab50",
   "metadata": {},
   "outputs": [
    {
     "data": {
      "image/png": "[encoded data removed]",
      "text/plain": [
       "<Figure size 640x480 with 1 Axes>"
      ]
     },
     "metadata": {},
     "output_type": "display_data"
    }
   ],
   "source": [
    "plt.bar(range(0,15),apagador.pmf(range(0,15)));"
   ]
  },
  {
   "cell_type": "markdown",
   "id": "4542de3d",
   "metadata": {},
   "source": [
    "# Ejercicio 3\n",
    "## En una línea de producción se estrellan 3 vitrales por hora, clacular las probabilidades de:\n",
    "### P(Estrellar un vitral por hora)"
   ]
  },
  {
   "cell_type": "code",
   "execution_count": 20,
   "id": "9cd1d26c",
   "metadata": {},
   "outputs": [
    {
     "data": {
      "text/plain": [
       "<scipy.stats._distn_infrastructure.rv_discrete_frozen at 0x1b842ab7460>"
      ]
     },
     "execution_count": 20,
     "metadata": {},
     "output_type": "execute_result"
    }
   ],
   "source": [
    "vitrales=stats.poisson(mu=3)\n",
    "vitrales"
   ]
  },
  {
   "cell_type": "code",
   "execution_count": 21,
   "id": "3202f3ed",
   "metadata": {},
   "outputs": [
    {
     "data": {
      "text/plain": [
       "0.14936120510359185"
      ]
     },
     "execution_count": 21,
     "metadata": {},
     "output_type": "execute_result"
    }
   ],
   "source": [
    "vitrales.pmf(1)"
   ]
  },
  {
   "cell_type": "markdown",
   "id": "2db3a8d5",
   "metadata": {},
   "source": [
    "### P(Estrellar entre 4 y 7 por hora)"
   ]
  },
  {
   "cell_type": "code",
   "execution_count": 23,
   "id": "ad22e082",
   "metadata": {},
   "outputs": [
    {
     "data": {
      "text/plain": [
       "0.34086360736141147"
      ]
     },
     "execution_count": 23,
     "metadata": {},
     "output_type": "execute_result"
    }
   ],
   "source": [
    "vitrales.pmf(list(range(4,8))).sum()"
   ]
  },
  {
   "cell_type": "markdown",
   "id": "a08dd091",
   "metadata": {},
   "source": [
    "### P(Estrellar menos de 6 por hora)"
   ]
  },
  {
   "cell_type": "code",
   "execution_count": 26,
   "id": "26348694",
   "metadata": {},
   "outputs": [
    {
     "data": {
      "text/plain": [
       "0.9160820579686966"
      ]
     },
     "execution_count": 26,
     "metadata": {},
     "output_type": "execute_result"
    }
   ],
   "source": [
    "vitrales.cdf(5)"
   ]
  },
  {
   "cell_type": "markdown",
   "id": "051dfb55",
   "metadata": {},
   "source": [
    "### Graficar la Función de Densidad de Probabilidad"
   ]
  },
  {
   "cell_type": "code",
   "execution_count": 27,
   "id": "0708057e",
   "metadata": {},
   "outputs": [
    {
     "data": {
      "image/png": "[encoded data removed]",
      "text/plain": [
       "<Figure size 640x480 with 1 Axes>"
      ]
     },
     "metadata": {},
     "output_type": "display_data"
    }
   ],
   "source": [
    "plt.bar(range(1,10),vitrales.pmf(range(1,10)));"
   ]
  },
  {
   "cell_type": "markdown",
   "id": "fe66d2dd",
   "metadata": {},
   "source": [
    "# Ejercicio 4\n",
    "## El documento sqft.csv, contiene el área en pies cuadrados (sqft) de un conjunto de hogares, con esta información calcular:\n",
    "### P(Una casa posea 830 +/- 25 sqft)\n"
   ]
  },
  {
   "cell_type": "code",
   "execution_count": 28,
   "id": "e0a1bded",
   "metadata": {},
   "outputs": [
    {
     "data": {
      "text/plain": [
       "sqft    0.373\n",
       "dtype: float64"
      ]
     },
     "execution_count": 28,
     "metadata": {},
     "output_type": "execute_result"
    }
   ],
   "source": [
    "df=pd.read_csv('sqft.csv')\n",
    "df[(df['sqft']>805)&(df['sqft']<855)].count()/len(df)*100"
   ]
  },
  {
   "cell_type": "markdown",
   "id": "58b53397",
   "metadata": {},
   "source": [
    "### P(Una casa posea más de 3000 sqft)"
   ]
  },
  {
   "cell_type": "code",
   "execution_count": 29,
   "id": "6c31aff4",
   "metadata": {},
   "outputs": [
    {
     "data": {
      "text/plain": [
       "sqft    0.0\n",
       "dtype: float64"
      ]
     },
     "execution_count": 29,
     "metadata": {},
     "output_type": "execute_result"
    }
   ],
   "source": [
    "df[df['sqft']>3000].count()/len(df)*100"
   ]
  },
  {
   "cell_type": "markdown",
   "id": "820fa6c5",
   "metadata": {},
   "source": [
    "### P(Una casa posea menos de 275 sqft)"
   ]
  },
  {
   "cell_type": "code",
   "execution_count": 30,
   "id": "993d4aab",
   "metadata": {},
   "outputs": [
    {
     "data": {
      "text/plain": [
       "sqft    0.002\n",
       "dtype: float64"
      ]
     },
     "execution_count": 30,
     "metadata": {},
     "output_type": "execute_result"
    }
   ],
   "source": [
    "df[df['sqft']<275].count()/len(df)*100"
   ]
  },
  {
   "cell_type": "markdown",
   "id": "4996b761",
   "metadata": {},
   "source": [
    "### Graficar la Función de Densidad de Probabilidad"
   ]
  },
  {
   "cell_type": "code",
   "execution_count": 31,
   "id": "2c83d8f2",
   "metadata": {},
   "outputs": [
    {
     "data": {
      "image/png": "[encoded data removed]",
      "text/plain": [
       "<Figure size 640x480 with 1 Axes>"
      ]
     },
     "metadata": {},
     "output_type": "display_data"
    }
   ],
   "source": [
    "fig,ax=plt.subplots()\n",
    "ax.hist(df)\n",
    "plt.show()"
   ]
  },
  {
   "cell_type": "markdown",
   "id": "bea1179e",
   "metadata": {},
   "source": [
    "# Ejercicio 5\n",
    "### Un mecanógrafo comete una media de 2 errores por página ¿Cuál es la probabilidad de que una página concreta no tenga errores?\n",
    "#### Pista: Se trata de la tasa de errores por página."
   ]
  },
  {
   "cell_type": "code",
   "execution_count": 32,
   "id": "98f96392",
   "metadata": {},
   "outputs": [
    {
     "data": {
      "text/plain": [
       "<scipy.stats._distn_infrastructure.rv_discrete_frozen at 0x1b842af8c70>"
      ]
     },
     "execution_count": 32,
     "metadata": {},
     "output_type": "execute_result"
    }
   ],
   "source": [
    "meca=stats.poisson(2)\n",
    "meca"
   ]
  },
  {
   "cell_type": "code",
   "execution_count": 33,
   "id": "273777af",
   "metadata": {},
   "outputs": [
    {
     "data": {
      "text/plain": [
       "0.1353352832366127"
      ]
     },
     "execution_count": 33,
     "metadata": {},
     "output_type": "execute_result"
    }
   ],
   "source": [
    "meca.pmf(0)"
   ]
  },
  {
   "cell_type": "code",
   "execution_count": 35,
   "id": "63c83337",
   "metadata": {},
   "outputs": [
    {
     "data": {
      "image/png": "[encoded data removed]",
      "text/plain": [
       "<Figure size 640x480 with 1 Axes>"
      ]
     },
     "metadata": {},
     "output_type": "display_data"
    }
   ],
   "source": [
    "plt.bar((range(0,10)),meca.pmf(range(0,10)));\n",
    "plt.plot((range(0,10)),meca.pmf(range(0,10)),marker='*',c='r');"
   ]
  },
  {
   "cell_type": "code",
   "execution_count": 38,
   "id": "cedf0b01",
   "metadata": {},
   "outputs": [
    {
     "data": {
      "image/png": "[encoded data removed]",
      "text/plain": [
       "<Figure size 640x480 with 1 Axes>"
      ]
     },
     "metadata": {},
     "output_type": "display_data"
    }
   ],
   "source": [
    "plt.bar(range(0,10),meca.cdf(range(0,10)));\n",
    "plt.plot(range(0,10),meca.cdf(range(0,10)),marker='*',c='r');"
   ]
  },
  {
   "cell_type": "markdown",
   "id": "b11d8d53",
   "metadata": {},
   "source": [
    "### Los componentes se embalan en cajas de 20. La probabilidad de que un componente individual sea defectuoso es del 10%. Calcula las siguientes probabilidades:\n",
    "### Que una caja contenga exactamente 2 componentes defectuosos\n",
    "#### Pista: 20 componentes independientes con un estado binario: normal o defectuoso."
   ]
  },
  {
   "cell_type": "code",
   "execution_count": 39,
   "id": "f519930c",
   "metadata": {},
   "outputs": [
    {
     "data": {
      "text/plain": [
       "<scipy.stats._distn_infrastructure.rv_discrete_frozen at 0x1b844dcef40>"
      ]
     },
     "execution_count": 39,
     "metadata": {},
     "output_type": "execute_result"
    }
   ],
   "source": [
    "caja=stats.binom(20,0.1)\n",
    "caja"
   ]
  },
  {
   "cell_type": "code",
   "execution_count": 40,
   "id": "b5c21fc2",
   "metadata": {},
   "outputs": [
    {
     "data": {
      "text/plain": [
       "0.28517980706429846"
      ]
     },
     "execution_count": 40,
     "metadata": {},
     "output_type": "execute_result"
    }
   ],
   "source": [
    "caja.pmf(2)"
   ]
  },
  {
   "cell_type": "markdown",
   "id": "8e39080b",
   "metadata": {},
   "source": [
    "### Qué una caja contenga máximo 2 componentes defectuosos\n",
    "#### Pista: Encuentra todas las posibilidades de que haya al menos 2 componentes defectuosos."
   ]
  },
  {
   "cell_type": "code",
   "execution_count": 42,
   "id": "3a4d6e19",
   "metadata": {},
   "outputs": [
    {
     "data": {
      "text/plain": [
       "0.6082530018748319"
      ]
     },
     "execution_count": 42,
     "metadata": {},
     "output_type": "execute_result"
    }
   ],
   "source": [
    "1-caja.cdf(1)"
   ]
  },
  {
   "cell_type": "markdown",
   "id": "8443f6f8",
   "metadata": {},
   "source": [
    "### Los clientes llegan a un bar local a un ritmo de 30 por hora. ¿Cuál es la probabilidad de que el portero pueda tomarse un descanso de tres minutos para ir al baño sin perder al siguiente cliente?\n",
    "#### Pista 1: Reducir la tasa de persona/hora a persona/minuto\n",
    "#### Pista 2: La probabilidad del tiempo antes de que ocurra el evento sigue una distribución exponencial"
   ]
  },
  {
   "cell_type": "code",
   "execution_count": 15,
   "id": "280c67d0",
   "metadata": {},
   "outputs": [
    {
     "data": {
      "text/plain": [
       "<scipy.stats._distn_infrastructure.rv_frozen at 0x209f05e1790>"
      ]
     },
     "execution_count": 15,
     "metadata": {},
     "output_type": "execute_result"
    }
   ],
   "source": [
    "ppm=30/1*(1/60)\n",
    "bar=stats.expon(scale=ppm)\n",
    "bar"
   ]
  },
  {
   "cell_type": "code",
   "execution_count": 16,
   "id": "ed67b92a",
   "metadata": {},
   "outputs": [
    {
     "data": {
      "image/png": "[encoded data removed]",
      "text/plain": [
       "<Figure size 432x288 with 1 Axes>"
      ]
     },
     "metadata": {
      "needs_background": "light"
     },
     "output_type": "display_data"
    }
   ],
   "source": [
    "plt.bar((range(0,10)),bar.pdf(range(0,10)));"
   ]
  },
  {
   "cell_type": "code",
   "execution_count": 17,
   "id": "7ee08d5a",
   "metadata": {},
   "outputs": [
    {
     "data": {
      "text/plain": [
       "0.9975212478233336"
      ]
     },
     "execution_count": 17,
     "metadata": {},
     "output_type": "execute_result"
    }
   ],
   "source": [
    "bar.cdf(3)"
   ]
  },
  {
   "cell_type": "code",
   "execution_count": 19,
   "id": "3f5c22d1",
   "metadata": {},
   "outputs": [
    {
     "data": {
      "text/plain": [
       "0.0024787521766663767"
      ]
     },
     "execution_count": 19,
     "metadata": {},
     "output_type": "execute_result"
    }
   ],
   "source": [
    "1-bar.cdf(3)"
   ]
  },
  {
   "cell_type": "markdown",
   "id": "5a67823c",
   "metadata": {},
   "source": [
    "# Ejercicio 6\n",
    "## Tienes que encontrar a una persona alta, de al menos 1,80 metros, para que te ayude a alcanzar un tarro de galletas. El 8% de la población mide 1,80 m o más, y la gente pasa de media dos veces por minuto. Si esperas en la acera, ¿cuál es la probabilidad de que tengas que esperar más de diez minutos para conseguir unas galletas?\n",
    "#### Pista 1: Halla la tasa de número de personas altas/minuto.\n",
    "#### Pista 2: El problema se reduce a una función de distribución exponencial."
   ]
  },
  {
   "cell_type": "code",
   "execution_count": 21,
   "id": "ef1631f8",
   "metadata": {},
   "outputs": [
    {
     "data": {
      "image/png": "[encoded data removed]",
      "text/plain": [
       "<Figure size 432x288 with 1 Axes>"
      ]
     },
     "metadata": {
      "needs_background": "light"
     },
     "output_type": "display_data"
    }
   ],
   "source": [
    "alta=stats.expon(0,scale=2)\n",
    "plt.plot(range(0,15),alta.cdf(range(0,15)));\n",
    "plt.scatter(range(0,15),alta.cdf(range(0,15)),c='r',marker='+',s=200);"
   ]
  },
  {
   "cell_type": "code",
   "execution_count": 22,
   "id": "6178f566",
   "metadata": {},
   "outputs": [
    {
     "data": {
      "text/plain": [
       "0.9932620530009145"
      ]
     },
     "execution_count": 22,
     "metadata": {},
     "output_type": "execute_result"
    }
   ],
   "source": [
    "alta.cdf(10)"
   ]
  },
  {
   "cell_type": "code",
   "execution_count": 23,
   "id": "5e068f20",
   "metadata": {},
   "outputs": [
    {
     "data": {
      "text/plain": [
       "0.000539035759926838"
      ]
     },
     "execution_count": 23,
     "metadata": {},
     "output_type": "execute_result"
    }
   ],
   "source": [
    "(1-alta.cdf(10))*0.08"
   ]
  },
  {
   "cell_type": "code",
   "execution_count": 24,
   "id": "522c679f",
   "metadata": {},
   "outputs": [
    {
     "data": {
      "text/plain": [
       "0.07946096424007316"
      ]
     },
     "execution_count": 24,
     "metadata": {},
     "output_type": "execute_result"
    }
   ],
   "source": [
    "alta.cdf(10)*0.08"
   ]
  },
  {
   "cell_type": "markdown",
   "id": "b96798f1",
   "metadata": {},
   "source": [
    "## Un pasajero apresurado llegará varios minutos tarde a un vuelo programado para las 10 de la mañana a Nueva York. Sin embargo, es posible que llegue al vuelo, ya que el embarque siempre se permite hasta las 10:10 A.M., y a veces se permite el embarque hasta las 10:30 AM. Suponiendo que la hora de finalización del intervalo de embarque se distribuye uniformemente sobre los límites anteriores, encuentre la probabilidad de que el pasajero llegue a su vuelo, suponiendo que llega a la puerta de embarque a las 10:25."
   ]
  },
  {
   "cell_type": "code",
   "execution_count": 26,
   "id": "a5c4e534",
   "metadata": {},
   "outputs": [
    {
     "data": {
      "text/plain": [
       "<scipy.stats._distn_infrastructure.rv_frozen at 0x209f0697be0>"
      ]
     },
     "execution_count": 26,
     "metadata": {},
     "output_type": "execute_result"
    }
   ],
   "source": [
    "vuelo=stats.randint(low=10,high=30)\n",
    "vuelo"
   ]
  },
  {
   "cell_type": "code",
   "execution_count": 27,
   "id": "56028664",
   "metadata": {},
   "outputs": [
    {
     "data": {
      "text/plain": [
       "0.05"
      ]
     },
     "execution_count": 27,
     "metadata": {},
     "output_type": "execute_result"
    }
   ],
   "source": [
    "vuelo.pmf(25)"
   ]
  },
  {
   "cell_type": "code",
   "execution_count": 29,
   "id": "1e6135a9",
   "metadata": {},
   "outputs": [
    {
     "data": {
      "image/png": "[encoded data removed]",
      "text/plain": [
       "<Figure size 432x288 with 1 Axes>"
      ]
     },
     "metadata": {
      "needs_background": "light"
     },
     "output_type": "display_data"
    }
   ],
   "source": [
    "plt.plot(range(0,35),vuelo.cdf(range(0,35)));"
   ]
  },
  {
   "cell_type": "code",
   "execution_count": 31,
   "id": "0aed074a",
   "metadata": {},
   "outputs": [
    {
     "data": {
      "image/png": "[encoded data removed]",
      "text/plain": [
       "<Figure size 432x288 with 1 Axes>"
      ]
     },
     "metadata": {
      "needs_background": "light"
     },
     "output_type": "display_data"
    }
   ],
   "source": [
    "plt.bar(range(0,35),vuelo.pmf(range(0,35))); "
   ]
  },
  {
   "cell_type": "code",
   "execution_count": 34,
   "id": "e073750c",
   "metadata": {},
   "outputs": [
    {
     "data": {
      "image/png": "[encoded data removed]",
      "text/plain": [
       "<Figure size 432x288 with 1 Axes>"
      ]
     },
     "metadata": {
      "needs_background": "light"
     },
     "output_type": "display_data"
    }
   ],
   "source": [
    "plt.plot(range(0,35),vuelo.ppf(range(0,35)),marker='+'); "
   ]
  },
  {
   "cell_type": "code",
   "execution_count": 43,
   "id": "e1627ccb",
   "metadata": {},
   "outputs": [
    {
     "data": {
      "text/plain": [
       "<scipy.stats._distn_infrastructure.rv_frozen at 0x209f0bfb7f0>"
      ]
     },
     "execution_count": 43,
     "metadata": {},
     "output_type": "execute_result"
    }
   ],
   "source": [
    "vuelo2=stats.uniform(loc=10,scale=20)\n",
    "vuelo2"
   ]
  },
  {
   "cell_type": "code",
   "execution_count": 44,
   "id": "b701fa80",
   "metadata": {},
   "outputs": [
    {
     "data": {
      "text/plain": [
       "(-0.1, 35.0)"
      ]
     },
     "execution_count": 44,
     "metadata": {},
     "output_type": "execute_result"
    },
    {
     "data": {
      "image/png": "[encoded data removed]",
      "text/plain": [
       "<Figure size 432x288 with 1 Axes>"
      ]
     },
     "metadata": {
      "needs_background": "light"
     },
     "output_type": "display_data"
    }
   ],
   "source": [
    "plt.plot(range(0,35),vuelo2.cdf(range(0,35)));\n",
    "plt.ylim([-0.1,1.1])\n",
    "plt.xlim([-0.1,35])"
   ]
  },
  {
   "cell_type": "code",
   "execution_count": 45,
   "id": "7d9c448d",
   "metadata": {},
   "outputs": [
    {
     "data": {
      "text/plain": [
       "0.05"
      ]
     },
     "execution_count": 45,
     "metadata": {},
     "output_type": "execute_result"
    }
   ],
   "source": [
    "vuelo2.pdf(25)"
   ]
  },
  {
   "cell_type": "markdown",
   "id": "8a551185",
   "metadata": {},
   "source": [
    "# Ejercicio 7 \n",
    "### Tu gato empieza a pedir la cena a las 3:30 todos los días, y sospechas que maúlla a un ritmo fijo. Has observado que aproximadamente una quinta parte de las veces tu gato no maúlla hasta las 3:40, lo que te da 10 minutos inesperados de tranquilidad. ¿Cuál es la probabilidad de que tu gato te deje tranquilo durante 30 minutos?\n",
    "#### Pista : Primero encuentra el parámetro de la distribución, y luego utiliza el parámetro que has encontrado para calcular la probabilidad desconocida."
   ]
  },
  {
   "cell_type": "code",
   "execution_count": 47,
   "id": "94a75366",
   "metadata": {},
   "outputs": [
    {
     "data": {
      "text/plain": [
       "<scipy.stats._distn_infrastructure.rv_frozen at 0x209f1c4d6a0>"
      ]
     },
     "execution_count": 47,
     "metadata": {},
     "output_type": "execute_result"
    }
   ],
   "source": [
    "Nm=1/5\n",
    "gato=stats.poisson(Nm)\n",
    "gato"
   ]
  },
  {
   "cell_type": "code",
   "execution_count": 48,
   "id": "edc8a4fa",
   "metadata": {},
   "outputs": [
    {
     "data": {
      "text/plain": [
       "0.0010916410041039767"
      ]
     },
     "execution_count": 48,
     "metadata": {},
     "output_type": "execute_result"
    }
   ],
   "source": [
    "gato.pmf(3)"
   ]
  },
  {
   "cell_type": "markdown",
   "id": "eb422c17",
   "metadata": {},
   "source": [
    "### De alguna manera, has acabado con dos tipos de tenedores. Están los tenedores buenos, que son grandes y sirven para un bocado sano, pero también están estos pequeños y finos que no entiendes muy bien para qué sirven, probablemente deberías deshacerte de ellos. Necesitas dos tenedores para ti y tu pareja, y coge un puñado de 5. Si hay 14 tenedores en el cajón, de los cuales la mitad son del tipo bueno, ¿cuál es la probabilidad de que tengas al menos los dos tenedores buenos que necesitas?\n",
    "#### Pista 1: Este es un problema de distribución hipogeométrica.\n",
    "#### Pista 2: Descomponga todas las posibilidades de tener al menos dos tenedores buenos, es decir, 2 tenedores buenos, 3, 4 y 5."
   ]
  },
  {
   "cell_type": "code",
   "execution_count": 50,
   "id": "adde5ba5",
   "metadata": {},
   "outputs": [
    {
     "data": {
      "text/plain": [
       "<scipy.stats._distn_infrastructure.rv_frozen at 0x209f1c53400>"
      ]
     },
     "execution_count": 50,
     "metadata": {},
     "output_type": "execute_result"
    }
   ],
   "source": [
    "tenedores=stats.nhypergeom(M=14,n=7,r=5)\n",
    "tenedores"
   ]
  },
  {
   "cell_type": "code",
   "execution_count": 51,
   "id": "21e5d68f",
   "metadata": {},
   "outputs": [
    {
     "data": {
      "text/plain": [
       "0.0917832167832168"
      ]
     },
     "execution_count": 51,
     "metadata": {},
     "output_type": "execute_result"
    }
   ],
   "source": [
    "tenedores.pmf(2) "
   ]
  },
  {
   "cell_type": "code",
   "execution_count": 52,
   "id": "3e5ed348",
   "metadata": {},
   "outputs": [
    {
     "data": {
      "text/plain": [
       "0.15297202797202797"
      ]
     },
     "execution_count": 52,
     "metadata": {},
     "output_type": "execute_result"
    }
   ],
   "source": [
    "tenedores.pmf(3) "
   ]
  },
  {
   "cell_type": "markdown",
   "id": "a83932c4",
   "metadata": {},
   "source": [
    "# Ejercicio 8\n",
    "### De los alumnos de una clase, el 60% son genios, el 70% aman el chocolate y el 40% entran en ambas categorías. Determina la probabilidad de que un alumno seleccionado al azar no sea ni un genio ni un amante del chocolate.\n",
    "#### Pista: Es de tipo conjunto"
   ]
  },
  {
   "cell_type": "code",
   "execution_count": 55,
   "id": "f8a9545b",
   "metadata": {},
   "outputs": [
    {
     "data": {
      "text/plain": [
       "(0.33333333333333337, 0.25)"
      ]
     },
     "execution_count": 55,
     "metadata": {},
     "output_type": "execute_result"
    }
   ],
   "source": [
    "P1=0.1/0.3\n",
    "P2=0.1/0.4\n",
    "P1,P2"
   ]
  },
  {
   "cell_type": "markdown",
   "id": "55391158",
   "metadata": {},
   "source": [
    "### Se lanza tres veces, de forma independiente, un dado justo de 6 caras. ¿Qué es más probable: una suma de 11 o una suma de 12?"
   ]
  },
  {
   "cell_type": "code",
   "execution_count": 56,
   "id": "825fabee",
   "metadata": {},
   "outputs": [
    {
     "name": "stdout",
     "output_type": "stream",
     "text": [
      "Lanzamiento  0 : 1\n",
      "Lanzamiento  1 : 2\n",
      "Lanzamiento  2 : 2\n",
      "Lanzamiento  3 : 4\n",
      "Lanzamiento  4 : 2\n",
      "Lanzamiento  5 : 3\n",
      "Lanzamiento  6 : 5\n",
      "Lanzamiento  7 : 4\n",
      "Lanzamiento  8 : 5\n",
      "Lanzamiento  9 : 4\n",
      "Lanzamiento  10 : 1\n",
      "Lanzamiento  11 : 5\n",
      "Lanzamiento  12 : 4\n",
      "Lanzamiento  13 : 3\n",
      "Lanzamiento  14 : 4\n",
      "Lanzamiento  15 : 2\n",
      "Lanzamiento  16 : 3\n",
      "Lanzamiento  17 : 2\n",
      "Lanzamiento  18 : 1\n",
      "Lanzamiento  19 : 4\n",
      "Lanzamiento  20 : 3\n",
      "Lanzamiento  21 : 1\n",
      "Lanzamiento  22 : 3\n",
      "Lanzamiento  23 : 3\n",
      "Lanzamiento  24 : 4\n",
      "Lanzamiento  25 : 4\n",
      "Lanzamiento  26 : 5\n",
      "Lanzamiento  27 : 2\n",
      "Lanzamiento  28 : 4\n",
      "Lanzamiento  29 : 3\n"
     ]
    }
   ],
   "source": [
    "dado=stats.randint(low=1,high=6)\n",
    "for i in range(30):\n",
    "    print('Lanzamiento ',i,':',dado.rvs())"
   ]
  },
  {
   "cell_type": "code",
   "execution_count": 59,
   "id": "15583701",
   "metadata": {},
   "outputs": [
    {
     "name": "stdout",
     "output_type": "stream",
     "text": [
      "Es más probable obtener la suma de 11: 12.5% que la uma de 12: 11.6%\n"
     ]
    }
   ],
   "source": [
    "suma11=[]\n",
    "suma12=[]\n",
    "\n",
    "for i in range(1,7):\n",
    "    for j in range (1,7):\n",
    "        for k in range(1,7):\n",
    "            suma=i+j+k\n",
    "            if suma==11:\n",
    "                suma11.append(suma)\n",
    "            elif suma==12:\n",
    "                suma12.append(suma)\n",
    "            \n",
    "total=6**3\n",
    "prob11=np.round(len(suma11)/total*100,1)\n",
    "prob12=np.round(len(suma12)/total*100,1)\n",
    "\n",
    "if prob11>prob12:\n",
    "    print(f'Es más probable obtener la suma de 11: {prob11}% que la uma de 12: {prob12}%')\n",
    "else:\n",
    "    print(f'Es más probable obtener la suma de 12: {prob12}% que la uma de 11: {prob11}%')\n",
    "    "
   ]
  },
  {
   "cell_type": "markdown",
   "id": "f2edcbc0",
   "metadata": {},
   "source": [
    "### Hay que repartir 90 alumnos al azar en 3 clases de igual tamaño. Joe y Jane son dos de los estudiantes. ¿Cuál es la probabilidad de que acaben en la misma clase?"
   ]
  },
  {
   "cell_type": "code",
   "execution_count": 61,
   "id": "306d1046",
   "metadata": {},
   "outputs": [],
   "source": [
    "total=90\n",
    "grupos=3\n",
    "EpC=total/grupos\n",
    "JJ=2\n",
    "\n",
    "def factorial(n):\n",
    "    if n==0:\n",
    "        res=1\n",
    "    else:\n",
    "        res=n*factorial(n-1)\n",
    "    return res"
   ]
  },
  {
   "cell_type": "code",
   "execution_count": 64,
   "id": "cf0b4308",
   "metadata": {},
   "outputs": [
    {
     "name": "stdout",
     "output_type": "stream",
     "text": [
      "La probabilidad de que Joe y Jane estén juntos es de: 32.58%\n"
     ]
    }
   ],
   "source": [
    "combinaciones=factorial(total)/(factorial(total-EpC)*factorial(EpC))\n",
    "DosJ=factorial(total-JJ)/(factorial((total-JJ)-(EpC-JJ))*factorial(EpC-JJ))\n",
    "print(f'La probabilidad de que Joe y Jane estén juntos es de: {np.round(3*(DosJ/combinaciones)*100,2)}%')"
   ]
  },
  {
   "cell_type": "markdown",
   "id": "5ffe995d",
   "metadata": {},
   "source": [
    "### Se reparte una baraja bien barajada de 52 cartas a 4 jugadores. Encuentra la probabilidad de que cada uno de los jugadores obtenga un as.\n",
    "#### Pista: Los últimos tres son de tipo combinatoria"
   ]
  },
  {
   "cell_type": "code",
   "execution_count": 71,
   "id": "aa3f1228",
   "metadata": {},
   "outputs": [
    {
     "name": "stdout",
     "output_type": "stream",
     "text": [
      "La probabilidad de que cada jugador posea un As es de: 10.55%\n"
     ]
    }
   ],
   "source": [
    "total=52\n",
    "manos=4\n",
    "CpM=total/manos\n",
    "As=1\n",
    "\n",
    "combinaciones=factorial(total)/(factorial(manos)*factorial(total-manos))\n",
    "As=factorial(CpM)/(factorial(As)*factorial(CpM-As))\n",
    "print(f'La probabilidad de que cada jugador posea un As es de: {np.round((As**manos/combinaciones)*100,2)}%')"
   ]
  }
 ],
 "metadata": {
  "kernelspec": {
   "display_name": "Python 3 (ipykernel)",
   "language": "python",
   "name": "python3"
  },
  "language_info": {
   "codemirror_mode": {
    "name": "ipython",
    "version": 3
   },
   "file_extension": ".py",
   "mimetype": "text/x-python",
   "name": "python",
   "nbconvert_exporter": "python",
   "pygments_lexer": "ipython3",
   "version": "3.9.12"
  }
 },
 "nbformat": 4,
 "nbformat_minor": 5
}
