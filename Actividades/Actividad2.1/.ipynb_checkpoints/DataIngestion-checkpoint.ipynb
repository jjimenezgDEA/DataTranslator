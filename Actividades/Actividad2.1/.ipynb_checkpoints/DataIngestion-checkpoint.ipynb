{
 "cells": [
  {
   "cell_type": "markdown",
   "id": "eae43958",
   "metadata": {},
   "source": [
    "# Parte 1\n",
    "\n",
    "- Leer los archivos:\n",
    "    - Machine-readable-business-employmet-data-sep-2021-quarter.csv\n",
    "    - annual-enterprise-survey-2020-financial-year-provisional-csv.csv\n",
    "    - electronic-card-transactions-November-2021-csv-tables.csv\n",
    "- Convertir los archivos a dataframes"
   ]
  },
  {
   "cell_type": "code",
   "execution_count": 13,
   "id": "c6f1c8cd",
   "metadata": {},
   "outputs": [],
   "source": [
    "import pandas as pd\n",
    "import pickle\n",
    "pth='Archivos-DataIngestion/'"
   ]
  },
  {
   "cell_type": "code",
   "execution_count": 14,
   "id": "19195669",
   "metadata": {},
   "outputs": [],
   "source": [
    "employment=pd.read_csv(pth+'Machine-readable-business-employment-data-sep-2021-quarter.csv')\n",
    "survey=pd.read_csv(pth+'annual-enterprise-survey-2020-financial-year-provisional-csv.csv')\n",
    "eTransactions=pd.read_csv(pth+'electronic-card-transactions-November-2021-csv-tables.csv')"
   ]
  },
  {
   "cell_type": "markdown",
   "id": "52437369",
   "metadata": {},
   "source": [
    "# Parte 2\n",
    "\n",
    "- Leer los archivos:\n",
    "    - SampleData.xlsx\n",
    "    - sampledatafoodsales.xlsx\n",
    "    - sampledatainsurance.xlsx\n",
    "- Guardarlos como dataframes.\n",
    "- *Revisar la hoja que se debe utilizar"
   ]
  },
  {
   "cell_type": "code",
   "execution_count": 15,
   "id": "ffacaf68",
   "metadata": {},
   "outputs": [],
   "source": [
    "sampledata=pd.read_excel(pth+'SampleData.xlsx',sheet_name='SalesOrders')\n",
    "foodsales=pd.read_excel(pth+'sampledatafoodsales.xlsx',sheet_name='FoodSales')\n",
    "insurance=pd.read_excel(pth+'sampledatainsurance.xlsx',sheet_name='PolicyData')"
   ]
  },
  {
   "cell_type": "markdown",
   "id": "34154e20",
   "metadata": {},
   "source": [
    "# Parte 3\n",
    "\n",
    "- Leer los siguientes archivos JSON:\n",
    "    - https://jsonplaceholder.typicode.com/todos\n",
    "    - https://jsonplaceholder.typicode.com/photos\n",
    "    - https://jsonplaceholder.typicode.com/albums\n",
    "- Guardarlos como dataframes"
   ]
  },
  {
   "cell_type": "code",
   "execution_count": 16,
   "id": "c2fc06de",
   "metadata": {},
   "outputs": [],
   "source": [
    "import requests\n",
    "todos= pd.json_normalize(requests.get('https://jsonplaceholder.typicode.com/todos').json())\n",
    "photos=pd.json_normalize(requests.get('https://jsonplaceholder.typicode.com/photos').json())\n",
    "albums=pd.json_normalize(requests.get('https://jsonplaceholder.typicode.com/albums').json())"
   ]
  },
  {
   "cell_type": "markdown",
   "id": "6d5a7bda",
   "metadata": {},
   "source": [
    "# Parte 4\n",
    "\n",
    "- Convertir todos los dataframes anteriores a:\n",
    "- CSV\n",
    "- Excel\n",
    "- JSON"
   ]
  },
  {
   "cell_type": "code",
   "execution_count": 17,
   "id": "0fa83264",
   "metadata": {},
   "outputs": [],
   "source": [
    "for i,df in enumerate([employment,survey,eTransactions,sampledata,foodsales,insurance,todos,photos,albums]):\n",
    "    df.to_csv(f\"./{pth}{i}.csv\")\n",
    "    df.to_excel(f\"./{pth}{i}.xlsx\")\n",
    "    df.to_json(f\"./{pth}{i}.json\")\n"
   ]
  },
  {
   "cell_type": "markdown",
   "id": "d900fac5",
   "metadata": {},
   "source": [
    "# Parte 5\n",
    "\n",
    "- Hacer pickle todos los dataframes anteriores\n",
    "- Un-Pickle todos los archivos Pickleados "
   ]
  },
  {
   "cell_type": "code",
   "execution_count": 18,
   "id": "346f3ee2",
   "metadata": {},
   "outputs": [],
   "source": [
    "for i,df in enumerate([employment,survey,eTransactions,sampledata,foodsales,insurance,todos,photos,albums]):\n",
    "    with open(f\"./{pth}{i}.pickle\",\"wb\") as f:\n",
    "        pickle.dump(df,f,protocol=5)"
   ]
  },
  {
   "cell_type": "code",
   "execution_count": 37,
   "id": "41bfdf5d",
   "metadata": {},
   "outputs": [
    {
     "name": "stdout",
     "output_type": "stream",
     "text": [
      "(19093, 14)\n",
      "(37080, 10)\n",
      "(18240, 14)\n",
      "(43, 7)\n",
      "(244, 8)\n",
      "(500, 10)\n",
      "(200, 4)\n",
      "(5000, 5)\n",
      "(100, 3)\n"
     ]
    }
   ],
   "source": [
    "for i,df in enumerate([employment,survey,eTransactions,sampledata,foodsales,insurance,todos,photos,albums]):\n",
    "    with open(f\"./{pth}{i}.pickle\",\"rb\") as f:\n",
    "        print(pickle.load(f).shape)"
   ]
  }
 ],
 "metadata": {
  "kernelspec": {
   "display_name": "Python 3 (ipykernel)",
   "language": "python",
   "name": "python3"
  },
  "language_info": {
   "codemirror_mode": {
    "name": "ipython",
    "version": 3
   },
   "file_extension": ".py",
   "mimetype": "text/x-python",
   "name": "python",
   "nbconvert_exporter": "python",
   "pygments_lexer": "ipython3",
   "version": "3.9.13"
  }
 },
 "nbformat": 4,
 "nbformat_minor": 5
}
