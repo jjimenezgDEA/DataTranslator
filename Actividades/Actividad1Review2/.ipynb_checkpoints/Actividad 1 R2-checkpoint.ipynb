{
 "cells": [
  {
   "cell_type": "markdown",
   "metadata": {
    "tags": []
   },
   "source": [
    "# Pandas: Práctica"
   ]
  },
  {
   "cell_type": "markdown",
   "metadata": {},
   "source": [
    "## Objetivos\n",
    "\n",
    "* Crear objetos de tipo `Series` y `DataFrame` a partir de datos de Python. \n",
    "* Crear objetos de tipo `DataFrame` a partir de archivos.\n",
    "* Indexar y cortar objetos con `pandas`.\n",
    "* Agregar datos en el `DataFrame`s.\n",
    "* Unir múltiples objetos de tipo `DataFrame`."
   ]
  },
  {
   "cell_type": "markdown",
   "metadata": {},
   "source": [
    "## ¿Qué es Pandas?\n",
    "\n",
    "Una biblioteca de Python que proporciona estructuras de datos y herramientas de análisis de datos para datos tabulares de muchos tipos. Piensa en un `DataFrame` como una tabla en SQL. \n",
    "\n",
    "Usaremos esto prácticamente todos los días de aquí en adelante. Así que asegúrate de completar la tarea, e incluso hacerla de nuevo si no te sientes cómodo."
   ]
  },
  {
   "cell_type": "markdown",
   "metadata": {},
   "source": [
    "## Beneficios\n",
    "\n",
    "  * Almacenamiento y procesamiento eficiente de los datos.\n",
    "  * Incluye muchas funciones incorporadas para la transformación de datos, agregaciones y gráficos.\n",
    "  * Excelente para el trabajo exploratorio.\n",
    "\n",
    "## No tan buenas\n",
    "\n",
    "  * No se adapta muy bien a conjuntos de datos muy grandes.\n",
    "\n",
    "## Documentación:\n",
    "\n",
    "Documentación de pandas:\n",
    "\n",
    "  * http://pandas.pydata.org/pandas-docs/stable/index.html\n",
    "  \n",
    "  \n",
    "Cheatsheet de utilidad:\n",
    "\n",
    "  * https://pandas.pydata.org/Pandas_Cheat_Sheet.pdf\n",
    "\n",
    "\n",
    "Lectura extra:\n",
    "\n",
    "\n",
    "  * [Indexing and Selecting](https://pandas.pydata.org/pandas-docs/stable/indexing.html)\n",
    "  * [Advanced Indexing](http://pandas.pydata.org/pandas-docs/stable/advanced.html#advanced-mi-slicers)\n",
    "  * [Group-by](https://pandas.pydata.org/pandas-docs/stable/groupby.html)"
   ]
  },
  {
   "cell_type": "markdown",
   "metadata": {
    "tags": []
   },
   "source": [
    "## Imports"
   ]
  },
  {
   "cell_type": "code",
   "execution_count": 1,
   "metadata": {},
   "outputs": [],
   "source": [
    "%matplotlib inline\n",
    "\n",
    "import pandas as pd\n",
    "import numpy as np\n",
    "import matplotlib.pyplot as plt\n",
    "\n",
    "plt.style.use('ggplot')"
   ]
  },
  {
   "cell_type": "markdown",
   "metadata": {},
   "source": [
    "## Numpy"
   ]
  },
  {
   "cell_type": "markdown",
   "metadata": {},
   "source": [
    "`pandas` se construye a partir de los tipos de datos de `numpy` una biblioteca de nivel inferior.\n",
    "\n",
    "El objeto básico de `numpy` es un `array`."
   ]
  },
  {
   "cell_type": "code",
   "execution_count": 2,
   "metadata": {},
   "outputs": [
    {
     "data": {
      "text/plain": [
       "array([0, 1, 2, 3, 4, 5])"
      ]
     },
     "execution_count": 2,
     "metadata": {},
     "output_type": "execute_result"
    }
   ],
   "source": [
    "x = np.array([0, 1, 2, 3, 4, 5])\n",
    "x"
   ]
  },
  {
   "cell_type": "markdown",
   "metadata": {},
   "source": [
    "Los arrays cuentan con operaciones muy útiles."
   ]
  },
  {
   "cell_type": "code",
   "execution_count": 3,
   "metadata": {},
   "outputs": [
    {
     "data": {
      "text/plain": [
       "15"
      ]
     },
     "execution_count": 3,
     "metadata": {},
     "output_type": "execute_result"
    }
   ],
   "source": [
    "x.sum()  # <-- Suma de números"
   ]
  },
  {
   "cell_type": "markdown",
   "metadata": {},
   "source": [
    "Los arrays pueden ser multidimensionales. Un array **bidimensional** es una matriz."
   ]
  },
  {
   "cell_type": "code",
   "execution_count": 4,
   "metadata": {},
   "outputs": [
    {
     "data": {
      "text/plain": [
       "array([[0, 1, 2],\n",
       "       [1, 2, 3],\n",
       "       [2, 3, 4],\n",
       "       [5, 6, 7]])"
      ]
     },
     "execution_count": 4,
     "metadata": {},
     "output_type": "execute_result"
    }
   ],
   "source": [
    "M = np.array([\n",
    "    [0, 1, 2],\n",
    "    [1, 2, 3],\n",
    "    [2, 3, 4],\n",
    "    [5, 6, 7]\n",
    "])\n",
    "\n",
    "M"
   ]
  },
  {
   "cell_type": "code",
   "execution_count": 5,
   "metadata": {},
   "outputs": [
    {
     "name": "stdout",
     "output_type": "stream",
     "text": [
      "(6,)\n",
      "(4, 3)\n"
     ]
    }
   ],
   "source": [
    "print(x.shape)\n",
    "print(M.shape)"
   ]
  },
  {
   "cell_type": "markdown",
   "metadata": {},
   "source": [
    "## Serie"
   ]
  },
  {
   "cell_type": "code",
   "execution_count": 6,
   "metadata": {},
   "outputs": [
    {
     "data": {
      "text/plain": [
       "0    34\n",
       "1    35\n",
       "2    36\n",
       "3    37\n",
       "4    38\n",
       "dtype: int32"
      ]
     },
     "execution_count": 6,
     "metadata": {},
     "output_type": "execute_result"
    }
   ],
   "source": [
    "heights = np.array([34, 35, 36, 37, 38])\n",
    "student_heights = pd.Series(heights)\n",
    "student_heights"
   ]
  },
  {
   "cell_type": "markdown",
   "metadata": {},
   "source": [
    "Para acceder al array debe ser a través de '.values'."
   ]
  },
  {
   "cell_type": "code",
   "execution_count": 7,
   "metadata": {},
   "outputs": [
    {
     "data": {
      "text/plain": [
       "array([34, 35, 36, 37, 38])"
      ]
     },
     "execution_count": 7,
     "metadata": {},
     "output_type": "execute_result"
    }
   ],
   "source": [
    "student_heights.values"
   ]
  },
  {
   "cell_type": "markdown",
   "metadata": {},
   "source": [
    "Losnúmeros '0,1,2,3,4' son el índice por defecto. \n",
    "\n",
    "Se puede acceder al índice a través de '.index'"
   ]
  },
  {
   "cell_type": "code",
   "execution_count": 8,
   "metadata": {},
   "outputs": [
    {
     "data": {
      "text/plain": [
       "RangeIndex(start=0, stop=5, step=1)"
      ]
     },
     "execution_count": 8,
     "metadata": {},
     "output_type": "execute_result"
    }
   ],
   "source": [
    "student_heights.index"
   ]
  },
  {
   "cell_type": "markdown",
   "metadata": {},
   "source": [
    "El índice es un [iterable](https://www.programiz.com/python-programming/iterator)."
   ]
  },
  {
   "cell_type": "code",
   "execution_count": 9,
   "metadata": {},
   "outputs": [
    {
     "data": {
      "text/plain": [
       "pandas.core.indexes.range.RangeIndex"
      ]
     },
     "execution_count": 9,
     "metadata": {},
     "output_type": "execute_result"
    }
   ],
   "source": [
    "type(student_heights.index)"
   ]
  },
  {
   "cell_type": "code",
   "execution_count": 10,
   "metadata": {},
   "outputs": [
    {
     "data": {
      "text/plain": [
       "[0, 1, 2, 3, 4]"
      ]
     },
     "execution_count": 10,
     "metadata": {},
     "output_type": "execute_result"
    }
   ],
   "source": [
    "list(student_heights.index)"
   ]
  },
  {
   "cell_type": "markdown",
   "metadata": {},
   "source": [
    "Es posible cambiar el índice manualmente"
   ]
  },
  {
   "cell_type": "code",
   "execution_count": 11,
   "metadata": {},
   "outputs": [],
   "source": [
    "student_heights.index = [\"Tomas\", \"Angel\", \"Stacy\", \"Michaela\", \"Haden\"]"
   ]
  },
  {
   "cell_type": "code",
   "execution_count": 12,
   "metadata": {},
   "outputs": [
    {
     "data": {
      "text/plain": [
       "Tomas       34\n",
       "Angel       35\n",
       "Stacy       36\n",
       "Michaela    37\n",
       "Haden       38\n",
       "dtype: int32"
      ]
     },
     "execution_count": 12,
     "metadata": {},
     "output_type": "execute_result"
    }
   ],
   "source": [
    "student_heights"
   ]
  },
  {
   "cell_type": "markdown",
   "metadata": {},
   "source": [
    "Ahora es posible utilizar palabras para acceder a los ítems de la Serie."
   ]
  },
  {
   "cell_type": "code",
   "execution_count": 13,
   "metadata": {},
   "outputs": [
    {
     "data": {
      "text/plain": [
       "37"
      ]
     },
     "execution_count": 13,
     "metadata": {},
     "output_type": "execute_result"
    }
   ],
   "source": [
    "student_heights['Michaela']"
   ]
  },
  {
   "cell_type": "markdown",
   "metadata": {},
   "source": [
    "También se puede acceder a un ítem por su orden."
   ]
  },
  {
   "cell_type": "code",
   "execution_count": 14,
   "metadata": {},
   "outputs": [
    {
     "data": {
      "text/plain": [
       "36"
      ]
     },
     "execution_count": 14,
     "metadata": {},
     "output_type": "execute_result"
    }
   ],
   "source": [
    "student_heights[2]"
   ]
  },
  {
   "cell_type": "markdown",
   "metadata": {},
   "source": [
    "Utilizar métodos de numpy."
   ]
  },
  {
   "cell_type": "code",
   "execution_count": 15,
   "metadata": {},
   "outputs": [
    {
     "data": {
      "text/plain": [
       "36.0"
      ]
     },
     "execution_count": 15,
     "metadata": {},
     "output_type": "execute_result"
    }
   ],
   "source": [
    "student_heights.mean()"
   ]
  },
  {
   "cell_type": "markdown",
   "metadata": {},
   "source": [
    "Se pueden ver los parámetros de una función escribiendo\n",
    "```python\n",
    "pd.Series()\n",
    "```\n",
    "colocando el cursor dentro del paréntesis y presionando 'shift+tab'."
   ]
  },
  {
   "cell_type": "code",
   "execution_count": 24,
   "metadata": {},
   "outputs": [
    {
     "name": "stderr",
     "output_type": "stream",
     "text": [
      "C:\\Users\\JJIMENEZG\\AppData\\Local\\Temp\\ipykernel_1472\\25374279.py:2: FutureWarning: The default dtype for empty Series will be 'object' instead of 'float64' in a future version. Specify a dtype explicitly to silence this warning.\n",
      "  pd.Series()\n"
     ]
    },
    {
     "data": {
      "text/plain": [
       "Series([], dtype: float64)"
      ]
     },
     "execution_count": 24,
     "metadata": {},
     "output_type": "execute_result"
    }
   ],
   "source": [
    "#Código:\n",
    "pd.Series()"
   ]
  },
  {
   "cell_type": "markdown",
   "metadata": {},
   "source": [
    "### 1.- Cuáles son los parámetros de pd.Series()?"
   ]
  },
  {
   "cell_type": "code",
   "execution_count": 26,
   "metadata": {},
   "outputs": [
    {
     "ename": "SyntaxError",
     "evalue": "invalid syntax (4166620715.py, line 2)",
     "output_type": "error",
     "traceback": [
      "\u001b[1;36m  File \u001b[1;32m\"C:\\Users\\JJIMENEZG\\AppData\\Local\\Temp\\ipykernel_1472\\4166620715.py\"\u001b[1;36m, line \u001b[1;32m2\u001b[0m\n\u001b[1;33m    data: arreglo, iterable, diccionario o escalar. Contiene datos almacenados en Series. Si los datos son un diccionario, el orden de los argumentos se mantiene\u001b[0m\n\u001b[1;37m                 ^\u001b[0m\n\u001b[1;31mSyntaxError\u001b[0m\u001b[1;31m:\u001b[0m invalid syntax\n"
     ]
    }
   ],
   "source": [
    "#Código:\n",
    "data: arreglo, iterable, diccionario o escalar. Contiene datos almacenados en Series. Si los datos son un diccionario, el orden de los argumentos se mantiene "
   ]
  },
  {
   "cell_type": "markdown",
   "metadata": {},
   "source": [
    "> POR FAVOR, NUNCA JAMÁS COPIE Y PEGUE MIENTRAS HACE ESTAS PREGUNTAS. No aprenderás a codificar de memoria. Y en tres semanas te darás cuenta de que no lo sabes. Lo hemos visto una y otra vez. Vale la pena. Abre una segunda ventana si necesitas copiar código.\n",
    "\n",
    "> Para las variables que has definido o cargado utiliza el 'tabulador'. Por ejemplo:\n",
    ">\n",
    ">\n",
    "> Abajo escribe 'bra' + tabulador y observa cómo se rellena el resto. Puede ser difícil de recordar, pero realmente ayuda.\n",
    "\n",
    "\n",
    "## 2.- Hacer una serie 'brag_vow' con índice 'i am a numpy champ'. And values 'So Pandas here I come\".\n",
    "\n",
    "```python \n",
    "\n",
    "print(brag_vow)\n",
    "\n",
    "I            So\n",
    "am       Pandas\n",
    "a          here\n",
    "numpy         I\n",
    "champ      come\n",
    "dtype: object\n",
    "```"
   ]
  },
  {
   "cell_type": "code",
   "execution_count": 28,
   "metadata": {},
   "outputs": [
    {
     "data": {
      "text/plain": [
       "I            So\n",
       "am       Pandas\n",
       "a          here\n",
       "numpy         I\n",
       "champ      come\n",
       "dtype: object"
      ]
     },
     "execution_count": 28,
     "metadata": {},
     "output_type": "execute_result"
    }
   ],
   "source": [
    "#Código:\n",
    "\n",
    "brag_vow=pd.Series(data=[\"So\",\"Pandas\",\"here\",\"I\",\"come\"],index=[\"I\",\"am\",\"a\",\"numpy\",\"champ\"])\n",
    "brag_vow"
   ]
  },
  {
   "cell_type": "markdown",
   "metadata": {},
   "source": [
    "### 3.- Imprimir los últimos tres elementos de 'brag_vow'\n",
    "\n",
    "```python \n",
    "a          here\n",
    "numpy         I\n",
    "champ      come\n",
    "dtype: object\n",
    "```"
   ]
  },
  {
   "cell_type": "code",
   "execution_count": 34,
   "metadata": {},
   "outputs": [
    {
     "data": {
      "text/plain": [
       "a        here\n",
       "numpy       I\n",
       "champ    come\n",
       "dtype: object"
      ]
     },
     "execution_count": 34,
     "metadata": {},
     "output_type": "execute_result"
    }
   ],
   "source": [
    "#Código:\n",
    "brag_vow[-3:]"
   ]
  },
  {
   "cell_type": "markdown",
   "metadata": {},
   "source": [
    "### 4.- Imprimir los elementos relacionados al index 'I a champ' (No utilizar índice numérico)\n",
    "\n",
    "```python \n",
    "I          So\n",
    "a        here\n",
    "champ    come\n",
    "dtype: object\n",
    "```"
   ]
  },
  {
   "cell_type": "code",
   "execution_count": 35,
   "metadata": {},
   "outputs": [
    {
     "data": {
      "text/plain": [
       "I          So\n",
       "a        here\n",
       "champ    come\n",
       "dtype: object"
      ]
     },
     "execution_count": 35,
     "metadata": {},
     "output_type": "execute_result"
    }
   ],
   "source": [
    "#Código:\n",
    "brag_vow[[\"I\",\"a\",\"champ\"]]"
   ]
  },
  {
   "cell_type": "markdown",
   "metadata": {},
   "source": [
    "### 5.- De \"student_heights\", imprimir los estudiantes cuya estatura es un numero par por medio de un índice booleano.\n",
    "\n",
    "```python \n",
    "Tomas    34\n",
    "Stacy    36\n",
    "Haden    38\n",
    "dtype: int64\n",
    "```"
   ]
  },
  {
   "cell_type": "code",
   "execution_count": 39,
   "metadata": {},
   "outputs": [
    {
     "data": {
      "text/plain": [
       "Tomas    34\n",
       "Stacy    36\n",
       "Haden    38\n",
       "dtype: int32"
      ]
     },
     "execution_count": 39,
     "metadata": {},
     "output_type": "execute_result"
    }
   ],
   "source": [
    "#Código:\n",
    "student_heights[student_heights.values%2==0]\n"
   ]
  },
  {
   "cell_type": "markdown",
   "metadata": {},
   "source": [
    "### 6.- Imprimir los valores de brag_vow:\n",
    "\n",
    "```python \n",
    "array(['So', 'Pandas', 'here', 'I', 'come'], dtype=object)\n",
    "```"
   ]
  },
  {
   "cell_type": "code",
   "execution_count": 40,
   "metadata": {},
   "outputs": [
    {
     "data": {
      "text/plain": [
       "array(['So', 'Pandas', 'here', 'I', 'come'], dtype=object)"
      ]
     },
     "execution_count": 40,
     "metadata": {},
     "output_type": "execute_result"
    }
   ],
   "source": [
    "#Código:\n",
    "brag_vow.values\n"
   ]
  },
  {
   "cell_type": "markdown",
   "metadata": {},
   "source": [
    "### 7.- Imprimir el index de brag_vow:\n",
    "\n",
    "```python \n",
    "Index(['I', 'am', 'a', 'numpy', 'champ'], dtype='object')\n",
    "```"
   ]
  },
  {
   "cell_type": "code",
   "execution_count": 41,
   "metadata": {},
   "outputs": [
    {
     "data": {
      "text/plain": [
       "Index(['I', 'am', 'a', 'numpy', 'champ'], dtype='object')"
      ]
     },
     "execution_count": 41,
     "metadata": {},
     "output_type": "execute_result"
    }
   ],
   "source": [
    "#Código:\n",
    "brag_vow.index\n"
   ]
  },
  {
   "cell_type": "markdown",
   "metadata": {},
   "source": [
    "# Nombre de una Serie"
   ]
  },
  {
   "cell_type": "markdown",
   "metadata": {},
   "source": [
    "Las Series pueden tener un nombre"
   ]
  },
  {
   "cell_type": "code",
   "execution_count": 42,
   "metadata": {},
   "outputs": [],
   "source": [
    "student_grades = pd.Series([45,56,78,89,90], \n",
    "                           index=['Tomas', 'Angel', 'Stacy', 'Michaela', 'Haden'], \n",
    "                           name='grades')"
   ]
  },
  {
   "cell_type": "code",
   "execution_count": 43,
   "metadata": {},
   "outputs": [
    {
     "data": {
      "text/plain": [
       "Tomas       45\n",
       "Angel       56\n",
       "Stacy       78\n",
       "Michaela    89\n",
       "Haden       90\n",
       "Name: grades, dtype: int64"
      ]
     },
     "execution_count": 43,
     "metadata": {},
     "output_type": "execute_result"
    }
   ],
   "source": [
    "student_grades"
   ]
  },
  {
   "cell_type": "markdown",
   "metadata": {},
   "source": [
    "Observe el Name:"
   ]
  },
  {
   "cell_type": "markdown",
   "metadata": {},
   "source": [
    "### Crear Dataframes a partir de objetos"
   ]
  },
  {
   "cell_type": "markdown",
   "metadata": {},
   "source": [
    "Tenemos dos series: student_heights y student_grades. Cada una tiene los mismos estudiantes en el índice. ¿No sería genial si pudiéramos acceder a todos los datos de los estudiantes a la vez?\n",
    "\n",
    "Para ello, utilizaremos un dataframe."
   ]
  },
  {
   "cell_type": "code",
   "execution_count": 44,
   "metadata": {},
   "outputs": [
    {
     "data": {
      "text/html": [
       "<div>\n",
       "<style scoped>\n",
       "    .dataframe tbody tr th:only-of-type {\n",
       "        vertical-align: middle;\n",
       "    }\n",
       "\n",
       "    .dataframe tbody tr th {\n",
       "        vertical-align: top;\n",
       "    }\n",
       "\n",
       "    .dataframe thead th {\n",
       "        text-align: right;\n",
       "    }\n",
       "</style>\n",
       "<table border=\"1\" class=\"dataframe\">\n",
       "  <thead>\n",
       "    <tr style=\"text-align: right;\">\n",
       "      <th></th>\n",
       "      <th>grade</th>\n",
       "      <th>height</th>\n",
       "    </tr>\n",
       "  </thead>\n",
       "  <tbody>\n",
       "    <tr>\n",
       "      <th>Tomas</th>\n",
       "      <td>45</td>\n",
       "      <td>34</td>\n",
       "    </tr>\n",
       "    <tr>\n",
       "      <th>Angel</th>\n",
       "      <td>56</td>\n",
       "      <td>35</td>\n",
       "    </tr>\n",
       "    <tr>\n",
       "      <th>Stacy</th>\n",
       "      <td>78</td>\n",
       "      <td>36</td>\n",
       "    </tr>\n",
       "    <tr>\n",
       "      <th>Michaela</th>\n",
       "      <td>89</td>\n",
       "      <td>37</td>\n",
       "    </tr>\n",
       "    <tr>\n",
       "      <th>Haden</th>\n",
       "      <td>90</td>\n",
       "      <td>38</td>\n",
       "    </tr>\n",
       "  </tbody>\n",
       "</table>\n",
       "</div>"
      ],
      "text/plain": [
       "          grade  height\n",
       "Tomas        45      34\n",
       "Angel        56      35\n",
       "Stacy        78      36\n",
       "Michaela     89      37\n",
       "Haden        90      38"
      ]
     },
     "execution_count": 44,
     "metadata": {},
     "output_type": "execute_result"
    }
   ],
   "source": [
    "students = pd.DataFrame({'grade':student_grades, 'height':student_heights})\n",
    "students\n"
   ]
  },
  {
   "cell_type": "markdown",
   "metadata": {},
   "source": [
    "Hay al menos dos maneras de pensar en un dataframe.\n",
    "\n",
    "Una es como una serie múltiple con índice coincidente. La otra es como un array de numpy con columnas y filas explícitamente etiquetadas.\n",
    "\n",
    "La verdad es que un dataframe es AMBAS."
   ]
  },
  {
   "cell_type": "code",
   "execution_count": 45,
   "metadata": {},
   "outputs": [
    {
     "data": {
      "text/plain": [
       "array([[45, 34],\n",
       "       [56, 35],\n",
       "       [78, 36],\n",
       "       [89, 37],\n",
       "       [90, 38]], dtype=int64)"
      ]
     },
     "execution_count": 45,
     "metadata": {},
     "output_type": "execute_result"
    }
   ],
   "source": [
    "# numpy array:\n",
    "students.values"
   ]
  },
  {
   "cell_type": "code",
   "execution_count": 46,
   "metadata": {},
   "outputs": [
    {
     "data": {
      "text/plain": [
       "Tomas       45\n",
       "Angel       56\n",
       "Stacy       78\n",
       "Michaela    89\n",
       "Haden       90\n",
       "Name: grade, dtype: int64"
      ]
     },
     "execution_count": 46,
     "metadata": {},
     "output_type": "execute_result"
    }
   ],
   "source": [
    "# pandas series:\n",
    "students['grade']"
   ]
  },
  {
   "cell_type": "markdown",
   "metadata": {},
   "source": [
    "También podemos crear DataFrames a partir de arrays de numpy o listas con etiquetas e índices proporcionados. El parámetro `columns=` especifica los nombres de las columnas; el `index=` especifica los nombres de las filas."
   ]
  },
  {
   "cell_type": "code",
   "execution_count": 47,
   "metadata": {
    "scrolled": true
   },
   "outputs": [
    {
     "data": {
      "text/html": [
       "<div>\n",
       "<style scoped>\n",
       "    .dataframe tbody tr th:only-of-type {\n",
       "        vertical-align: middle;\n",
       "    }\n",
       "\n",
       "    .dataframe tbody tr th {\n",
       "        vertical-align: top;\n",
       "    }\n",
       "\n",
       "    .dataframe thead th {\n",
       "        text-align: right;\n",
       "    }\n",
       "</style>\n",
       "<table border=\"1\" class=\"dataframe\">\n",
       "  <thead>\n",
       "    <tr style=\"text-align: right;\">\n",
       "      <th></th>\n",
       "      <th>a</th>\n",
       "      <th>b</th>\n",
       "      <th>c</th>\n",
       "    </tr>\n",
       "  </thead>\n",
       "  <tbody>\n",
       "    <tr>\n",
       "      <th>foo</th>\n",
       "      <td>1</td>\n",
       "      <td>2</td>\n",
       "      <td>3</td>\n",
       "    </tr>\n",
       "    <tr>\n",
       "      <th>bar</th>\n",
       "      <td>4</td>\n",
       "      <td>5</td>\n",
       "      <td>6</td>\n",
       "    </tr>\n",
       "  </tbody>\n",
       "</table>\n",
       "</div>"
      ],
      "text/plain": [
       "     a  b  c\n",
       "foo  1  2  3\n",
       "bar  4  5  6"
      ]
     },
     "execution_count": 47,
     "metadata": {},
     "output_type": "execute_result"
    }
   ],
   "source": [
    "pd.DataFrame(\n",
    "    data = [[1, 2, 3], \n",
    "            [4, 5, 6]], \n",
    "    columns=['a', 'b', 'c'], \n",
    "    index=['foo', 'bar'])"
   ]
  },
  {
   "cell_type": "markdown",
   "metadata": {},
   "source": [
    "Hay MUCHAS maneras de hacer cualquier cosa. Esto hace que el aprendizaje sea más difícil. Pero aquí vamos de todos modos."
   ]
  },
  {
   "cell_type": "markdown",
   "metadata": {},
   "source": [
    "### 8.- Hacer un DataFrame 'classrooms' que contenga:\n",
    "\n",
    "```python \n",
    "> print(classrooms)\n",
    "\n",
    "         chairs  projectors\n",
    "gym           0           1\n",
    "history       2           3\n",
    "math          4           5\n",
    "english       6           7\n",
    "```"
   ]
  },
  {
   "cell_type": "code",
   "execution_count": 50,
   "metadata": {},
   "outputs": [
    {
     "data": {
      "text/html": [
       "<div>\n",
       "<style scoped>\n",
       "    .dataframe tbody tr th:only-of-type {\n",
       "        vertical-align: middle;\n",
       "    }\n",
       "\n",
       "    .dataframe tbody tr th {\n",
       "        vertical-align: top;\n",
       "    }\n",
       "\n",
       "    .dataframe thead th {\n",
       "        text-align: right;\n",
       "    }\n",
       "</style>\n",
       "<table border=\"1\" class=\"dataframe\">\n",
       "  <thead>\n",
       "    <tr style=\"text-align: right;\">\n",
       "      <th></th>\n",
       "      <th>chairs</th>\n",
       "      <th>projectors</th>\n",
       "    </tr>\n",
       "  </thead>\n",
       "  <tbody>\n",
       "    <tr>\n",
       "      <th>gym</th>\n",
       "      <td>0</td>\n",
       "      <td>1</td>\n",
       "    </tr>\n",
       "    <tr>\n",
       "      <th>history</th>\n",
       "      <td>2</td>\n",
       "      <td>3</td>\n",
       "    </tr>\n",
       "    <tr>\n",
       "      <th>math</th>\n",
       "      <td>4</td>\n",
       "      <td>5</td>\n",
       "    </tr>\n",
       "    <tr>\n",
       "      <th>english</th>\n",
       "      <td>6</td>\n",
       "      <td>7</td>\n",
       "    </tr>\n",
       "  </tbody>\n",
       "</table>\n",
       "</div>"
      ],
      "text/plain": [
       "         chairs  projectors\n",
       "gym           0           1\n",
       "history       2           3\n",
       "math          4           5\n",
       "english       6           7"
      ]
     },
     "execution_count": 50,
     "metadata": {},
     "output_type": "execute_result"
    }
   ],
   "source": [
    "#Código:\n",
    "classrooms=pd.DataFrame({\"chairs\": [0,2,4,6],\"projectors\":[1,3,5,7]},index=[\"gym\",\"history\",\"math\",\"english\"])\n",
    "classrooms\n"
   ]
  },
  {
   "cell_type": "markdown",
   "metadata": {},
   "source": [
    "### 9.- Hacer la Serie 'Chairs':\n",
    "\n",
    "```python \n",
    "gym        0\n",
    "history    2\n",
    "math       4\n",
    "english    6\n",
    "Name: chairs, dtype: int64\n",
    "```"
   ]
  },
  {
   "cell_type": "code",
   "execution_count": 51,
   "metadata": {},
   "outputs": [
    {
     "data": {
      "text/plain": [
       "gym        0\n",
       "history    2\n",
       "math       4\n",
       "english    6\n",
       "Name: chairs, dtype: int64"
      ]
     },
     "execution_count": 51,
     "metadata": {},
     "output_type": "execute_result"
    }
   ],
   "source": [
    "#Código:\n",
    "Chairs=pd.Series(classrooms[\"chairs\"])\n",
    "Chairs\n"
   ]
  },
  {
   "cell_type": "markdown",
   "metadata": {},
   "source": [
    "### 10.- Hacer la serie 'projectors' \n",
    "\n",
    "```python \n",
    "gym        1\n",
    "history    3\n",
    "math       5\n",
    "english    7\n",
    "Name: projectors, dtype: int64\n",
    "```"
   ]
  },
  {
   "cell_type": "code",
   "execution_count": 52,
   "metadata": {},
   "outputs": [
    {
     "data": {
      "text/plain": [
       "gym        1\n",
       "history    3\n",
       "math       5\n",
       "english    7\n",
       "Name: projectors, dtype: int64"
      ]
     },
     "execution_count": 52,
     "metadata": {},
     "output_type": "execute_result"
    }
   ],
   "source": [
    "#Código:\n",
    "projectors=pd.Series(classrooms[\"projectors\"])\n",
    "projectors"
   ]
  },
  {
   "cell_type": "markdown",
   "metadata": {},
   "source": [
    "### 11.- Hacer de nuevo el DataFrame 'classrooms' , pero esta vez utilizando las series 'chairs' y 'projectors'\n",
    "\n",
    "```python \n",
    "> print(classrooms)\n",
    "\n",
    "         chairs  projectors\n",
    "gym           0           1\n",
    "history       2           3\n",
    "math          4           5\n",
    "english       6           7\n",
    "```"
   ]
  },
  {
   "cell_type": "code",
   "execution_count": 54,
   "metadata": {},
   "outputs": [
    {
     "data": {
      "text/html": [
       "<div>\n",
       "<style scoped>\n",
       "    .dataframe tbody tr th:only-of-type {\n",
       "        vertical-align: middle;\n",
       "    }\n",
       "\n",
       "    .dataframe tbody tr th {\n",
       "        vertical-align: top;\n",
       "    }\n",
       "\n",
       "    .dataframe thead th {\n",
       "        text-align: right;\n",
       "    }\n",
       "</style>\n",
       "<table border=\"1\" class=\"dataframe\">\n",
       "  <thead>\n",
       "    <tr style=\"text-align: right;\">\n",
       "      <th></th>\n",
       "      <th>chairs</th>\n",
       "      <th>projectors</th>\n",
       "    </tr>\n",
       "  </thead>\n",
       "  <tbody>\n",
       "    <tr>\n",
       "      <th>gym</th>\n",
       "      <td>0</td>\n",
       "      <td>1</td>\n",
       "    </tr>\n",
       "    <tr>\n",
       "      <th>history</th>\n",
       "      <td>2</td>\n",
       "      <td>3</td>\n",
       "    </tr>\n",
       "    <tr>\n",
       "      <th>math</th>\n",
       "      <td>4</td>\n",
       "      <td>5</td>\n",
       "    </tr>\n",
       "    <tr>\n",
       "      <th>english</th>\n",
       "      <td>6</td>\n",
       "      <td>7</td>\n",
       "    </tr>\n",
       "  </tbody>\n",
       "</table>\n",
       "</div>"
      ],
      "text/plain": [
       "         chairs  projectors\n",
       "gym           0           1\n",
       "history       2           3\n",
       "math          4           5\n",
       "english       6           7"
      ]
     },
     "execution_count": 54,
     "metadata": {},
     "output_type": "execute_result"
    }
   ],
   "source": [
    "#Código:\n",
    "classrooms=pd.concat([Chairs,projectors],axis=1)\n",
    "classrooms"
   ]
  },
  {
   "cell_type": "markdown",
   "metadata": {},
   "source": [
    "### 12.- Crear el DataFrame 'down_up' con dos columnas: 'decreasing' e 'increasing' con los números 1-10 en cada orden\n",
    "\n",
    "\n",
    "```python\n",
    "> print(down_up)\n",
    "\n",
    "   decreasing  increasing\n",
    "0          10           1\n",
    "1           9           2\n",
    "2           8           3\n",
    "3           7           4\n",
    "4           6           5\n",
    "5           5           6\n",
    "6           4           7\n",
    "7           3           8\n",
    "8           2           9\n",
    "9           1          10\n",
    "```"
   ]
  },
  {
   "cell_type": "code",
   "execution_count": 70,
   "metadata": {},
   "outputs": [
    {
     "data": {
      "text/html": [
       "<div>\n",
       "<style scoped>\n",
       "    .dataframe tbody tr th:only-of-type {\n",
       "        vertical-align: middle;\n",
       "    }\n",
       "\n",
       "    .dataframe tbody tr th {\n",
       "        vertical-align: top;\n",
       "    }\n",
       "\n",
       "    .dataframe thead th {\n",
       "        text-align: right;\n",
       "    }\n",
       "</style>\n",
       "<table border=\"1\" class=\"dataframe\">\n",
       "  <thead>\n",
       "    <tr style=\"text-align: right;\">\n",
       "      <th></th>\n",
       "      <th>decreasing</th>\n",
       "      <th>increasing</th>\n",
       "    </tr>\n",
       "  </thead>\n",
       "  <tbody>\n",
       "    <tr>\n",
       "      <th>0</th>\n",
       "      <td>10</td>\n",
       "      <td>1</td>\n",
       "    </tr>\n",
       "    <tr>\n",
       "      <th>1</th>\n",
       "      <td>9</td>\n",
       "      <td>2</td>\n",
       "    </tr>\n",
       "    <tr>\n",
       "      <th>2</th>\n",
       "      <td>8</td>\n",
       "      <td>3</td>\n",
       "    </tr>\n",
       "    <tr>\n",
       "      <th>3</th>\n",
       "      <td>7</td>\n",
       "      <td>4</td>\n",
       "    </tr>\n",
       "    <tr>\n",
       "      <th>4</th>\n",
       "      <td>6</td>\n",
       "      <td>5</td>\n",
       "    </tr>\n",
       "    <tr>\n",
       "      <th>5</th>\n",
       "      <td>5</td>\n",
       "      <td>6</td>\n",
       "    </tr>\n",
       "    <tr>\n",
       "      <th>6</th>\n",
       "      <td>4</td>\n",
       "      <td>7</td>\n",
       "    </tr>\n",
       "    <tr>\n",
       "      <th>7</th>\n",
       "      <td>3</td>\n",
       "      <td>8</td>\n",
       "    </tr>\n",
       "    <tr>\n",
       "      <th>8</th>\n",
       "      <td>2</td>\n",
       "      <td>9</td>\n",
       "    </tr>\n",
       "    <tr>\n",
       "      <th>9</th>\n",
       "      <td>1</td>\n",
       "      <td>10</td>\n",
       "    </tr>\n",
       "  </tbody>\n",
       "</table>\n",
       "</div>"
      ],
      "text/plain": [
       "   decreasing  increasing\n",
       "0          10           1\n",
       "1           9           2\n",
       "2           8           3\n",
       "3           7           4\n",
       "4           6           5\n",
       "5           5           6\n",
       "6           4           7\n",
       "7           3           8\n",
       "8           2           9\n",
       "9           1          10"
      ]
     },
     "execution_count": 70,
     "metadata": {},
     "output_type": "execute_result"
    }
   ],
   "source": [
    "#Código:\n",
    "increasing=np.array(range(1,11))\n",
    "decreasing=np.flip(increasing)\n",
    "down_up=pd.concat([pd.Series(decreasing,name=\"decreasing\"),pd.Series(increasing,name=\"increasing\")],axis=1)\n",
    "down_up"
   ]
  },
  {
   "cell_type": "markdown",
   "metadata": {},
   "source": [
    "También puede poner una Serie en un DataFrame siempre que tenga un índice que coincida."
   ]
  },
  {
   "cell_type": "markdown",
   "metadata": {},
   "source": [
    "## Modificar DataFrames"
   ]
  },
  {
   "cell_type": "markdown",
   "metadata": {},
   "source": [
    "Los dataframes son MUY parecidos a los arrays de numpy con columnas e índices añadidos.\n",
    "\n",
    "Pero a diferencia de los arrays (que tienen un tamaño fijo), ¡podemos añadir columnas a un dataframe!"
   ]
  },
  {
   "cell_type": "code",
   "execution_count": 71,
   "metadata": {
    "scrolled": true
   },
   "outputs": [
    {
     "data": {
      "text/html": [
       "<div>\n",
       "<style scoped>\n",
       "    .dataframe tbody tr th:only-of-type {\n",
       "        vertical-align: middle;\n",
       "    }\n",
       "\n",
       "    .dataframe tbody tr th {\n",
       "        vertical-align: top;\n",
       "    }\n",
       "\n",
       "    .dataframe thead th {\n",
       "        text-align: right;\n",
       "    }\n",
       "</style>\n",
       "<table border=\"1\" class=\"dataframe\">\n",
       "  <thead>\n",
       "    <tr style=\"text-align: right;\">\n",
       "      <th></th>\n",
       "      <th>grade</th>\n",
       "      <th>height</th>\n",
       "      <th>was_late</th>\n",
       "    </tr>\n",
       "  </thead>\n",
       "  <tbody>\n",
       "    <tr>\n",
       "      <th>Tomas</th>\n",
       "      <td>45</td>\n",
       "      <td>34</td>\n",
       "      <td>True</td>\n",
       "    </tr>\n",
       "    <tr>\n",
       "      <th>Angel</th>\n",
       "      <td>56</td>\n",
       "      <td>35</td>\n",
       "      <td>False</td>\n",
       "    </tr>\n",
       "    <tr>\n",
       "      <th>Stacy</th>\n",
       "      <td>78</td>\n",
       "      <td>36</td>\n",
       "      <td>True</td>\n",
       "    </tr>\n",
       "    <tr>\n",
       "      <th>Michaela</th>\n",
       "      <td>89</td>\n",
       "      <td>37</td>\n",
       "      <td>False</td>\n",
       "    </tr>\n",
       "    <tr>\n",
       "      <th>Haden</th>\n",
       "      <td>90</td>\n",
       "      <td>38</td>\n",
       "      <td>False</td>\n",
       "    </tr>\n",
       "  </tbody>\n",
       "</table>\n",
       "</div>"
      ],
      "text/plain": [
       "          grade  height  was_late\n",
       "Tomas        45      34      True\n",
       "Angel        56      35     False\n",
       "Stacy        78      36      True\n",
       "Michaela     89      37     False\n",
       "Haden        90      38     False"
      ]
     },
     "execution_count": 71,
     "metadata": {},
     "output_type": "execute_result"
    }
   ],
   "source": [
    "students['was_late'] = [True, False, True, False, False]\n",
    "students"
   ]
  },
  {
   "cell_type": "markdown",
   "metadata": {},
   "source": [
    "Tambien es posible a través de un array"
   ]
  },
  {
   "cell_type": "code",
   "execution_count": 72,
   "metadata": {},
   "outputs": [
    {
     "data": {
      "text/html": [
       "<div>\n",
       "<style scoped>\n",
       "    .dataframe tbody tr th:only-of-type {\n",
       "        vertical-align: middle;\n",
       "    }\n",
       "\n",
       "    .dataframe tbody tr th {\n",
       "        vertical-align: top;\n",
       "    }\n",
       "\n",
       "    .dataframe thead th {\n",
       "        text-align: right;\n",
       "    }\n",
       "</style>\n",
       "<table border=\"1\" class=\"dataframe\">\n",
       "  <thead>\n",
       "    <tr style=\"text-align: right;\">\n",
       "      <th></th>\n",
       "      <th>grade</th>\n",
       "      <th>height</th>\n",
       "      <th>was_late</th>\n",
       "    </tr>\n",
       "  </thead>\n",
       "  <tbody>\n",
       "    <tr>\n",
       "      <th>Tomas</th>\n",
       "      <td>45</td>\n",
       "      <td>34</td>\n",
       "      <td>True</td>\n",
       "    </tr>\n",
       "    <tr>\n",
       "      <th>Angel</th>\n",
       "      <td>56</td>\n",
       "      <td>35</td>\n",
       "      <td>False</td>\n",
       "    </tr>\n",
       "    <tr>\n",
       "      <th>Stacy</th>\n",
       "      <td>78</td>\n",
       "      <td>36</td>\n",
       "      <td>True</td>\n",
       "    </tr>\n",
       "    <tr>\n",
       "      <th>Michaela</th>\n",
       "      <td>89</td>\n",
       "      <td>37</td>\n",
       "      <td>False</td>\n",
       "    </tr>\n",
       "    <tr>\n",
       "      <th>Haden</th>\n",
       "      <td>90</td>\n",
       "      <td>38</td>\n",
       "      <td>False</td>\n",
       "    </tr>\n",
       "  </tbody>\n",
       "</table>\n",
       "</div>"
      ],
      "text/plain": [
       "          grade  height  was_late\n",
       "Tomas        45      34      True\n",
       "Angel        56      35     False\n",
       "Stacy        78      36      True\n",
       "Michaela     89      37     False\n",
       "Haden        90      38     False"
      ]
     },
     "execution_count": 72,
     "metadata": {},
     "output_type": "execute_result"
    }
   ],
   "source": [
    "students['was_late'] = np.array([True, False, True, False, False])\n",
    "students"
   ]
  },
  {
   "cell_type": "markdown",
   "metadata": {},
   "source": [
    "Pero el arry debe tener una forma de (n, ) o (1, n). No (n, 1). Lo que tiene un poco de sentido, porque eso es tratar de encajar una fila en una columna."
   ]
  },
  {
   "cell_type": "code",
   "execution_count": 73,
   "metadata": {},
   "outputs": [
    {
     "data": {
      "text/html": [
       "<div>\n",
       "<style scoped>\n",
       "    .dataframe tbody tr th:only-of-type {\n",
       "        vertical-align: middle;\n",
       "    }\n",
       "\n",
       "    .dataframe tbody tr th {\n",
       "        vertical-align: top;\n",
       "    }\n",
       "\n",
       "    .dataframe thead th {\n",
       "        text-align: right;\n",
       "    }\n",
       "</style>\n",
       "<table border=\"1\" class=\"dataframe\">\n",
       "  <thead>\n",
       "    <tr style=\"text-align: right;\">\n",
       "      <th></th>\n",
       "      <th>grade</th>\n",
       "      <th>height</th>\n",
       "      <th>was_late</th>\n",
       "    </tr>\n",
       "  </thead>\n",
       "  <tbody>\n",
       "    <tr>\n",
       "      <th>Tomas</th>\n",
       "      <td>45</td>\n",
       "      <td>34</td>\n",
       "      <td>True</td>\n",
       "    </tr>\n",
       "    <tr>\n",
       "      <th>Angel</th>\n",
       "      <td>56</td>\n",
       "      <td>35</td>\n",
       "      <td>False</td>\n",
       "    </tr>\n",
       "    <tr>\n",
       "      <th>Stacy</th>\n",
       "      <td>78</td>\n",
       "      <td>36</td>\n",
       "      <td>True</td>\n",
       "    </tr>\n",
       "    <tr>\n",
       "      <th>Michaela</th>\n",
       "      <td>89</td>\n",
       "      <td>37</td>\n",
       "      <td>False</td>\n",
       "    </tr>\n",
       "    <tr>\n",
       "      <th>Haden</th>\n",
       "      <td>90</td>\n",
       "      <td>38</td>\n",
       "      <td>False</td>\n",
       "    </tr>\n",
       "  </tbody>\n",
       "</table>\n",
       "</div>"
      ],
      "text/plain": [
       "          grade  height  was_late\n",
       "Tomas        45      34      True\n",
       "Angel        56      35     False\n",
       "Stacy        78      36      True\n",
       "Michaela     89      37     False\n",
       "Haden        90      38     False"
      ]
     },
     "execution_count": 73,
     "metadata": {},
     "output_type": "execute_result"
    }
   ],
   "source": [
    "students['was_late'] = np.array([True, False, True, False, False]).reshape(-1,1)\n",
    "students"
   ]
  },
  {
   "cell_type": "markdown",
   "metadata": {},
   "source": [
    "```python\n",
    "# Esto debe dar un error\n",
    "students['was_late'] = np.array([True, False, True, False, False]).reshape(1,-1)\n",
    "students\n",
    "```"
   ]
  },
  {
   "cell_type": "markdown",
   "metadata": {},
   "source": [
    "### 13.- Agregar la columna 'top_crush' a 'students'. El cual es el nombre del crush de cada estudiante\n",
    "\n",
    "```python\n",
    "> print(students)\n",
    "\n",
    "          grade  height  was_late     top_crush\n",
    "Tomas        45      34      True         Angel\n",
    "Angel        56      35     False         Haden\n",
    "Stacy        78      36      True      Michaela\n",
    "Michaela     89      37     False         Tomas\n",
    "Haden        90      38     False  Edgar A. Poe\n",
    "```"
   ]
  },
  {
   "cell_type": "code",
   "execution_count": 75,
   "metadata": {},
   "outputs": [
    {
     "data": {
      "text/html": [
       "<div>\n",
       "<style scoped>\n",
       "    .dataframe tbody tr th:only-of-type {\n",
       "        vertical-align: middle;\n",
       "    }\n",
       "\n",
       "    .dataframe tbody tr th {\n",
       "        vertical-align: top;\n",
       "    }\n",
       "\n",
       "    .dataframe thead th {\n",
       "        text-align: right;\n",
       "    }\n",
       "</style>\n",
       "<table border=\"1\" class=\"dataframe\">\n",
       "  <thead>\n",
       "    <tr style=\"text-align: right;\">\n",
       "      <th></th>\n",
       "      <th>grade</th>\n",
       "      <th>height</th>\n",
       "      <th>was_late</th>\n",
       "      <th>top_crush</th>\n",
       "    </tr>\n",
       "  </thead>\n",
       "  <tbody>\n",
       "    <tr>\n",
       "      <th>Tomas</th>\n",
       "      <td>45</td>\n",
       "      <td>34</td>\n",
       "      <td>True</td>\n",
       "      <td>Angel</td>\n",
       "    </tr>\n",
       "    <tr>\n",
       "      <th>Angel</th>\n",
       "      <td>56</td>\n",
       "      <td>35</td>\n",
       "      <td>False</td>\n",
       "      <td>Haden</td>\n",
       "    </tr>\n",
       "    <tr>\n",
       "      <th>Stacy</th>\n",
       "      <td>78</td>\n",
       "      <td>36</td>\n",
       "      <td>True</td>\n",
       "      <td>Michaela</td>\n",
       "    </tr>\n",
       "    <tr>\n",
       "      <th>Michaela</th>\n",
       "      <td>89</td>\n",
       "      <td>37</td>\n",
       "      <td>False</td>\n",
       "      <td>Tomas</td>\n",
       "    </tr>\n",
       "    <tr>\n",
       "      <th>Haden</th>\n",
       "      <td>90</td>\n",
       "      <td>38</td>\n",
       "      <td>False</td>\n",
       "      <td>Edgar A. Poe</td>\n",
       "    </tr>\n",
       "  </tbody>\n",
       "</table>\n",
       "</div>"
      ],
      "text/plain": [
       "          grade  height  was_late     top_crush\n",
       "Tomas        45      34      True         Angel\n",
       "Angel        56      35     False         Haden\n",
       "Stacy        78      36      True      Michaela\n",
       "Michaela     89      37     False         Tomas\n",
       "Haden        90      38     False  Edgar A. Poe"
      ]
     },
     "execution_count": 75,
     "metadata": {},
     "output_type": "execute_result"
    }
   ],
   "source": [
    "#Código:\n",
    "students[\"top_crush\"]=np.array([\"Angel\",\"Haden\",\"Michaela\",\"Tomas\",\"Edgar A. Poe\"])\n",
    "students\n"
   ]
  },
  {
   "cell_type": "markdown",
   "metadata": {},
   "source": [
    "## Proyección"
   ]
  },
  {
   "cell_type": "markdown",
   "metadata": {},
   "source": [
    "Al igual que en numpy, es posible hacer una proyección de una serie"
   ]
  },
  {
   "cell_type": "code",
   "execution_count": 76,
   "metadata": {},
   "outputs": [
    {
     "data": {
      "text/plain": [
       "Tomas       False\n",
       "Angel       False\n",
       "Stacy        True\n",
       "Michaela     True\n",
       "Haden        True\n",
       "Name: grade, dtype: bool"
      ]
     },
     "execution_count": 76,
     "metadata": {},
     "output_type": "execute_result"
    }
   ],
   "source": [
    "students['grade']>75"
   ]
  },
  {
   "cell_type": "markdown",
   "metadata": {},
   "source": [
    "Para crear la columna 'above_75_percent'"
   ]
  },
  {
   "cell_type": "code",
   "execution_count": 77,
   "metadata": {},
   "outputs": [
    {
     "data": {
      "text/html": [
       "<div>\n",
       "<style scoped>\n",
       "    .dataframe tbody tr th:only-of-type {\n",
       "        vertical-align: middle;\n",
       "    }\n",
       "\n",
       "    .dataframe tbody tr th {\n",
       "        vertical-align: top;\n",
       "    }\n",
       "\n",
       "    .dataframe thead th {\n",
       "        text-align: right;\n",
       "    }\n",
       "</style>\n",
       "<table border=\"1\" class=\"dataframe\">\n",
       "  <thead>\n",
       "    <tr style=\"text-align: right;\">\n",
       "      <th></th>\n",
       "      <th>grade</th>\n",
       "      <th>height</th>\n",
       "      <th>was_late</th>\n",
       "      <th>top_crush</th>\n",
       "      <th>above_75_percent</th>\n",
       "    </tr>\n",
       "  </thead>\n",
       "  <tbody>\n",
       "    <tr>\n",
       "      <th>Tomas</th>\n",
       "      <td>45</td>\n",
       "      <td>34</td>\n",
       "      <td>True</td>\n",
       "      <td>Angel</td>\n",
       "      <td>False</td>\n",
       "    </tr>\n",
       "    <tr>\n",
       "      <th>Angel</th>\n",
       "      <td>56</td>\n",
       "      <td>35</td>\n",
       "      <td>False</td>\n",
       "      <td>Haden</td>\n",
       "      <td>False</td>\n",
       "    </tr>\n",
       "    <tr>\n",
       "      <th>Stacy</th>\n",
       "      <td>78</td>\n",
       "      <td>36</td>\n",
       "      <td>True</td>\n",
       "      <td>Michaela</td>\n",
       "      <td>True</td>\n",
       "    </tr>\n",
       "    <tr>\n",
       "      <th>Michaela</th>\n",
       "      <td>89</td>\n",
       "      <td>37</td>\n",
       "      <td>False</td>\n",
       "      <td>Tomas</td>\n",
       "      <td>True</td>\n",
       "    </tr>\n",
       "    <tr>\n",
       "      <th>Haden</th>\n",
       "      <td>90</td>\n",
       "      <td>38</td>\n",
       "      <td>False</td>\n",
       "      <td>Edgar A. Poe</td>\n",
       "      <td>True</td>\n",
       "    </tr>\n",
       "  </tbody>\n",
       "</table>\n",
       "</div>"
      ],
      "text/plain": [
       "          grade  height  was_late     top_crush  above_75_percent\n",
       "Tomas        45      34      True         Angel             False\n",
       "Angel        56      35     False         Haden             False\n",
       "Stacy        78      36      True      Michaela              True\n",
       "Michaela     89      37     False         Tomas              True\n",
       "Haden        90      38     False  Edgar A. Poe              True"
      ]
     },
     "execution_count": 77,
     "metadata": {},
     "output_type": "execute_result"
    }
   ],
   "source": [
    "students['above_75_percent'] = students['grade']>75\n",
    "students"
   ]
  },
  {
   "cell_type": "markdown",
   "metadata": {},
   "source": [
    "Este tipo de proyecciones resultan de gran utilidad."
   ]
  },
  {
   "cell_type": "markdown",
   "metadata": {},
   "source": [
    "### 14.- Agregar la columna 'taller_than_35' a students\n",
    "\n",
    "```python\n",
    "> print(students[['grade', 'height', 'taller_than_35']])\n",
    "\n",
    "          grade  height  taller_than_35\n",
    "Tomas        45      34           False\n",
    "Angel        56      35           False\n",
    "Stacy        78      36            True\n",
    "Michaela     89      37            True\n",
    "Haden        90      38            True\n",
    "```"
   ]
  },
  {
   "cell_type": "code",
   "execution_count": 78,
   "metadata": {},
   "outputs": [
    {
     "name": "stdout",
     "output_type": "stream",
     "text": [
      "          grade  height  taller_than_35\n",
      "Tomas        45      34           False\n",
      "Angel        56      35           False\n",
      "Stacy        78      36            True\n",
      "Michaela     89      37            True\n",
      "Haden        90      38            True\n"
     ]
    }
   ],
   "source": [
    "#Código:\n",
    "students[\"taller_than_35\"]=students[\"height\"]>35\n",
    "print(students[[\"grade\",\"height\",\"taller_than_35\"]])\n"
   ]
  },
  {
   "cell_type": "markdown",
   "metadata": {},
   "source": [
    "Los elementos se emparejan por **index**."
   ]
  },
  {
   "cell_type": "markdown",
   "metadata": {},
   "source": [
    "## Índices"
   ]
  },
  {
   "cell_type": "code",
   "execution_count": 79,
   "metadata": {},
   "outputs": [],
   "source": [
    "df = pd.DataFrame(\n",
    "    [[1, 2, 3], [4, 5, 6]], \n",
    "    columns=['a', 'b', 'c'], \n",
    "    index=['foo', 'bar'])"
   ]
  },
  {
   "cell_type": "code",
   "execution_count": 80,
   "metadata": {},
   "outputs": [
    {
     "data": {
      "text/html": [
       "<div>\n",
       "<style scoped>\n",
       "    .dataframe tbody tr th:only-of-type {\n",
       "        vertical-align: middle;\n",
       "    }\n",
       "\n",
       "    .dataframe tbody tr th {\n",
       "        vertical-align: top;\n",
       "    }\n",
       "\n",
       "    .dataframe thead th {\n",
       "        text-align: right;\n",
       "    }\n",
       "</style>\n",
       "<table border=\"1\" class=\"dataframe\">\n",
       "  <thead>\n",
       "    <tr style=\"text-align: right;\">\n",
       "      <th></th>\n",
       "      <th>a</th>\n",
       "      <th>b</th>\n",
       "      <th>c</th>\n",
       "      <th>d</th>\n",
       "    </tr>\n",
       "  </thead>\n",
       "  <tbody>\n",
       "    <tr>\n",
       "      <th>foo</th>\n",
       "      <td>1</td>\n",
       "      <td>2</td>\n",
       "      <td>3</td>\n",
       "      <td>5</td>\n",
       "    </tr>\n",
       "    <tr>\n",
       "      <th>bar</th>\n",
       "      <td>4</td>\n",
       "      <td>5</td>\n",
       "      <td>6</td>\n",
       "      <td>4</td>\n",
       "    </tr>\n",
       "  </tbody>\n",
       "</table>\n",
       "</div>"
      ],
      "text/plain": [
       "     a  b  c  d\n",
       "foo  1  2  3  5\n",
       "bar  4  5  6  4"
      ]
     },
     "execution_count": 80,
     "metadata": {},
     "output_type": "execute_result"
    }
   ],
   "source": [
    "# El índice está invertido\n",
    "df['d'] = pd.Series([4, 5], index=['bar', 'foo'])\n",
    "df"
   ]
  },
  {
   "cell_type": "markdown",
   "metadata": {},
   "source": [
    "Si el índice no coincide el valor se convierte en NaN"
   ]
  },
  {
   "cell_type": "code",
   "execution_count": 81,
   "metadata": {},
   "outputs": [
    {
     "data": {
      "text/html": [
       "<div>\n",
       "<style scoped>\n",
       "    .dataframe tbody tr th:only-of-type {\n",
       "        vertical-align: middle;\n",
       "    }\n",
       "\n",
       "    .dataframe tbody tr th {\n",
       "        vertical-align: top;\n",
       "    }\n",
       "\n",
       "    .dataframe thead th {\n",
       "        text-align: right;\n",
       "    }\n",
       "</style>\n",
       "<table border=\"1\" class=\"dataframe\">\n",
       "  <thead>\n",
       "    <tr style=\"text-align: right;\">\n",
       "      <th></th>\n",
       "      <th>a</th>\n",
       "      <th>b</th>\n",
       "      <th>c</th>\n",
       "      <th>d</th>\n",
       "    </tr>\n",
       "  </thead>\n",
       "  <tbody>\n",
       "    <tr>\n",
       "      <th>foo</th>\n",
       "      <td>1</td>\n",
       "      <td>2</td>\n",
       "      <td>3</td>\n",
       "      <td>NaN</td>\n",
       "    </tr>\n",
       "    <tr>\n",
       "      <th>bar</th>\n",
       "      <td>4</td>\n",
       "      <td>5</td>\n",
       "      <td>6</td>\n",
       "      <td>4.0</td>\n",
       "    </tr>\n",
       "  </tbody>\n",
       "</table>\n",
       "</div>"
      ],
      "text/plain": [
       "     a  b  c    d\n",
       "foo  1  2  3  NaN\n",
       "bar  4  5  6  4.0"
      ]
     },
     "execution_count": 81,
     "metadata": {},
     "output_type": "execute_result"
    }
   ],
   "source": [
    "df['d'] = pd.Series([4, 5], index=['bar', 'baz'])\n",
    "df"
   ]
  },
  {
   "cell_type": "markdown",
   "metadata": {},
   "source": [
    "Al agregar una lista o vector en un DataFrame sin índice la columna se inserta en orden"
   ]
  },
  {
   "cell_type": "code",
   "execution_count": 82,
   "metadata": {},
   "outputs": [
    {
     "data": {
      "text/html": [
       "<div>\n",
       "<style scoped>\n",
       "    .dataframe tbody tr th:only-of-type {\n",
       "        vertical-align: middle;\n",
       "    }\n",
       "\n",
       "    .dataframe tbody tr th {\n",
       "        vertical-align: top;\n",
       "    }\n",
       "\n",
       "    .dataframe thead th {\n",
       "        text-align: right;\n",
       "    }\n",
       "</style>\n",
       "<table border=\"1\" class=\"dataframe\">\n",
       "  <thead>\n",
       "    <tr style=\"text-align: right;\">\n",
       "      <th></th>\n",
       "      <th>a</th>\n",
       "      <th>b</th>\n",
       "      <th>c</th>\n",
       "      <th>d</th>\n",
       "      <th>e</th>\n",
       "    </tr>\n",
       "  </thead>\n",
       "  <tbody>\n",
       "    <tr>\n",
       "      <th>foo</th>\n",
       "      <td>1</td>\n",
       "      <td>2</td>\n",
       "      <td>3</td>\n",
       "      <td>NaN</td>\n",
       "      <td>1</td>\n",
       "    </tr>\n",
       "    <tr>\n",
       "      <th>bar</th>\n",
       "      <td>4</td>\n",
       "      <td>5</td>\n",
       "      <td>6</td>\n",
       "      <td>4.0</td>\n",
       "      <td>2</td>\n",
       "    </tr>\n",
       "  </tbody>\n",
       "</table>\n",
       "</div>"
      ],
      "text/plain": [
       "     a  b  c    d  e\n",
       "foo  1  2  3  NaN  1\n",
       "bar  4  5  6  4.0  2"
      ]
     },
     "execution_count": 82,
     "metadata": {},
     "output_type": "execute_result"
    }
   ],
   "source": [
    "df['e'] = [1, 2]\n",
    "df"
   ]
  },
  {
   "cell_type": "markdown",
   "metadata": {},
   "source": [
    "Utilizando una Serie se debe tener cuidado ya que si no existe un índice, todos los valores se convierten a NaN"
   ]
  },
  {
   "cell_type": "code",
   "execution_count": 83,
   "metadata": {
    "scrolled": true
   },
   "outputs": [
    {
     "data": {
      "text/html": [
       "<div>\n",
       "<style scoped>\n",
       "    .dataframe tbody tr th:only-of-type {\n",
       "        vertical-align: middle;\n",
       "    }\n",
       "\n",
       "    .dataframe tbody tr th {\n",
       "        vertical-align: top;\n",
       "    }\n",
       "\n",
       "    .dataframe thead th {\n",
       "        text-align: right;\n",
       "    }\n",
       "</style>\n",
       "<table border=\"1\" class=\"dataframe\">\n",
       "  <thead>\n",
       "    <tr style=\"text-align: right;\">\n",
       "      <th></th>\n",
       "      <th>grade</th>\n",
       "      <th>height</th>\n",
       "      <th>was_late</th>\n",
       "      <th>top_crush</th>\n",
       "      <th>above_75_percent</th>\n",
       "      <th>taller_than_35</th>\n",
       "    </tr>\n",
       "  </thead>\n",
       "  <tbody>\n",
       "    <tr>\n",
       "      <th>Tomas</th>\n",
       "      <td>45</td>\n",
       "      <td>34</td>\n",
       "      <td>NaN</td>\n",
       "      <td>Angel</td>\n",
       "      <td>False</td>\n",
       "      <td>False</td>\n",
       "    </tr>\n",
       "    <tr>\n",
       "      <th>Angel</th>\n",
       "      <td>56</td>\n",
       "      <td>35</td>\n",
       "      <td>NaN</td>\n",
       "      <td>Haden</td>\n",
       "      <td>False</td>\n",
       "      <td>False</td>\n",
       "    </tr>\n",
       "    <tr>\n",
       "      <th>Stacy</th>\n",
       "      <td>78</td>\n",
       "      <td>36</td>\n",
       "      <td>NaN</td>\n",
       "      <td>Michaela</td>\n",
       "      <td>True</td>\n",
       "      <td>True</td>\n",
       "    </tr>\n",
       "    <tr>\n",
       "      <th>Michaela</th>\n",
       "      <td>89</td>\n",
       "      <td>37</td>\n",
       "      <td>NaN</td>\n",
       "      <td>Tomas</td>\n",
       "      <td>True</td>\n",
       "      <td>True</td>\n",
       "    </tr>\n",
       "    <tr>\n",
       "      <th>Haden</th>\n",
       "      <td>90</td>\n",
       "      <td>38</td>\n",
       "      <td>NaN</td>\n",
       "      <td>Edgar A. Poe</td>\n",
       "      <td>True</td>\n",
       "      <td>True</td>\n",
       "    </tr>\n",
       "  </tbody>\n",
       "</table>\n",
       "</div>"
      ],
      "text/plain": [
       "          grade  height was_late     top_crush  above_75_percent  \\\n",
       "Tomas        45      34      NaN         Angel             False   \n",
       "Angel        56      35      NaN         Haden             False   \n",
       "Stacy        78      36      NaN      Michaela              True   \n",
       "Michaela     89      37      NaN         Tomas              True   \n",
       "Haden        90      38      NaN  Edgar A. Poe              True   \n",
       "\n",
       "          taller_than_35  \n",
       "Tomas              False  \n",
       "Angel              False  \n",
       "Stacy               True  \n",
       "Michaela            True  \n",
       "Haden               True  "
      ]
     },
     "execution_count": 83,
     "metadata": {},
     "output_type": "execute_result"
    }
   ],
   "source": [
    "students['was_late'] = pd.Series([True, False, True, False, False])\n",
    "students"
   ]
  },
  {
   "cell_type": "markdown",
   "metadata": {},
   "source": [
    "Agregar el índice:"
   ]
  },
  {
   "cell_type": "code",
   "execution_count": 84,
   "metadata": {},
   "outputs": [
    {
     "data": {
      "text/html": [
       "<div>\n",
       "<style scoped>\n",
       "    .dataframe tbody tr th:only-of-type {\n",
       "        vertical-align: middle;\n",
       "    }\n",
       "\n",
       "    .dataframe tbody tr th {\n",
       "        vertical-align: top;\n",
       "    }\n",
       "\n",
       "    .dataframe thead th {\n",
       "        text-align: right;\n",
       "    }\n",
       "</style>\n",
       "<table border=\"1\" class=\"dataframe\">\n",
       "  <thead>\n",
       "    <tr style=\"text-align: right;\">\n",
       "      <th></th>\n",
       "      <th>grade</th>\n",
       "      <th>height</th>\n",
       "      <th>was_late</th>\n",
       "      <th>top_crush</th>\n",
       "      <th>above_75_percent</th>\n",
       "      <th>taller_than_35</th>\n",
       "    </tr>\n",
       "  </thead>\n",
       "  <tbody>\n",
       "    <tr>\n",
       "      <th>Tomas</th>\n",
       "      <td>45</td>\n",
       "      <td>34</td>\n",
       "      <td>True</td>\n",
       "      <td>Angel</td>\n",
       "      <td>False</td>\n",
       "      <td>False</td>\n",
       "    </tr>\n",
       "    <tr>\n",
       "      <th>Angel</th>\n",
       "      <td>56</td>\n",
       "      <td>35</td>\n",
       "      <td>False</td>\n",
       "      <td>Haden</td>\n",
       "      <td>False</td>\n",
       "      <td>False</td>\n",
       "    </tr>\n",
       "    <tr>\n",
       "      <th>Stacy</th>\n",
       "      <td>78</td>\n",
       "      <td>36</td>\n",
       "      <td>True</td>\n",
       "      <td>Michaela</td>\n",
       "      <td>True</td>\n",
       "      <td>True</td>\n",
       "    </tr>\n",
       "    <tr>\n",
       "      <th>Michaela</th>\n",
       "      <td>89</td>\n",
       "      <td>37</td>\n",
       "      <td>False</td>\n",
       "      <td>Tomas</td>\n",
       "      <td>True</td>\n",
       "      <td>True</td>\n",
       "    </tr>\n",
       "    <tr>\n",
       "      <th>Haden</th>\n",
       "      <td>90</td>\n",
       "      <td>38</td>\n",
       "      <td>False</td>\n",
       "      <td>Edgar A. Poe</td>\n",
       "      <td>True</td>\n",
       "      <td>True</td>\n",
       "    </tr>\n",
       "  </tbody>\n",
       "</table>\n",
       "</div>"
      ],
      "text/plain": [
       "          grade  height  was_late     top_crush  above_75_percent  \\\n",
       "Tomas        45      34      True         Angel             False   \n",
       "Angel        56      35     False         Haden             False   \n",
       "Stacy        78      36      True      Michaela              True   \n",
       "Michaela     89      37     False         Tomas              True   \n",
       "Haden        90      38     False  Edgar A. Poe              True   \n",
       "\n",
       "          taller_than_35  \n",
       "Tomas              False  \n",
       "Angel              False  \n",
       "Stacy               True  \n",
       "Michaela            True  \n",
       "Haden               True  "
      ]
     },
     "execution_count": 84,
     "metadata": {},
     "output_type": "execute_result"
    }
   ],
   "source": [
    "students['was_late'] = pd.Series([True, False, True, False, False], index=students.index)\n",
    "students"
   ]
  },
  {
   "cell_type": "markdown",
   "metadata": {},
   "source": [
    "### 15.- Crear el  dataframe 'numbers' con la columna `increasing`, la cual contenga numeros de 1-50 en este orden. Después, insertar una columna `evens`, que contenga solo números pares si el número es par en `increasing` \n",
    "\n",
    "```python\n",
    "> print(numbers)\n",
    "\n",
    "    increasing  evens\n",
    "0            0    0.0\n",
    "1            1    NaN\n",
    "2            2    2.0\n",
    "3            3    NaN\n",
    "4            4    4.0\n",
    "5            5    NaN\n",
    "6            6    6.0\n",
    "7            7    NaN\n",
    "8            8    8.0\n",
    "9            9    NaN\n",
    "10          10   10.0\n",
    ".            .      .\n",
    ".            .      .\n",
    ".            .      .\n",
    "\n",
    "```"
   ]
  },
  {
   "cell_type": "code",
   "execution_count": 91,
   "metadata": {},
   "outputs": [
    {
     "data": {
      "text/html": [
       "<div>\n",
       "<style scoped>\n",
       "    .dataframe tbody tr th:only-of-type {\n",
       "        vertical-align: middle;\n",
       "    }\n",
       "\n",
       "    .dataframe tbody tr th {\n",
       "        vertical-align: top;\n",
       "    }\n",
       "\n",
       "    .dataframe thead th {\n",
       "        text-align: right;\n",
       "    }\n",
       "</style>\n",
       "<table border=\"1\" class=\"dataframe\">\n",
       "  <thead>\n",
       "    <tr style=\"text-align: right;\">\n",
       "      <th></th>\n",
       "      <th>increasing</th>\n",
       "      <th>even</th>\n",
       "    </tr>\n",
       "  </thead>\n",
       "  <tbody>\n",
       "    <tr>\n",
       "      <th>0</th>\n",
       "      <td>0</td>\n",
       "      <td>0.0</td>\n",
       "    </tr>\n",
       "    <tr>\n",
       "      <th>1</th>\n",
       "      <td>1</td>\n",
       "      <td>NaN</td>\n",
       "    </tr>\n",
       "    <tr>\n",
       "      <th>2</th>\n",
       "      <td>2</td>\n",
       "      <td>2.0</td>\n",
       "    </tr>\n",
       "    <tr>\n",
       "      <th>3</th>\n",
       "      <td>3</td>\n",
       "      <td>NaN</td>\n",
       "    </tr>\n",
       "    <tr>\n",
       "      <th>4</th>\n",
       "      <td>4</td>\n",
       "      <td>4.0</td>\n",
       "    </tr>\n",
       "    <tr>\n",
       "      <th>5</th>\n",
       "      <td>5</td>\n",
       "      <td>NaN</td>\n",
       "    </tr>\n",
       "    <tr>\n",
       "      <th>6</th>\n",
       "      <td>6</td>\n",
       "      <td>6.0</td>\n",
       "    </tr>\n",
       "    <tr>\n",
       "      <th>7</th>\n",
       "      <td>7</td>\n",
       "      <td>NaN</td>\n",
       "    </tr>\n",
       "    <tr>\n",
       "      <th>8</th>\n",
       "      <td>8</td>\n",
       "      <td>8.0</td>\n",
       "    </tr>\n",
       "    <tr>\n",
       "      <th>9</th>\n",
       "      <td>9</td>\n",
       "      <td>NaN</td>\n",
       "    </tr>\n",
       "    <tr>\n",
       "      <th>10</th>\n",
       "      <td>10</td>\n",
       "      <td>10.0</td>\n",
       "    </tr>\n",
       "    <tr>\n",
       "      <th>11</th>\n",
       "      <td>11</td>\n",
       "      <td>NaN</td>\n",
       "    </tr>\n",
       "    <tr>\n",
       "      <th>12</th>\n",
       "      <td>12</td>\n",
       "      <td>12.0</td>\n",
       "    </tr>\n",
       "    <tr>\n",
       "      <th>13</th>\n",
       "      <td>13</td>\n",
       "      <td>NaN</td>\n",
       "    </tr>\n",
       "    <tr>\n",
       "      <th>14</th>\n",
       "      <td>14</td>\n",
       "      <td>14.0</td>\n",
       "    </tr>\n",
       "    <tr>\n",
       "      <th>15</th>\n",
       "      <td>15</td>\n",
       "      <td>NaN</td>\n",
       "    </tr>\n",
       "    <tr>\n",
       "      <th>16</th>\n",
       "      <td>16</td>\n",
       "      <td>16.0</td>\n",
       "    </tr>\n",
       "    <tr>\n",
       "      <th>17</th>\n",
       "      <td>17</td>\n",
       "      <td>NaN</td>\n",
       "    </tr>\n",
       "    <tr>\n",
       "      <th>18</th>\n",
       "      <td>18</td>\n",
       "      <td>18.0</td>\n",
       "    </tr>\n",
       "    <tr>\n",
       "      <th>19</th>\n",
       "      <td>19</td>\n",
       "      <td>NaN</td>\n",
       "    </tr>\n",
       "    <tr>\n",
       "      <th>20</th>\n",
       "      <td>20</td>\n",
       "      <td>20.0</td>\n",
       "    </tr>\n",
       "    <tr>\n",
       "      <th>21</th>\n",
       "      <td>21</td>\n",
       "      <td>NaN</td>\n",
       "    </tr>\n",
       "    <tr>\n",
       "      <th>22</th>\n",
       "      <td>22</td>\n",
       "      <td>22.0</td>\n",
       "    </tr>\n",
       "    <tr>\n",
       "      <th>23</th>\n",
       "      <td>23</td>\n",
       "      <td>NaN</td>\n",
       "    </tr>\n",
       "    <tr>\n",
       "      <th>24</th>\n",
       "      <td>24</td>\n",
       "      <td>24.0</td>\n",
       "    </tr>\n",
       "    <tr>\n",
       "      <th>25</th>\n",
       "      <td>25</td>\n",
       "      <td>NaN</td>\n",
       "    </tr>\n",
       "    <tr>\n",
       "      <th>26</th>\n",
       "      <td>26</td>\n",
       "      <td>26.0</td>\n",
       "    </tr>\n",
       "    <tr>\n",
       "      <th>27</th>\n",
       "      <td>27</td>\n",
       "      <td>NaN</td>\n",
       "    </tr>\n",
       "    <tr>\n",
       "      <th>28</th>\n",
       "      <td>28</td>\n",
       "      <td>28.0</td>\n",
       "    </tr>\n",
       "    <tr>\n",
       "      <th>29</th>\n",
       "      <td>29</td>\n",
       "      <td>NaN</td>\n",
       "    </tr>\n",
       "    <tr>\n",
       "      <th>30</th>\n",
       "      <td>30</td>\n",
       "      <td>30.0</td>\n",
       "    </tr>\n",
       "    <tr>\n",
       "      <th>31</th>\n",
       "      <td>31</td>\n",
       "      <td>NaN</td>\n",
       "    </tr>\n",
       "    <tr>\n",
       "      <th>32</th>\n",
       "      <td>32</td>\n",
       "      <td>32.0</td>\n",
       "    </tr>\n",
       "    <tr>\n",
       "      <th>33</th>\n",
       "      <td>33</td>\n",
       "      <td>NaN</td>\n",
       "    </tr>\n",
       "    <tr>\n",
       "      <th>34</th>\n",
       "      <td>34</td>\n",
       "      <td>34.0</td>\n",
       "    </tr>\n",
       "    <tr>\n",
       "      <th>35</th>\n",
       "      <td>35</td>\n",
       "      <td>NaN</td>\n",
       "    </tr>\n",
       "    <tr>\n",
       "      <th>36</th>\n",
       "      <td>36</td>\n",
       "      <td>36.0</td>\n",
       "    </tr>\n",
       "    <tr>\n",
       "      <th>37</th>\n",
       "      <td>37</td>\n",
       "      <td>NaN</td>\n",
       "    </tr>\n",
       "    <tr>\n",
       "      <th>38</th>\n",
       "      <td>38</td>\n",
       "      <td>38.0</td>\n",
       "    </tr>\n",
       "    <tr>\n",
       "      <th>39</th>\n",
       "      <td>39</td>\n",
       "      <td>NaN</td>\n",
       "    </tr>\n",
       "    <tr>\n",
       "      <th>40</th>\n",
       "      <td>40</td>\n",
       "      <td>40.0</td>\n",
       "    </tr>\n",
       "    <tr>\n",
       "      <th>41</th>\n",
       "      <td>41</td>\n",
       "      <td>NaN</td>\n",
       "    </tr>\n",
       "    <tr>\n",
       "      <th>42</th>\n",
       "      <td>42</td>\n",
       "      <td>42.0</td>\n",
       "    </tr>\n",
       "    <tr>\n",
       "      <th>43</th>\n",
       "      <td>43</td>\n",
       "      <td>NaN</td>\n",
       "    </tr>\n",
       "    <tr>\n",
       "      <th>44</th>\n",
       "      <td>44</td>\n",
       "      <td>44.0</td>\n",
       "    </tr>\n",
       "    <tr>\n",
       "      <th>45</th>\n",
       "      <td>45</td>\n",
       "      <td>NaN</td>\n",
       "    </tr>\n",
       "    <tr>\n",
       "      <th>46</th>\n",
       "      <td>46</td>\n",
       "      <td>46.0</td>\n",
       "    </tr>\n",
       "    <tr>\n",
       "      <th>47</th>\n",
       "      <td>47</td>\n",
       "      <td>NaN</td>\n",
       "    </tr>\n",
       "    <tr>\n",
       "      <th>48</th>\n",
       "      <td>48</td>\n",
       "      <td>48.0</td>\n",
       "    </tr>\n",
       "    <tr>\n",
       "      <th>49</th>\n",
       "      <td>49</td>\n",
       "      <td>NaN</td>\n",
       "    </tr>\n",
       "    <tr>\n",
       "      <th>50</th>\n",
       "      <td>50</td>\n",
       "      <td>50.0</td>\n",
       "    </tr>\n",
       "  </tbody>\n",
       "</table>\n",
       "</div>"
      ],
      "text/plain": [
       "    increasing  even\n",
       "0            0   0.0\n",
       "1            1   NaN\n",
       "2            2   2.0\n",
       "3            3   NaN\n",
       "4            4   4.0\n",
       "5            5   NaN\n",
       "6            6   6.0\n",
       "7            7   NaN\n",
       "8            8   8.0\n",
       "9            9   NaN\n",
       "10          10  10.0\n",
       "11          11   NaN\n",
       "12          12  12.0\n",
       "13          13   NaN\n",
       "14          14  14.0\n",
       "15          15   NaN\n",
       "16          16  16.0\n",
       "17          17   NaN\n",
       "18          18  18.0\n",
       "19          19   NaN\n",
       "20          20  20.0\n",
       "21          21   NaN\n",
       "22          22  22.0\n",
       "23          23   NaN\n",
       "24          24  24.0\n",
       "25          25   NaN\n",
       "26          26  26.0\n",
       "27          27   NaN\n",
       "28          28  28.0\n",
       "29          29   NaN\n",
       "30          30  30.0\n",
       "31          31   NaN\n",
       "32          32  32.0\n",
       "33          33   NaN\n",
       "34          34  34.0\n",
       "35          35   NaN\n",
       "36          36  36.0\n",
       "37          37   NaN\n",
       "38          38  38.0\n",
       "39          39   NaN\n",
       "40          40  40.0\n",
       "41          41   NaN\n",
       "42          42  42.0\n",
       "43          43   NaN\n",
       "44          44  44.0\n",
       "45          45   NaN\n",
       "46          46  46.0\n",
       "47          47   NaN\n",
       "48          48  48.0\n",
       "49          49   NaN\n",
       "50          50  50.0"
      ]
     },
     "execution_count": 91,
     "metadata": {},
     "output_type": "execute_result"
    }
   ],
   "source": [
    "#Código:\n",
    "numbers=pd.DataFrame({\"increasing\":np.array(range(0,51))})\n",
    "numbers\n",
    "numbers[\"even\"]=numbers[numbers[\"increasing\"]%2==0]\n",
    "numbers"
   ]
  },
  {
   "cell_type": "markdown",
   "metadata": {},
   "source": [
    "### 16.- Agregar la siguiente información en una columna 'pickup_time'\n",
    "\n",
    "Haden = 4,\n",
    "Tomas = 5,\n",
    "Stacy = 3\n",
    "\n",
    "\n",
    "```python\n",
    "> print(students[['grade', 'height', 'pickup_time']])\n",
    "\n",
    "          grade  height  pickup_time\n",
    "Tomas        45      34          5.0\n",
    "Angel        56      35          NaN\n",
    "Stacy        78      36          3.0\n",
    "Michaela     89      37          NaN\n",
    "Haden        90      38          4.0\n",
    "\n",
    "```"
   ]
  },
  {
   "cell_type": "code",
   "execution_count": null,
   "metadata": {},
   "outputs": [],
   "source": [
    "#Código:\n",
    "\n"
   ]
  },
  {
   "cell_type": "markdown",
   "metadata": {},
   "source": [
    "### 17.- Agregar la siguiente informaión para los primeros tres estudiantes, el resto puede ser NaN\n",
    "\n",
    "4,5,3\n",
    "\n",
    "\n",
    "```python\n",
    "> print(students[['grade', 'height', 'pickup_time']])\n",
    "\n",
    "          grade  height  pickup_time\n",
    "Tomas        45      34          4.0\n",
    "Angel        56      35          5.0\n",
    "Stacy        78      36          2.0\n",
    "Michaela     89      37          NaN\n",
    "Haden        90      38          NaN\n",
    "\n",
    "```\n",
    "\n",
    "(NaN is input as np.NaN)"
   ]
  },
  {
   "cell_type": "code",
   "execution_count": null,
   "metadata": {},
   "outputs": [],
   "source": [
    "#Código:\n",
    "\n"
   ]
  },
  {
   "cell_type": "markdown",
   "metadata": {},
   "source": [
    "## Carga de información"
   ]
  },
  {
   "cell_type": "markdown",
   "metadata": {},
   "source": [
    "Para cargar información externa en Pandas primero debemos localizarla"
   ]
  },
  {
   "cell_type": "markdown",
   "metadata": {},
   "source": [
    "El comando 'ls' es de ayuda para esto"
   ]
  },
  {
   "cell_type": "code",
   "execution_count": null,
   "metadata": {},
   "outputs": [],
   "source": [
    "ls"
   ]
  },
  {
   "cell_type": "markdown",
   "metadata": {},
   "source": [
    "probablemente se encuentre en 'data/'"
   ]
  },
  {
   "cell_type": "code",
   "execution_count": null,
   "metadata": {},
   "outputs": [],
   "source": [
    "ls data"
   ]
  },
  {
   "cell_type": "markdown",
   "metadata": {},
   "source": [
    "Pandas puede cargar csv, aunque algunas veces el csv no está separado por comas. Revisemos lo que está dentro de playgolf.csv"
   ]
  },
  {
   "cell_type": "code",
   "execution_count": null,
   "metadata": {},
   "outputs": [],
   "source": [
    "# '!' significa que estamos ejecutando un comando de bash\n",
    "!head -1 data/playgolf.csv"
   ]
  },
  {
   "cell_type": "code",
   "execution_count": null,
   "metadata": {},
   "outputs": [],
   "source": [
    "!head -1 data/playgolf.csv"
   ]
  },
  {
   "cell_type": "markdown",
   "metadata": {},
   "source": [
    "###  Cargar datos desde csv\n",
    "\n",
    "Un csv (valores separados por comas) es un formato de archivo utilizado para almacenar datos separados por un **delimitador**.\n",
    "\n",
    "Un delimitador es el **carácter único** que divide los elementos de datos en un archivo.  La coma es una opción tradicional de delimitador, pero relativamente pobre porque a menudo forma parte de los propios elementos.  Las mejores opciones son el pipe (`|`) y el tabulador (`\\t`)."
   ]
  },
  {
   "cell_type": "markdown",
   "metadata": {},
   "source": [
    "En un extraño giro de la historia, los archivos separados por comas a menudo se separan con caracteres diferentes a las comas.  No hay una convención consistente de usar una extensión de archivo diferente, pero algunas personas usan `.psv` o `.tsv`.\n",
    "\n",
    "Pandas tiene una función `read_csv` que carga un fichero delimitado en un `DataFrame`.  "
   ]
  },
  {
   "cell_type": "code",
   "execution_count": null,
   "metadata": {},
   "outputs": [],
   "source": [
    "golf_df = pd.read_csv('data/playgolf.csv', delimiter=',')"
   ]
  },
  {
   "cell_type": "code",
   "execution_count": null,
   "metadata": {},
   "outputs": [],
   "source": [
    "golf_df"
   ]
  },
  {
   "cell_type": "markdown",
   "metadata": {},
   "source": [
    "### 18.- Cargar hospital-costs.csv como 'hospital_costs'.\n"
   ]
  },
  {
   "cell_type": "code",
   "execution_count": null,
   "metadata": {},
   "outputs": [],
   "source": [
    "#Código:\n",
    "\n"
   ]
  },
  {
   "cell_type": "markdown",
   "metadata": {},
   "source": [
    "### 19.- Cargar winnequality-white.csv como 'wine_quality_white'."
   ]
  },
  {
   "cell_type": "code",
   "execution_count": null,
   "metadata": {},
   "outputs": [],
   "source": [
    "#Código:\n",
    "\n"
   ]
  },
  {
   "cell_type": "markdown",
   "metadata": {},
   "source": [
    "## Extraer información del DataFrame"
   ]
  },
  {
   "cell_type": "markdown",
   "metadata": {},
   "source": [
    "#### Índices de Fila y Columna"
   ]
  },
  {
   "cell_type": "markdown",
   "metadata": {},
   "source": [
    "Como hemos visto, se pueden extraer columnas individuales de un `DataFrame` como una `Serie` utilizando la indexación habitual de estilo `__getitem__` utilizando el nombre de la columna.  \n",
    "\n",
    "Esto es similar a cómo indexamos un diccionario."
   ]
  },
  {
   "cell_type": "code",
   "execution_count": null,
   "metadata": {},
   "outputs": [],
   "source": [
    "golf_df['Temperature']"
   ]
  },
  {
   "cell_type": "markdown",
   "metadata": {},
   "source": [
    "Para extraer valores individuales"
   ]
  },
  {
   "cell_type": "code",
   "execution_count": null,
   "metadata": {},
   "outputs": [],
   "source": [
    "golf_df['Temperature'][0]"
   ]
  },
  {
   "cell_type": "markdown",
   "metadata": {},
   "source": [
    "Para extraer múltiples columnas"
   ]
  },
  {
   "cell_type": "code",
   "execution_count": null,
   "metadata": {},
   "outputs": [],
   "source": [
    "golf_df[['Temperature', 'Humidity']]"
   ]
  },
  {
   "cell_type": "markdown",
   "metadata": {},
   "source": [
    "Para extraer un número limitado de filas"
   ]
  },
  {
   "cell_type": "code",
   "execution_count": null,
   "metadata": {},
   "outputs": [],
   "source": [
    "short_df = golf_df[0:5]\n",
    "short_df"
   ]
  },
  {
   "cell_type": "markdown",
   "metadata": {},
   "source": [
    "### 20.- Extraer las columnas Facility Id, Year, Discharges, and Mean Charge de hospital_costs\n",
    "\n",
    "```python\n",
    "        Facility Id  Year  Discharges  Mean Charge\n",
    "0               324  2011           3     361289.0\n",
    "1               324  2011           1     102190.0\n",
    "2               324  2011           6      14172.0\n",
    "3               324  2011           1       8833.0\n",
    "4               324  2011           1       5264.0\n",
    "...             ...   ...         ...          ...\n",
    "383488         1153  2009           5      13572.0\n",
    "383489         1153  2009           4       8323.0\n",
    "383490         1153  2009           5       7746.0\n",
    "383491         1153  2009           1       7892.0\n",
    "383492         1153  2009           3       1069.0\n",
    "```"
   ]
  },
  {
   "cell_type": "code",
   "execution_count": null,
   "metadata": {},
   "outputs": [],
   "source": [
    "#Código:\n",
    "\n"
   ]
  },
  {
   "cell_type": "markdown",
   "metadata": {},
   "source": [
    "## Índie Booleano / Logico"
   ]
  },
  {
   "cell_type": "markdown",
   "metadata": {},
   "source": [
    "También podemos indexar un `DataFrame` utilizando una lista de **booleanos** (es decir, valores `True` y `False`). Esto también operará sobre las filas."
   ]
  },
  {
   "cell_type": "code",
   "execution_count": null,
   "metadata": {},
   "outputs": [],
   "source": [
    "# Filas 0, 2, y 4.\n",
    "short_df[[True, False, True, False, True]]"
   ]
  },
  {
   "cell_type": "markdown",
   "metadata": {},
   "source": [
    "Es de utilidad para crear `Series` booleanas a partir de una comparación"
   ]
  },
  {
   "cell_type": "code",
   "execution_count": null,
   "metadata": {},
   "outputs": [],
   "source": [
    "# A series of booleans.\n",
    "golf_df['Temperature'] > 70"
   ]
  },
  {
   "cell_type": "markdown",
   "metadata": {},
   "source": [
    "Y después elegir las columnas del DataFrame"
   ]
  },
  {
   "cell_type": "code",
   "execution_count": null,
   "metadata": {},
   "outputs": [],
   "source": [
    "golf_df[golf_df['Temperature'] > 70][[\"Date\", \"Windy\"]]"
   ]
  },
  {
   "cell_type": "markdown",
   "metadata": {},
   "source": [
    "Esto es esencialmente aplicar una condición lógica para seleccionar filas de un `DataFrame`.  Este es uno de los patrones más comunes en Pandas."
   ]
  },
  {
   "cell_type": "markdown",
   "metadata": {},
   "source": [
    "Para repasar: si indexas un `DataFrame` con un **valor único** o una **lista de valores**, selecciona las **columnas**.\n",
    "\n",
    "Si utilizas un **corte** o una **secuencia de booleanos**, selecciona las **filas**. "
   ]
  },
  {
   "cell_type": "markdown",
   "metadata": {},
   "source": [
    "### 21.- Seleccionar los días en que la humedad es mayor a 90 en 'golf_df'.\n",
    "\n",
    "```python\n",
    "     Date Outlook  Temperature  Humidity  Windy      Result\n",
    "3  7/4/14    rain           70        96  False        Play\n",
    "7  7/8/14   sunny           72        95  False  Don't Play\n",
    "```"
   ]
  },
  {
   "cell_type": "code",
   "execution_count": null,
   "metadata": {},
   "outputs": [],
   "source": [
    "#Código:\n",
    "\n"
   ]
  },
  {
   "cell_type": "markdown",
   "metadata": {},
   "source": [
    "## Operadores lógicos"
   ]
  },
  {
   "cell_type": "code",
   "execution_count": null,
   "metadata": {},
   "outputs": [],
   "source": [
    "(golf_df['Humidity']>90) | (golf_df['Outlook']==\"Sunny\") # '|' es 'OR'"
   ]
  },
  {
   "cell_type": "code",
   "execution_count": null,
   "metadata": {},
   "outputs": [],
   "source": [
    "(golf_df['Result']==\"Don't Play\") & golf_df['Windy'] # '&' es 'AND'"
   ]
  },
  {
   "cell_type": "markdown",
   "metadata": {},
   "source": [
    "### 22.- Seleccionar los días lluviosos con una temperatura menor a 70 grados en 'play_golf'"
   ]
  },
  {
   "cell_type": "code",
   "execution_count": null,
   "metadata": {},
   "outputs": [],
   "source": [
    "#Código:\n",
    "\n"
   ]
  },
  {
   "cell_type": "markdown",
   "metadata": {},
   "source": [
    "### 23.- Seleccionar la fecha y el resultado de los días lluviosos en que la humedad es mayor a 90 en 'play_golf'\n",
    "\n",
    "```python\n",
    "     Date Result\n",
    "3  7/4/14   Play\n",
    "```"
   ]
  },
  {
   "cell_type": "code",
   "execution_count": null,
   "metadata": {},
   "outputs": [],
   "source": [
    "#Código:\n"
   ]
  },
  {
   "cell_type": "markdown",
   "metadata": {},
   "source": [
    "## Doble índice"
   ]
  },
  {
   "cell_type": "markdown",
   "metadata": {},
   "source": [
    "Supongamos que queremos establecer el valor de la columna `Windy` donde `Temperature > 70` como True."
   ]
  },
  {
   "cell_type": "code",
   "execution_count": null,
   "metadata": {},
   "outputs": [],
   "source": [
    "golf_df[golf_df['Temperature'] > 70][\"Windy\"] = True"
   ]
  },
  {
   "cell_type": "markdown",
   "metadata": {},
   "source": [
    "Vaya, un error"
   ]
  },
  {
   "cell_type": "code",
   "execution_count": null,
   "metadata": {},
   "outputs": [],
   "source": [
    "golf_df[golf_df['Temperature'] > 70][\"Windy\"]"
   ]
  },
  {
   "cell_type": "markdown",
   "metadata": {},
   "source": [
    "Al parecer, aún es Falso"
   ]
  },
  {
   "cell_type": "markdown",
   "metadata": {},
   "source": [
    "Este patrón se llama doble indexación, ¡y es un antipatrón!  ¡Pandas no puede garantizar que las asignaciones se mantengan cuando se indexa dos veces!\n",
    "\n",
    "Para solucionar estos problemas, tenemos que estudiar las otras opciones de indexación que proporciona Pandas."
   ]
  },
  {
   "cell_type": "markdown",
   "metadata": {},
   "source": [
    "#### .loc e .iloc"
   ]
  },
  {
   "cell_type": "markdown",
   "metadata": {},
   "source": [
    "Hay algunos otros objetos de indexación en pandas, los cuales toman un valor para elegir las filas y un valor para elegir las columnas.\n",
    "\n",
    "  - `df.iloc` está **basado en la posición**.  Este indexador acepta enteros y trozos de enteros, y esencialmente trata el marco de datos como si fuera una simple matriz.\n",
    "  - `df.loc` está **basado en etiquetas**.  Este indexador trabaja con índices/etiquetas de filas y columnas."
   ]
  },
  {
   "cell_type": "code",
   "execution_count": null,
   "metadata": {},
   "outputs": [],
   "source": [
    "df = pd.DataFrame({\n",
    "    'some_integers': [0, 0, 1, 1, 2, 2],\n",
    "    'some_strings': ['x', 'y', 'z', 'x', 'y', 'z'],\n",
    "    'some_booleans': [0, 0, 1, 0, 1, 1]},\n",
    "    index=['a', 'b', 'c', 'd', 'e', 'f']\n",
    ")\n",
    "df"
   ]
  },
  {
   "cell_type": "code",
   "execution_count": null,
   "metadata": {},
   "outputs": [],
   "source": [
    "df.iloc[2:4, 0:2]"
   ]
  },
  {
   "cell_type": "code",
   "execution_count": null,
   "metadata": {},
   "outputs": [],
   "source": [
    "df.loc['b':'e', ['some_integers', 'some_booleans']]"
   ]
  },
  {
   "cell_type": "markdown",
   "metadata": {},
   "source": [
    "### 24.- Seleccionar las filas a,b,c, y f \n",
    "\n",
    "```python\n",
    "   some_integers some_strings  some_booleans\n",
    "a              0            x              0\n",
    "b              0            y              0\n",
    "c              1            z              1\n",
    "f              2            z              1\n",
    "```"
   ]
  },
  {
   "cell_type": "code",
   "execution_count": null,
   "metadata": {},
   "outputs": [],
   "source": [
    "#Código:\n",
    "\n"
   ]
  },
  {
   "cell_type": "markdown",
   "metadata": {},
   "source": [
    "### 25.- Seleccionar la fila 0, 1a y 5a\n",
    "\n",
    "```python\n",
    "   some_integers some_strings  some_booleans\n",
    "a              0            x              0\n",
    "b              0            y              0\n",
    "f              2            z              1\n",
    "```"
   ]
  },
  {
   "cell_type": "code",
   "execution_count": null,
   "metadata": {},
   "outputs": [],
   "source": [
    "#Código:\n",
    "\n"
   ]
  },
  {
   "cell_type": "markdown",
   "metadata": {},
   "source": [
    "### 26.- Seleccionar los estudiantes 0 y 4o\n",
    "\n",
    "```python\n",
    "       grade  height was_late     top_crush   ...\n",
    "Tomas     45      34      NaN         Angel\n",
    "Haden     90      38      NaN  Edgar A. Poe\n",
    "```"
   ]
  },
  {
   "cell_type": "code",
   "execution_count": null,
   "metadata": {},
   "outputs": [],
   "source": [
    "#Código:\n",
    "\n"
   ]
  },
  {
   "cell_type": "markdown",
   "metadata": {},
   "source": [
    "### 27.- Seleccionar a Haden, Angel y Micaela en ese orden\n",
    "\n",
    "```python\n",
    "          grade  height was_late     top_crush\n",
    "Haden        90      38      NaN  Edgar A. Poe\n",
    "Angel        56      35      NaN         Haden\n",
    "Michaela     89      37      NaN         Tomas\n",
    "```"
   ]
  },
  {
   "cell_type": "code",
   "execution_count": null,
   "metadata": {},
   "outputs": [],
   "source": [
    "#Código:\n",
    "\n"
   ]
  },
  {
   "cell_type": "markdown",
   "metadata": {},
   "source": [
    "## Índice mixto"
   ]
  },
  {
   "cell_type": "markdown",
   "metadata": {},
   "source": [
    "Entonces, ¿qué hacemos si queremos obtener las filas por posición, y obtener las columnas por etiqueta?  Es decir, si tenemos un uso para la **indexación mixta**."
   ]
  },
  {
   "cell_type": "markdown",
   "metadata": {},
   "source": [
    "```python\n",
    "# Mixto con iloc: no funciona.\n",
    ">>> df.iloc[2:4, ['some_integers', 'some_booleans']]\n",
    "\n",
    "---------------------------------------------------------------------------\n",
    "IndexError                                Traceback (most recent call last)\n",
    "<ipython-input-337-dcc694afee25> in <module>\n",
    "      1 # Mixto con iloc: no funciona.\n",
    "----> 2 df.iloc[2:4, ['some_integers', 'some_booleans']]\n",
    "```"
   ]
  },
  {
   "cell_type": "markdown",
   "metadata": {},
   "source": [
    "Hacer una indexación mixta en los pandas modernos es más explícito, menos mágico.  Es necesario utilizar los atributos `df.index` y `df.columns` para convertir explícitamente las posiciones en etiquetas."
   ]
  },
  {
   "cell_type": "markdown",
   "metadata": {},
   "source": [
    "#### Filas por posición, Columnas por nombre"
   ]
  },
  {
   "cell_type": "code",
   "execution_count": null,
   "metadata": {},
   "outputs": [],
   "source": [
    "df.index[2:4]"
   ]
  },
  {
   "cell_type": "code",
   "execution_count": null,
   "metadata": {},
   "outputs": [],
   "source": [
    "df.loc[df.index[2:4], ['some_integers', 'some_booleans']]"
   ]
  },
  {
   "cell_type": "markdown",
   "metadata": {},
   "source": [
    "#### Filas por nombre, Columnas por posición"
   ]
  },
  {
   "cell_type": "code",
   "execution_count": null,
   "metadata": {},
   "outputs": [],
   "source": [
    "df.columns[[0, 2]]"
   ]
  },
  {
   "cell_type": "code",
   "execution_count": null,
   "metadata": {
    "scrolled": true
   },
   "outputs": [],
   "source": [
    "df.loc[['c', 'd'], df.columns[[0, 2]]]"
   ]
  },
  {
   "cell_type": "markdown",
   "metadata": {},
   "source": [
    "### 28.- Utilizar el índice mixto para obtener la fila 0, 2a y 4a row de top_crush y pickup_time\n",
    "\n",
    "```python\n",
    "          top_crush  pickup_time\n",
    "Tomas         Angel          4.0\n",
    "Stacy      Michaela          2.0\n",
    "Haden  Edgar A. Poe          NaN\n",
    "```"
   ]
  },
  {
   "cell_type": "code",
   "execution_count": null,
   "metadata": {},
   "outputs": [],
   "source": [
    "#Código:\n",
    "\n"
   ]
  },
  {
   "cell_type": "markdown",
   "metadata": {},
   "source": [
    "### 29.- Utilizar el índice mixto para obtener el siguiente dataframe, utilizando posición en columns y nombre en filas\n",
    "\n",
    "```python\n",
    "       grade  was_late  above_75_percent  grade\n",
    "Stacy     78      True              True     78\n",
    "Haden     90     False              True     90\n",
    "```"
   ]
  },
  {
   "cell_type": "code",
   "execution_count": null,
   "metadata": {},
   "outputs": [],
   "source": [
    "#Código:\n",
    "\n"
   ]
  },
  {
   "cell_type": "markdown",
   "metadata": {},
   "source": [
    "## Transformaciones"
   ]
  },
  {
   "cell_type": "markdown",
   "metadata": {},
   "source": [
    "Las operaciones aritméticas se aplican a las `Series` elemento a elemento. (como las matrices)"
   ]
  },
  {
   "cell_type": "code",
   "execution_count": null,
   "metadata": {},
   "outputs": [],
   "source": [
    "# Ejemplo\n",
    "golf_df[\"TempHumid\"] = golf_df['Temperature'] + golf_df['Humidity']"
   ]
  },
  {
   "cell_type": "code",
   "execution_count": null,
   "metadata": {},
   "outputs": [],
   "source": [
    "golf_df.head()"
   ]
  },
  {
   "cell_type": "code",
   "execution_count": null,
   "metadata": {},
   "outputs": [],
   "source": [
    "# Calcular el índice de calor\n",
    "\n",
    "#    https://en.wikipedia.org/wiki/Heat_index\n",
    "temp = golf_df['Temperature']\n",
    "humid = golf_df['Humidity']\n",
    "golf_df['HeatIndex'] = (-42.37 + 2.05*temp + 10.14*humid\n",
    "                        - 0.225*temp*humid\n",
    "                        - 6.84e-3*temp**2 \n",
    "                        - 5.482e-2*humid**2\n",
    "                        + 1.23e-3*temp**2*humid\n",
    "                        + 8.53e-4*temp*humid**2\n",
    "                        - 1.99e-6*temp**2*humid**2\n",
    ")\n",
    "golf_df[['Temperature', 'Humidity', 'HeatIndex']].head()"
   ]
  },
  {
   "cell_type": "markdown",
   "metadata": {},
   "source": [
    "### 30.- Crear una columna 'smarty_pants' que devuelva 'Verdadero' si el grade de un estudiante es mayor a 2.2 veces su estatura\n",
    "\n",
    "```python\n",
    ">>> print(students[['grade','height', 'smarty_pants']])\n",
    "          grade  height  smarty_pants\n",
    "Tomas        45      34         False\n",
    "Angel        56      35         False\n",
    "Stacy        78      36         False\n",
    "Michaela     89      37          True\n",
    "Haden        90      38          True\n",
    "```"
   ]
  },
  {
   "cell_type": "code",
   "execution_count": null,
   "metadata": {},
   "outputs": [],
   "source": [
    "#Código:\n",
    "\n"
   ]
  },
  {
   "cell_type": "markdown",
   "metadata": {},
   "source": [
    "### 31.- Crear una columna 'percent fixed acidity' que calcule la cantidad de acidez total que se encuentra en wine_quality_white.\n",
    "\n",
    "```python\n",
    ">>> print(wine_quality_white[['fixed acidity', 'volatile acidity', 'citric acid', 'percent fixed acidity']])\n",
    "      fixed acidity  volatile acidity  citric acid  percent fixed acidity\n",
    "0               7.0              0.27         0.36               0.917431\n",
    "1               6.3              0.30         0.34               0.907781\n",
    "2               8.1              0.28         0.40               0.922551\n",
    "3               7.2              0.23         0.32               0.929032\n",
    "4               7.2              0.23         0.32               0.929032\n",
    "...             ...               ...          ...                    ...\n",
    "4893            6.2              0.21         0.29               0.925373\n",
    "4894            6.6              0.32         0.36               0.906593\n",
    "4895            6.5              0.24         0.19               0.937951\n",
    "4896            5.5              0.29         0.30               0.903120\n",
    "4897            6.0              0.21         0.38               0.910470\n",
    "```"
   ]
  },
  {
   "cell_type": "code",
   "execution_count": null,
   "metadata": {},
   "outputs": [],
   "source": [
    "#Código:\n",
    "\n"
   ]
  },
  {
   "cell_type": "markdown",
   "metadata": {},
   "source": [
    "## Apply"
   ]
  },
  {
   "cell_type": "markdown",
   "metadata": {},
   "source": [
    "Es posible crear una nueva Serie al aplicar una función a una Serie existente\n",
    "\n",
    "Ejemplo: Extraer el día del mes en la columna 'date'"
   ]
  },
  {
   "cell_type": "code",
   "execution_count": null,
   "metadata": {},
   "outputs": [],
   "source": [
    "golf_df"
   ]
  },
  {
   "cell_type": "code",
   "execution_count": null,
   "metadata": {},
   "outputs": [],
   "source": [
    "golf_df['Date'].apply(lambda x: x.split('/')[1])"
   ]
  },
  {
   "cell_type": "markdown",
   "metadata": {},
   "source": [
    "Apply toma cada elemento de la serie 'date' y le *aplica* la función. Las salidas se ordenan en un array de la misma forma e índice.\n",
    "\n",
    "Así que podemos guardarlo así"
   ]
  },
  {
   "cell_type": "code",
   "execution_count": null,
   "metadata": {},
   "outputs": [],
   "source": [
    "golf_df['day'] = golf_df['Date'].apply(lambda x: x.split('/')[1])\n",
    "golf_df"
   ]
  },
  {
   "cell_type": "markdown",
   "metadata": {},
   "source": [
    "lambda es sólo una forma de hacer una función. También podemos aplicar una función previamente definida."
   ]
  },
  {
   "cell_type": "code",
   "execution_count": null,
   "metadata": {},
   "outputs": [],
   "source": [
    "def get_day(x):\n",
    "    return x.split('/')[1]\n",
    "\n",
    "golf_df['Date'].apply(get_day)"
   ]
  },
  {
   "cell_type": "markdown",
   "metadata": {},
   "source": [
    "Es posible aplicar una función a cada fila del DataFrame especificando la columna y su eje=1"
   ]
  },
  {
   "cell_type": "code",
   "execution_count": null,
   "metadata": {},
   "outputs": [],
   "source": [
    "golf_df.apply(lambda x: x['Temperature'] + x['Humidity'], axis=1)"
   ]
  },
  {
   "cell_type": "markdown",
   "metadata": {},
   "source": [
    "En general, `.apply` es útil para mapear funciones complejas en sus datos."
   ]
  },
  {
   "cell_type": "markdown",
   "metadata": {},
   "source": [
    "### 32.- Crear una columna 'report_card' que muestre 'FAILURE' si el 'grade' de un estudiante es menor a 60, y que muestre su calificación si es mayor a 60\n",
    "\n",
    "```python\n",
    ">>> print(students[['grade','height', 'report_card']])\n",
    "          grade  height report_card\n",
    "Tomas        45      34     FAILURE\n",
    "Angel        56      35     FAILURE\n",
    "Stacy        78      36          78\n",
    "Michaela     89      37          89\n",
    "Haden        90      38          90\n",
    "```"
   ]
  },
  {
   "cell_type": "code",
   "execution_count": null,
   "metadata": {},
   "outputs": [],
   "source": [
    "#Código:\n",
    "\n"
   ]
  },
  {
   "cell_type": "markdown",
   "metadata": {},
   "source": [
    "### 33.- Crear una columna 'even_height' que muestre 'Even' si su estatura es un numero par, y que muestre 'odd' si su estatura es un número impar.\n",
    "\n",
    "```python\n",
    ">>> print(students[['grade','height', 'even_height']])\n",
    "          grade  height even_height\n",
    "Tomas        45      34        Even\n",
    "Angel        56      35         Odd\n",
    "Stacy        78      36        Even\n",
    "Michaela     89      37         Odd\n",
    "Haden        90      38        Even\n",
    "```"
   ]
  },
  {
   "cell_type": "code",
   "execution_count": null,
   "metadata": {},
   "outputs": [],
   "source": [
    "#Código:\n",
    "\n"
   ]
  },
  {
   "cell_type": "markdown",
   "metadata": {},
   "source": [
    "## Agregaciones"
   ]
  },
  {
   "cell_type": "markdown",
   "metadata": {},
   "source": [
    "Existen MUCHOS métodos disponibles para nosotros dentro de cada dataframe. Algunos de ellos son agregaciones, al igual que en numpy."
   ]
  },
  {
   "cell_type": "code",
   "execution_count": null,
   "metadata": {},
   "outputs": [],
   "source": [
    "golf_df.count() #Cuenta items que no son None"
   ]
  },
  {
   "cell_type": "code",
   "execution_count": null,
   "metadata": {},
   "outputs": [],
   "source": [
    "golf_df.count(axis=1)"
   ]
  },
  {
   "cell_type": "code",
   "execution_count": null,
   "metadata": {},
   "outputs": [],
   "source": [
    "golf_df.mean()"
   ]
  },
  {
   "cell_type": "code",
   "execution_count": null,
   "metadata": {},
   "outputs": [],
   "source": [
    "golf_df.sum()"
   ]
  },
  {
   "cell_type": "code",
   "execution_count": null,
   "metadata": {},
   "outputs": [],
   "source": [
    "golf_df.aggregate(min)"
   ]
  },
  {
   "cell_type": "markdown",
   "metadata": {},
   "source": [
    "¿Qué pasa si queremos calcular la temperatura mínima en días nublados, lluviosos o soleados? \n",
    "\n",
    "¡Usamos una sentencia groupby! Como en sql."
   ]
  },
  {
   "cell_type": "code",
   "execution_count": null,
   "metadata": {},
   "outputs": [],
   "source": [
    "golf_df.groupby('Outlook').aggregate(min)"
   ]
  },
  {
   "cell_type": "markdown",
   "metadata": {},
   "source": [
    "Esto toma el mínimo de cada __Outlook__ de *cada* otra columna. ¡Y ahora __Outlook__ es el índice! \n",
    "\n",
    "Veamos lo que nos interesa, la temperatura."
   ]
  },
  {
   "cell_type": "code",
   "execution_count": null,
   "metadata": {},
   "outputs": [],
   "source": [
    "golf_df.groupby('Outlook').aggregate(min)[['Temperature']]"
   ]
  },
  {
   "cell_type": "markdown",
   "metadata": {},
   "source": [
    "### 34.- Calcular los datos promedio de clima para cada Outlook.\n",
    "\n",
    "```python\n",
    "          Temperature  Humidity  Windy  TempHumid  HeatIndex\n",
    "Outlook                                                     \n",
    "overcast         75.0      77.0    0.5      152.0  79.571853\n",
    "rain             69.8      81.2    0.4      151.0  70.129762\n",
    "sunny            76.2      82.0    0.4      158.2  79.469540\n",
    "```"
   ]
  },
  {
   "cell_type": "code",
   "execution_count": null,
   "metadata": {},
   "outputs": [],
   "source": [
    "#Código:\n",
    "\n"
   ]
  },
  {
   "cell_type": "markdown",
   "metadata": {},
   "source": [
    "### 35.- Calcular la temperatura Máxima en días windy y non-windy\n",
    "\n",
    "```python\n",
    "Windy\n",
    "False    85\n",
    "True     80\n",
    "```"
   ]
  },
  {
   "cell_type": "code",
   "execution_count": null,
   "metadata": {},
   "outputs": [],
   "source": [
    "#Código:\n",
    "\n"
   ]
  },
  {
   "cell_type": "markdown",
   "metadata": {},
   "source": [
    "Documentación de ayuda para groupby: http://pandas.pydata.org/pandas-docs/stable/groupby.html\n",
    "\n"
   ]
  },
  {
   "cell_type": "markdown",
   "metadata": {},
   "source": [
    "## Summaries"
   ]
  },
  {
   "cell_type": "markdown",
   "metadata": {},
   "source": [
    "`info` funciona para revisar los tipos de datos por columna y revisar al mismo tiempo si existen NaN's"
   ]
  },
  {
   "cell_type": "code",
   "execution_count": null,
   "metadata": {},
   "outputs": [],
   "source": [
    "golf_df.info()"
   ]
  },
  {
   "cell_type": "markdown",
   "metadata": {},
   "source": [
    "`describe` brinda un análisis descriptivo básico"
   ]
  },
  {
   "cell_type": "code",
   "execution_count": null,
   "metadata": {},
   "outputs": [],
   "source": [
    "golf_df.describe()"
   ]
  },
  {
   "cell_type": "markdown",
   "metadata": {},
   "source": [
    "### 36.- Qué columna de wine_quality_white tiene la mayor desviación estándar?"
   ]
  },
  {
   "cell_type": "code",
   "execution_count": null,
   "metadata": {},
   "outputs": [],
   "source": [
    "#Código:\n",
    "\n"
   ]
  },
  {
   "cell_type": "markdown",
   "metadata": {},
   "source": [
    "### 37.- Qué columnas son enteros en wine_quality_white?\n"
   ]
  },
  {
   "cell_type": "code",
   "execution_count": null,
   "metadata": {},
   "outputs": [],
   "source": [
    "#Código:\n",
    "\n"
   ]
  },
  {
   "cell_type": "markdown",
   "metadata": {},
   "source": [
    "### 38.- Qué columna tiene el percentil 75 más bajo?"
   ]
  },
  {
   "cell_type": "code",
   "execution_count": null,
   "metadata": {},
   "outputs": [],
   "source": [
    "#Código:\n",
    "\n"
   ]
  },
  {
   "cell_type": "markdown",
   "metadata": {},
   "source": [
    "## Crosstab"
   ]
  },
  {
   "cell_type": "markdown",
   "metadata": {},
   "source": [
    "`crosstab` devuelve un conteo de frecuencia entre dos columnas"
   ]
  },
  {
   "cell_type": "code",
   "execution_count": null,
   "metadata": {},
   "outputs": [],
   "source": [
    "pd.crosstab(golf_df['Outlook'], golf_df['Result'])"
   ]
  },
  {
   "cell_type": "markdown",
   "metadata": {},
   "source": [
    "## DateTimes"
   ]
  },
  {
   "cell_type": "markdown",
   "metadata": {},
   "source": [
    "Para convertir cadenas de texto a una columna de tipo fecha se utiliza la función `to_datetime`"
   ]
  },
  {
   "cell_type": "code",
   "execution_count": null,
   "metadata": {},
   "outputs": [],
   "source": [
    "golf_df['DateTime'] = pd.to_datetime(golf_df['Date'])\n",
    "golf_df['DateTime']"
   ]
  },
  {
   "cell_type": "markdown",
   "metadata": {},
   "source": [
    "`day` vs `dayofweek` "
   ]
  },
  {
   "cell_type": "code",
   "execution_count": null,
   "metadata": {},
   "outputs": [],
   "source": [
    "golf_df['DateTime'].dt.day"
   ]
  },
  {
   "cell_type": "code",
   "execution_count": null,
   "metadata": {},
   "outputs": [],
   "source": [
    "golf_df['DateTime'].dt.dayofweek"
   ]
  },
  {
   "cell_type": "markdown",
   "metadata": {},
   "source": [
    "Month"
   ]
  },
  {
   "cell_type": "code",
   "execution_count": null,
   "metadata": {},
   "outputs": [],
   "source": [
    "golf_df['DateTime'].dt.month"
   ]
  },
  {
   "cell_type": "markdown",
   "metadata": {},
   "source": [
    "Operaciones"
   ]
  },
  {
   "cell_type": "code",
   "execution_count": null,
   "metadata": {},
   "outputs": [],
   "source": [
    "golf_df['DateTime'][0] - golf_df['DateTime'][5]"
   ]
  },
  {
   "cell_type": "code",
   "execution_count": null,
   "metadata": {},
   "outputs": [],
   "source": [
    "golf_df['DateTime'] - golf_df['DateTime']"
   ]
  },
  {
   "cell_type": "markdown",
   "metadata": {},
   "source": [
    "### 39.- Calcular el último día de la semana con y sin juego\n",
    "\n",
    "```python\n",
    "Result\n",
    "Don't Play    6\n",
    "Play          6\n",
    "Name: dayofweek, dtype: int64\n",
    "```"
   ]
  },
  {
   "cell_type": "code",
   "execution_count": null,
   "metadata": {},
   "outputs": [],
   "source": [
    "#Código:\n",
    "\n"
   ]
  },
  {
   "cell_type": "markdown",
   "metadata": {},
   "source": [
    "## Cambio de índice"
   ]
  },
  {
   "cell_type": "markdown",
   "metadata": {},
   "source": [
    "Para configurar una columna existente como índice"
   ]
  },
  {
   "cell_type": "code",
   "execution_count": null,
   "metadata": {},
   "outputs": [],
   "source": [
    "date_df = golf_df.set_index('DateTime')\n",
    "date_df"
   ]
  },
  {
   "cell_type": "code",
   "execution_count": null,
   "metadata": {},
   "outputs": [],
   "source": [
    "date_df.index"
   ]
  },
  {
   "cell_type": "markdown",
   "metadata": {},
   "source": [
    "Si el índice es de tipo datetime se puede utilizar `resample` para hacer agregaciones o cortes"
   ]
  },
  {
   "cell_type": "code",
   "execution_count": null,
   "metadata": {},
   "outputs": [],
   "source": [
    "# W de weekly.\n",
    "date_df.resample('W').mean()"
   ]
  },
  {
   "cell_type": "markdown",
   "metadata": {},
   "source": [
    "## Escribir Datos"
   ]
  },
  {
   "cell_type": "markdown",
   "metadata": {},
   "source": [
    "En un archivo csv.\n",
    "\n",
    "```python \n",
    ">>> golf_df.to_csv('new_playgolf.csv', index=False)\n",
    "\n",
    ">>> !cat new_playgolf.csv \n",
    "\n",
    "Date,Outlook,Temperature,Humidity,Windy,Result,TempHumid,HeatIndex,day,DateTime\n",
    "7/1/14,sunny,85,85,False,Don't Play,170,98.0046312500001,1,2014-07-01\n",
    "7/2/14,sunny,80,90,True,Don't Play,170,84.47439999999996,2,2014-07-02\n",
    "7/3/14,overcast,83,78,False,Play,161,89.66991075999985,3,2014-07-03\n",
    "7/4/14,rain,70,96,False,Play,166,62.84702400000019,4,2014-07-04\n",
    "7/5/14,rain,68,80,False,Play,148,69.08977600000006,5,2014-07-05\n",
    "7/6/14,rain,65,70,True,Don't Play,135,73.66802499999999,6,2014-07-06\n",
    "7/7/14,overcast,64,65,True,Play,129,75.9871160000001,7,2014-07-07\n",
    "7/8/14,sunny,72,95,False,Don't Play,167,66.2473960000001,8,2014-07-08\n",
    "7/9/14,sunny,69,70,False,Play,139,72.84364900000003,9,2014-07-09\n",
    "7/10/14,rain,75,80,False,Play,155,74.55700000000012,10,2014-07-10\n",
    "7/11/14,sunny,75,70,True,Play,145,75.777625,11,2014-07-11\n",
    "7/12/14,overcast,72,90,True,Play,162,68.10694399999996,12,2014-07-12\n",
    "7/13/14,overcast,81,75,False,Play,156,84.52344124999973,13,2014-07-13\n",
    "7/14/14,rain,71,80,True,Don't Play,151,70.48698400000002,14,2014-07-14\n",
    "```"
   ]
  },
  {
   "cell_type": "markdown",
   "metadata": {},
   "source": [
    "## Análisis Exploratorio de los Datos"
   ]
  },
  {
   "cell_type": "markdown",
   "metadata": {},
   "source": [
    "### 40.- Efectuar un Análisis Exploratorio (EDA)\n",
    "\n",
    "Abrir el archivo chess_games.csv y responder las siguientes preguntas en cuadros de código separados:\n",
    "\n",
    "1. ¿Cuántas filas de datos tiene?\n",
    "2. ¿Qué representa cada fila?\n",
    "3. ¿Quién ganó más, los blancos o los negros?\n",
    "4. ¿Cuántas jugadas por partida hay en promedio?\n",
    "5. ¿Cuál fue la \"primera jugada\" más probable?\n",
    "6. ¿Cuántas partidas terminan en jaque mate? (la alternativa es la rendición o el tiempo muerto)\n",
    "7. ¿Qué porcentaje de partidas es?\n",
    "8. ¿Cuánto duró la partida media?\n",
    "9. ¿Cuánto duró la partida media que ganaron las blancas? \n",
    "10. ¿Cuánto duró la partida media que fue un empate?\n",
    "11. ¿Qué es un código de incremento?\n",
    "12. Haz tres preguntas propias *por escrito*. Luego contéstalas. (escribimos nuestras preguntas porque si vuelves más tarde olvidarás qué pregunta estabas respondiendo)"
   ]
  },
  {
   "cell_type": "code",
   "execution_count": null,
   "metadata": {},
   "outputs": [],
   "source": []
  },
  {
   "cell_type": "code",
   "execution_count": null,
   "metadata": {},
   "outputs": [],
   "source": []
  },
  {
   "cell_type": "code",
   "execution_count": null,
   "metadata": {},
   "outputs": [],
   "source": []
  },
  {
   "cell_type": "code",
   "execution_count": null,
   "metadata": {},
   "outputs": [],
   "source": []
  },
  {
   "cell_type": "markdown",
   "metadata": {},
   "source": [
    "### 41.- Efectuar un análisis exploratorio\n",
    "\n",
    "Abrir el archivo exo.csv, https://exoplanetarchive.ipac.caltech.edu/docs/API_kepcandidate_columns.html y contestar las siguientes preguntas escribiendo headers, divisiones de celdas e identaciones necesarias\n",
    "\n",
    "1. ¿cuántas filas de datos tiene?\n",
    "2. ¿Qué representa cada fila?\n",
    "3. ¿Cuántos planetas están confirmados?\n",
    "4. ¿Cuál es la temperatura máxima de los planetas?\n",
    "5. ¿Cuál es la temperatura máxima de las estrellas?\n",
    "6. ¿Cuál es la distancia entre el planeta y la estrella?\n",
    "7. ¿Cuántos planetas hay en cada sistema?\n",
    "8. ¿Cuánto varía la temperatura de los planetas?\n",
    "9. ¿Cuánto varían las temperaturas de las estrellas?\n",
    "10. ¿Cuántos NaN hay en cada categoría?\n",
    "11. Haz tres preguntas propias *por escrito*. Luego contéstalas. (escribimos nuestras preguntas porque si vuelves más tarde olvidarás qué pregunta estabas respondiendo)"
   ]
  },
  {
   "cell_type": "code",
   "execution_count": null,
   "metadata": {},
   "outputs": [],
   "source": []
  },
  {
   "cell_type": "code",
   "execution_count": null,
   "metadata": {},
   "outputs": [],
   "source": []
  },
  {
   "cell_type": "code",
   "execution_count": null,
   "metadata": {},
   "outputs": [],
   "source": []
  },
  {
   "cell_type": "code",
   "execution_count": null,
   "metadata": {},
   "outputs": [],
   "source": []
  },
  {
   "cell_type": "markdown",
   "metadata": {},
   "source": [
    "## Unión de DataFrames\n",
    "\n",
    "Es posible unir DataFrames como se haría en SQL."
   ]
  },
  {
   "cell_type": "markdown",
   "metadata": {},
   "source": [
    "Ejemplo"
   ]
  },
  {
   "cell_type": "code",
   "execution_count": null,
   "metadata": {},
   "outputs": [],
   "source": [
    "mood_df = pd.DataFrame([['overcast', 'sad'], ['rainy', 'sad'], ['sunny', 'happy']],\n",
    "                       columns=['Weather', 'Mood'])\n",
    "\n",
    "mood_df"
   ]
  },
  {
   "cell_type": "code",
   "execution_count": null,
   "metadata": {},
   "outputs": [],
   "source": [
    "golf_df.merge(mood_df, how='inner', left_on='Outlook', right_on='Weather')"
   ]
  },
  {
   "cell_type": "markdown",
   "metadata": {},
   "source": [
    "## Concatenar\n",
    "\n",
    "Este método es equivalente a una unión de SQL"
   ]
  },
  {
   "cell_type": "code",
   "execution_count": null,
   "metadata": {},
   "outputs": [],
   "source": [
    "df1 = pd.DataFrame(\n",
    "    {'Col3': range(5), 'Col2': range(5), 'Col1': range(5)},\n",
    "    index=range(0, 5))\n",
    "df2 = pd.DataFrame(\n",
    "    {'Col1': range(5), 'Col2': range(5), 'Col4': range(5)},\n",
    "    index=range(3, 8))"
   ]
  },
  {
   "cell_type": "code",
   "execution_count": null,
   "metadata": {},
   "outputs": [],
   "source": [
    "df1"
   ]
  },
  {
   "cell_type": "code",
   "execution_count": null,
   "metadata": {},
   "outputs": [],
   "source": [
    "df2"
   ]
  },
  {
   "cell_type": "markdown",
   "metadata": {},
   "source": [
    "#### Vertical\n",
    "`sort` controla el orden de las columnas"
   ]
  },
  {
   "cell_type": "code",
   "execution_count": null,
   "metadata": {},
   "outputs": [],
   "source": [
    "pd.concat([df1, df2], axis=0, join='outer', sort=True)"
   ]
  },
  {
   "cell_type": "markdown",
   "metadata": {},
   "source": [
    "`inner` limita las columnas de ambas entradas"
   ]
  },
  {
   "cell_type": "code",
   "execution_count": null,
   "metadata": {},
   "outputs": [],
   "source": [
    "pd.concat([df1, df2], axis=0, join='inner', sort=True)"
   ]
  },
  {
   "cell_type": "markdown",
   "metadata": {},
   "source": [
    "#### Horizontal"
   ]
  },
  {
   "cell_type": "code",
   "execution_count": null,
   "metadata": {},
   "outputs": [],
   "source": [
    "pd.concat([df1, df2], axis=1)"
   ]
  },
  {
   "cell_type": "markdown",
   "metadata": {},
   "source": [
    "**Extra:** Por qué algunos números son flotantes y otros no?"
   ]
  },
  {
   "cell_type": "markdown",
   "metadata": {},
   "source": [
    "Documentación: https://pandas.pydata.org/pandas-docs/stable/merging.html"
   ]
  },
  {
   "cell_type": "code",
   "execution_count": null,
   "metadata": {},
   "outputs": [],
   "source": []
  }
 ],
 "metadata": {
  "anaconda-cloud": {},
  "kernelspec": {
   "display_name": "Python 3 (ipykernel)",
   "language": "python",
   "name": "python3"
  },
  "language_info": {
   "codemirror_mode": {
    "name": "ipython",
    "version": 3
   },
   "file_extension": ".py",
   "mimetype": "text/x-python",
   "name": "python",
   "nbconvert_exporter": "python",
   "pygments_lexer": "ipython3",
   "version": "3.9.13"
  },
  "toc": {
   "base_numbering": 1,
   "nav_menu": {},
   "number_sections": true,
   "sideBar": true,
   "skip_h1_title": false,
   "title_cell": "Table of Contents",
   "title_sidebar": "Contents",
   "toc_cell": false,
   "toc_position": {
    "height": "calc(100% - 180px)",
    "left": "10px",
    "top": "150px",
    "width": "256px"
   },
   "toc_section_display": true,
   "toc_window_display": true
  }
 },
 "nbformat": 4,
 "nbformat_minor": 4
}
