{
 "cells": [
  {
   "cell_type": "markdown",
   "id": "0d285ae6",
   "metadata": {},
   "source": [
    "# Crear una calculadora con al menos 4 operaciones básicas"
   ]
  },
  {
   "cell_type": "code",
   "execution_count": 7,
   "id": "d51de2c6",
   "metadata": {},
   "outputs": [],
   "source": [
    "class calculadora:\n",
    "    def __init__(self,num1,num2):\n",
    "        self.num1=float(num1)\n",
    "        self.num2=float(num2)\n",
    "    \n",
    "    def sumar(self):\n",
    "        res=self.num1+self.num2\n",
    "        print('El resultado de la suma es: ',res)\n",
    "    def restar(self):\n",
    "        res=self.num1-self.num2\n",
    "        print('El resultado de la resta es: ',res)\n",
    "    def multiplicar(self):\n",
    "        res=self.num1*self.num2\n",
    "        print('El resultado de la multiplicación es: ',res)\n",
    "    def dividir(self):\n",
    "        res=self.num1/self.num2\n",
    "        print('El resultado de la división es: ',res)\n",
    "    "
   ]
  },
  {
   "cell_type": "code",
   "execution_count": 8,
   "id": "95817834",
   "metadata": {},
   "outputs": [],
   "source": [
    "calculadora=calculadora(3,4)"
   ]
  },
  {
   "cell_type": "code",
   "execution_count": 9,
   "id": "396aeda2",
   "metadata": {},
   "outputs": [
    {
     "name": "stdout",
     "output_type": "stream",
     "text": [
      "El resultado de la suma es:  7.0\n"
     ]
    }
   ],
   "source": [
    "calculadora.sumar()"
   ]
  },
  {
   "cell_type": "code",
   "execution_count": 10,
   "id": "9bdbb09f",
   "metadata": {},
   "outputs": [
    {
     "name": "stdout",
     "output_type": "stream",
     "text": [
      "El resultado de la resta es:  -1.0\n"
     ]
    }
   ],
   "source": [
    "calculadora.restar()"
   ]
  },
  {
   "cell_type": "code",
   "execution_count": 11,
   "id": "78836f50",
   "metadata": {},
   "outputs": [
    {
     "name": "stdout",
     "output_type": "stream",
     "text": [
      "El resultado de la multiplicación es:  12.0\n"
     ]
    }
   ],
   "source": [
    "calculadora.multiplicar()"
   ]
  },
  {
   "cell_type": "code",
   "execution_count": 12,
   "id": "107009dc",
   "metadata": {},
   "outputs": [
    {
     "name": "stdout",
     "output_type": "stream",
     "text": [
      "El resultado de la división es:  0.75\n"
     ]
    }
   ],
   "source": [
    "calculadora.dividir()"
   ]
  },
  {
   "cell_type": "code",
   "execution_count": null,
   "id": "c2ad10b4",
   "metadata": {},
   "outputs": [],
   "source": []
  }
 ],
 "metadata": {
  "kernelspec": {
   "display_name": "Python 3 (ipykernel)",
   "language": "python",
   "name": "python3"
  },
  "language_info": {
   "codemirror_mode": {
    "name": "ipython",
    "version": 3
   },
   "file_extension": ".py",
   "mimetype": "text/x-python",
   "name": "python",
   "nbconvert_exporter": "python",
   "pygments_lexer": "ipython3",
   "version": "3.9.12"
  }
 },
 "nbformat": 4,
 "nbformat_minor": 5
}
