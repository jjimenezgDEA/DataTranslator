{
 "cells": [
  {
   "cell_type": "markdown",
   "id": "a12f6fed",
   "metadata": {},
   "source": [
    "# Crear una calculadora con al menos 4 operaciones básicas"
   ]
  },
  {
   "cell_type": "code",
   "execution_count": 1,
   "id": "c7ffe522",
   "metadata": {},
   "outputs": [],
   "source": [
    "class calculadora:\n",
    "    def __init__(self,num1,num2):\n",
    "        self.num1=float(num1)\n",
    "        self.num2=float(num2)\n",
    "    \n",
    "    def sumar(self):\n",
    "        res=self.num1+self.num2\n",
    "        print('El resultado de la suma es: ',res)\n",
    "    def restar(self):\n",
    "        res=self.num1-self.num2\n",
    "        print('El resultado de la resta es: ',res)\n",
    "    def multiplicar(self):\n",
    "        res=self.num1*self.num2\n",
    "        print('El resultado de la multiplicación es: ',res)\n",
    "    def restar(self):\n",
    "        res=self.num1/self.num2\n",
    "        print('El resultado de la división es: ',res)\n",
    "    "
   ]
  },
  {
   "cell_type": "code",
   "execution_count": 4,
   "id": "cdc8588b",
   "metadata": {},
   "outputs": [],
   "source": [
    "calculadora=calculadora(3,4)"
   ]
  },
  {
   "cell_type": "code",
   "execution_count": 5,
   "id": "d18555cb",
   "metadata": {},
   "outputs": [
    {
     "name": "stdout",
     "output_type": "stream",
     "text": [
      "El resultado de la suma es:  7.0\n"
     ]
    }
   ],
   "source": [
    "calculadora.sumar()"
   ]
  },
  {
   "cell_type": "code",
   "execution_count": 6,
   "id": "c7c09e9b",
   "metadata": {},
   "outputs": [
    {
     "name": "stdout",
     "output_type": "stream",
     "text": [
      "El resultado de la división es:  0.75\n"
     ]
    }
   ],
   "source": [
    "calculadora.restar()"
   ]
  },
  {
   "cell_type": "code",
   "execution_count": null,
   "id": "7ab39c87",
   "metadata": {},
   "outputs": [],
   "source": [
    "ca"
   ]
  }
 ],
 "metadata": {
  "kernelspec": {
   "display_name": "Python 3 (ipykernel)",
   "language": "python",
   "name": "python3"
  },
  "language_info": {
   "codemirror_mode": {
    "name": "ipython",
    "version": 3
   },
   "file_extension": ".py",
   "mimetype": "text/x-python",
   "name": "python",
   "nbconvert_exporter": "python",
   "pygments_lexer": "ipython3",
   "version": "3.9.12"
  }
 },
 "nbformat": 4,
 "nbformat_minor": 5
}
