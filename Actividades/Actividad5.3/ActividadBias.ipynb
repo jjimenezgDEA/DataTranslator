{
 "cells": [
  {
   "cell_type": "markdown",
   "id": "9ba9524f",
   "metadata": {},
   "source": [
    "# Parte 1: Datos "
   ]
  },
  {
   "cell_type": "code",
   "execution_count": 1,
   "id": "259f1aa4",
   "metadata": {},
   "outputs": [],
   "source": [
    "from sklearn.neighbors import KNeighborsRegressor\n",
    "from sklearn.neighbors import KNeighborsClassifier\n",
    "from sklearn.model_selection import KFold\n",
    "from sklearn.model_selection import train_test_split\n",
    "from sklearn.model_selection import cross_val_score, GridSearchCV\n",
    "import numpy as np\n",
    "from sklearn.datasets import load_boston\n",
    "import sklearn \n",
    "import pandas as pd\n",
    "import matplotlib.pyplot as plt"
   ]
  },
  {
   "cell_type": "code",
   "execution_count": 2,
   "id": "7b3f9874",
   "metadata": {},
   "outputs": [
    {
     "name": "stderr",
     "output_type": "stream",
     "text": [
      "C:\\Users\\JJIMENEZG\\Anaconda3\\lib\\site-packages\\sklearn\\utils\\deprecation.py:87: FutureWarning: Function load_boston is deprecated; `load_boston` is deprecated in 1.0 and will be removed in 1.2.\n",
      "\n",
      "    The Boston housing prices dataset has an ethical problem. You can refer to\n",
      "    the documentation of this function for further details.\n",
      "\n",
      "    The scikit-learn maintainers therefore strongly discourage the use of this\n",
      "    dataset unless the purpose of the code is to study and educate about\n",
      "    ethical issues in data science and machine learning.\n",
      "\n",
      "    In this special case, you can fetch the dataset from the original\n",
      "    source::\n",
      "\n",
      "        import pandas as pd\n",
      "        import numpy as np\n",
      "\n",
      "\n",
      "        data_url = \"http://lib.stat.cmu.edu/datasets/boston\"\n",
      "        raw_df = pd.read_csv(data_url, sep=\"\\s+\", skiprows=22, header=None)\n",
      "        data = np.hstack([raw_df.values[::2, :], raw_df.values[1::2, :2]])\n",
      "        target = raw_df.values[1::2, 2]\n",
      "\n",
      "    Alternative datasets include the California housing dataset (i.e.\n",
      "    :func:`~sklearn.datasets.fetch_california_housing`) and the Ames housing\n",
      "    dataset. You can load the datasets as follows::\n",
      "\n",
      "        from sklearn.datasets import fetch_california_housing\n",
      "        housing = fetch_california_housing()\n",
      "\n",
      "    for the California housing dataset and::\n",
      "\n",
      "        from sklearn.datasets import fetch_openml\n",
      "        housing = fetch_openml(name=\"house_prices\", as_frame=True)\n",
      "\n",
      "    for the Ames housing dataset.\n",
      "    \n",
      "  warnings.warn(msg, category=FutureWarning)\n"
     ]
    }
   ],
   "source": [
    "boston = load_boston()\n",
    "X = boston.data\n",
    "y = boston.target"
   ]
  },
  {
   "cell_type": "markdown",
   "id": "05b9d82a",
   "metadata": {},
   "source": [
    "### Utilizar train_test_split() en scikit learn para crear un conjunto de datos de entrenamiento y de prueba. \n",
    "### No hay ninguna regla sobre las divisiones de entrenamiento-prueba. A continuación utilizamos una división 75 : 25."
   ]
  },
  {
   "cell_type": "code",
   "execution_count": 3,
   "id": "f27eb195",
   "metadata": {},
   "outputs": [],
   "source": [
    "X_train, X_test, y_train, y_test = train_test_split(X, y, test_size=0.25)"
   ]
  },
  {
   "cell_type": "markdown",
   "id": "41e8364b",
   "metadata": {},
   "source": [
    "# Parte 2: Función y KNN\n",
    "### Escribir una función rmse(true, predicted) que tome los valores verdaderos y predichos y calcule el RMSE. Confirmar los resultados con sklearn.metrics.mean_squared_error()"
   ]
  },
  {
   "cell_type": "code",
   "execution_count": 4,
   "id": "6235fa06",
   "metadata": {},
   "outputs": [],
   "source": [
    "def rmse(true, predicted):\n",
    "    return np.sqrt((((true - predicted)**2).sum())/len(true))"
   ]
  },
  {
   "cell_type": "code",
   "execution_count": 5,
   "id": "0c92e010",
   "metadata": {},
   "outputs": [
    {
     "name": "stdout",
     "output_type": "stream",
     "text": [
      "0.480080161003209 0.480080161003209\n"
     ]
    }
   ],
   "source": [
    "true_test=np.random.rand(1,10)[0]\n",
    "predicted_test=np.random.rand(1,10)[0]\n",
    "\n",
    "print(rmse(true_test,predicted_test),np.sqrt(sklearn.metrics.mean_squared_error(true_test,predicted_test)))"
   ]
  },
  {
   "cell_type": "markdown",
   "id": "b9486a0e",
   "metadata": {},
   "source": [
    "### Utilizar KNeighborsRegressor() en scikit-learn para construir un modelo con los datos de entrenamiento. \n",
    "### Explicar las ventajas de evaluar el RMSE en un conjunto de pruebas separado (en lugar de ajustar un modelo y calcular el RMSE en todo el conjunto de datos)."
   ]
  },
  {
   "cell_type": "code",
   "execution_count": 6,
   "id": "c7f3c7d6",
   "metadata": {},
   "outputs": [
    {
     "name": "stdout",
     "output_type": "stream",
     "text": [
      "RMSE de conjunto de entrenamiento:  5.397881730529209\n",
      "RMSE de conjunto de prueba:  6.128918929476429\n"
     ]
    }
   ],
   "source": [
    "mdl = KNeighborsRegressor()\n",
    "mdl.fit(X_train, y_train)\n",
    "\n",
    "train_pred = mdl.predict(X_train)\n",
    "test_pred = mdl.predict(X_test)\n",
    "\n",
    "print( 'RMSE de conjunto de entrenamiento: ', rmse(y_train, train_pred))\n",
    "print( 'RMSE de conjunto de prueba: ', rmse(y_test, test_pred))"
   ]
  },
  {
   "cell_type": "markdown",
   "id": "c495bd45",
   "metadata": {},
   "source": [
    "#  Parte 3: Función y validación\n",
    "### Crear la función cross_val(X_train, y_train, k) utilizando la validación cruzada (k-fold) en el conjunto de datos de entrenamiento. sklearn tiene su propia implementación de K-fold (sklearn.cross_validation.cross_val_score()) con las siguientes características:\n",
    "#### Dividir aleatoriamente el conjunto de datos en k secciones (Puede utilizar la clase KFold de sklearn) en donde para cada sección:\n",
    "##### Entrenar el modelo con el resto de (k-1) secciones.\n",
    "##### Utilizar el modelo entrenado para predecir los valores objetivo de cada ejemplo en la sección actual.\n",
    "##### Calcular el RMSE de los valores predichos de la sección actual.\n",
    "##### Almacenar el RMSE de esta sección.\n",
    "##### Promediar los k resultados de la métrica de error y devolver el promedio."
   ]
  },
  {
   "cell_type": "code",
   "execution_count": 10,
   "id": "d79ca7e5",
   "metadata": {},
   "outputs": [],
   "source": [
    "def cross_val(x_train,y_train,kfolds,k):\n",
    "    kf = KFold(n_splits=kfolds)\n",
    "    knn = KNeighborsRegressor(n_neighbors=k)\n",
    "    res = np.zeros(kfolds)\n",
    "    res_train=np.zeros(kfolds)\n",
    "    for j, (train_idx, val_idx) in enumerate(kf.split(X_train)):\n",
    "        X_tr = X_train[train_idx]\n",
    "        y_tr = y_train[train_idx]\n",
    "        X_vl = X_train[val_idx]\n",
    "        y_vl = y_train[val_idx]\n",
    "    \n",
    "        knn.fit(X_tr, y_tr)\n",
    "        pred_tr=knn.predict(X_tr)\n",
    "        pred=knn.predict(X_vl)\n",
    "        rmse_train=rmse(y_tr,pred_tr)\n",
    "        rmse_val=rmse(y_vl,pred)\n",
    "        res_train[j]=rmse_train\n",
    "        res[j] = rmse_val\n",
    "        \n",
    "    return res_train.mean(),res.mean()"
   ]
  },
  {
   "cell_type": "markdown",
   "id": "afbeb410",
   "metadata": {},
   "source": [
    "### Utilizando este código, calcular la pérdida (loss) de validación cruzada de k pliegues en el conjunto de entrenamiento. (k=5 y entrene un modelo de Regresión KNN sobre los datos de precios de la vivienda en Boston). "
   ]
  },
  {
   "cell_type": "code",
   "execution_count": 11,
   "id": "f3d53771",
   "metadata": {},
   "outputs": [
    {
     "name": "stdout",
     "output_type": "stream",
     "text": [
      "RMSE de conjunto de entrenamiento:  5.506952140058553\n",
      "RMSE de conjunto de prueba:  6.6882029724247065\n"
     ]
    }
   ],
   "source": [
    "rmse_cv_tr,rmse_cv=cross_val(X_train,y_train,5,5)\n",
    "print( 'RMSE de conjunto de entrenamiento: ', rmse_cv_tr)\n",
    "print( 'RMSE de conjunto de prueba: ', rmse_cv)"
   ]
  },
  {
   "cell_type": "markdown",
   "id": "d1561780",
   "metadata": {},
   "source": [
    "### Comparar el RMSE loss de validación cruzada con el RMSE loss con una división de prueba y entrenamiento"
   ]
  },
  {
   "cell_type": "markdown",
   "id": "f84a87d0",
   "metadata": {},
   "source": [
    "#  Parte 4: Sesgo y Varianza\n",
    "### Utilizando el conjunto de datos de Boston\n",
    "#### Dividir los datos en un conjunto de datos de entrenamiento y de prueba\n",
    "#### Crear múltiples modelos con diferentes hiperparámetros, específicamente \"k\". Probar con valores de 1 a 100.\n",
    "#### Para cada modelo, guardar los valores de RMSE de entrenamiento y validación / o utilice los valores de R al cuadrado"
   ]
  },
  {
   "cell_type": "code",
   "execution_count": 15,
   "id": "0606107b",
   "metadata": {},
   "outputs": [],
   "source": [
    "scores=[]\n",
    "for k in list(range(1,101)):\n",
    "    rmse_cv_tr,rmse_cv=cross_val(X_train,y_train,5,k)\n",
    "    scores.append([rmse_cv_tr,rmse_cv])\n",
    "\n",
    "scores=pd.DataFrame(scores,columns=['RMSE Entrenamiento','RMSE Prueba'])"
   ]
  },
  {
   "cell_type": "markdown",
   "id": "4fad3395",
   "metadata": {},
   "source": [
    "#### Crear un gráfico con etiquetas de estos 2 cojuntos superpuestos en el mismo gráfico.\n",
    "#### ¿Qué ocurre cuando \"k\" es pequeño? ¿Y cuando es grande? ¿Qué significa esto?"
   ]
  },
  {
   "cell_type": "code",
   "execution_count": 18,
   "id": "304a7497",
   "metadata": {},
   "outputs": [
    {
     "data": {
      "text/plain": [
       "<matplotlib.legend.Legend at 0x1cc6606dd00>"
      ]
     },
     "execution_count": 18,
     "metadata": {},
     "output_type": "execute_result"
    },
    {
     "data": {
      "image/png": "[encoded data removed]",
      "text/plain": [
       "<Figure size 864x360 with 1 Axes>"
      ]
     },
     "metadata": {
      "needs_background": "light"
     },
     "output_type": "display_data"
    }
   ],
   "source": [
    "fig,ax=plt.subplots(figsize=(12,5))\n",
    "ax.set_title('Sesgo y varianza')\n",
    "ax.set_xlabel('K vecinos')\n",
    "ax.set_ylabel('rmse')\n",
    "ax.plot(scores['RMSE Entrenamiento'],color='blue',label='Entrenamiento')\n",
    "ax.plot(scores['RMSE Prueba'],color='red',label='Prueba')\n",
    "ax.legend(loc='lower right')"
   ]
  },
  {
   "cell_type": "markdown",
   "id": "c04de819",
   "metadata": {},
   "source": [
    "### Trata de replicarlo con GridSearchCV"
   ]
  },
  {
   "cell_type": "code",
   "execution_count": 27,
   "id": "949be31a",
   "metadata": {},
   "outputs": [
    {
     "name": "stdout",
     "output_type": "stream",
     "text": [
      "Fitting 5 folds for each of 100 candidates, totalling 500 fits\n"
     ]
    }
   ],
   "source": [
    "params={'n_neighbors':range(1,101)}\n",
    "gs=GridSearchCV(KNeighborsRegressor(),param_grid=params,scoring='neg_root_mean_squared_error',n_jobs=1,cv=5,verbose=1,return_train_score=True)\n",
    "mdl_gs=gs.fit(X_train,y_train)"
   ]
  },
  {
   "cell_type": "code",
   "execution_count": 67,
   "id": "6cb28b5e",
   "metadata": {},
   "outputs": [
    {
     "data": {
      "text/plain": [
       "Index(['mean_fit_time', 'std_fit_time', 'mean_score_time', 'std_score_time',\n",
       "       'param_n_neighbors', 'params', 'split0_test_score', 'split1_test_score',\n",
       "       'split2_test_score', 'split3_test_score', 'split4_test_score',\n",
       "       'mean_test_score', 'std_test_score', 'rank_test_score',\n",
       "       'split0_train_score', 'split1_train_score', 'split2_train_score',\n",
       "       'split3_train_score', 'split4_train_score', 'mean_train_score',\n",
       "       'std_train_score'],\n",
       "      dtype='object')"
      ]
     },
     "execution_count": 67,
     "metadata": {},
     "output_type": "execute_result"
    }
   ],
   "source": [
    "scores_gs=pd.DataFrame(mdl_gs.cv_results_)\n",
    "scores_gs.columns"
   ]
  },
  {
   "cell_type": "code",
   "execution_count": 68,
   "id": "b9341f19",
   "metadata": {},
   "outputs": [
    {
     "data": {
      "text/html": [
       "<div>\n",
       "<style scoped>\n",
       "    .dataframe tbody tr th:only-of-type {\n",
       "        vertical-align: middle;\n",
       "    }\n",
       "\n",
       "    .dataframe tbody tr th {\n",
       "        vertical-align: top;\n",
       "    }\n",
       "\n",
       "    .dataframe thead th {\n",
       "        text-align: right;\n",
       "    }\n",
       "</style>\n",
       "<table border=\"1\" class=\"dataframe\">\n",
       "  <thead>\n",
       "    <tr style=\"text-align: right;\">\n",
       "      <th></th>\n",
       "      <th>0</th>\n",
       "      <th>1</th>\n",
       "    </tr>\n",
       "  </thead>\n",
       "  <tbody>\n",
       "    <tr>\n",
       "      <th>0</th>\n",
       "      <td>-0.000000</td>\n",
       "      <td>7.289086</td>\n",
       "    </tr>\n",
       "    <tr>\n",
       "      <th>1</th>\n",
       "      <td>3.661695</td>\n",
       "      <td>7.031912</td>\n",
       "    </tr>\n",
       "    <tr>\n",
       "      <th>2</th>\n",
       "      <td>4.643717</td>\n",
       "      <td>6.823936</td>\n",
       "    </tr>\n",
       "    <tr>\n",
       "      <th>3</th>\n",
       "      <td>5.177059</td>\n",
       "      <td>6.757209</td>\n",
       "    </tr>\n",
       "    <tr>\n",
       "      <th>4</th>\n",
       "      <td>5.506952</td>\n",
       "      <td>6.688203</td>\n",
       "    </tr>\n",
       "    <tr>\n",
       "      <th>...</th>\n",
       "      <td>...</td>\n",
       "      <td>...</td>\n",
       "    </tr>\n",
       "    <tr>\n",
       "      <th>95</th>\n",
       "      <td>8.036808</td>\n",
       "      <td>8.144530</td>\n",
       "    </tr>\n",
       "    <tr>\n",
       "      <th>96</th>\n",
       "      <td>8.041512</td>\n",
       "      <td>8.139275</td>\n",
       "    </tr>\n",
       "    <tr>\n",
       "      <th>97</th>\n",
       "      <td>8.044288</td>\n",
       "      <td>8.145179</td>\n",
       "    </tr>\n",
       "    <tr>\n",
       "      <th>98</th>\n",
       "      <td>8.048386</td>\n",
       "      <td>8.150302</td>\n",
       "    </tr>\n",
       "    <tr>\n",
       "      <th>99</th>\n",
       "      <td>8.050245</td>\n",
       "      <td>8.152558</td>\n",
       "    </tr>\n",
       "  </tbody>\n",
       "</table>\n",
       "<p>100 rows × 2 columns</p>\n",
       "</div>"
      ],
      "text/plain": [
       "           0         1\n",
       "0  -0.000000  7.289086\n",
       "1   3.661695  7.031912\n",
       "2   4.643717  6.823936\n",
       "3   5.177059  6.757209\n",
       "4   5.506952  6.688203\n",
       "..       ...       ...\n",
       "95  8.036808  8.144530\n",
       "96  8.041512  8.139275\n",
       "97  8.044288  8.145179\n",
       "98  8.048386  8.150302\n",
       "99  8.050245  8.152558\n",
       "\n",
       "[100 rows x 2 columns]"
      ]
     },
     "execution_count": 68,
     "metadata": {},
     "output_type": "execute_result"
    }
   ],
   "source": [
    "scores_gs=pd.DataFrame([-1*mdl_gs.cv_results_['mean_train_score'],\n",
    "                                     -1*mdl_gs.cv_results_['mean_test_score']]).T\n",
    "scores_gs"
   ]
  },
  {
   "cell_type": "code",
   "execution_count": 69,
   "id": "b24748ed",
   "metadata": {},
   "outputs": [
    {
     "data": {
      "text/plain": [
       "<matplotlib.legend.Legend at 0x1cc6ef8ef40>"
      ]
     },
     "execution_count": 69,
     "metadata": {},
     "output_type": "execute_result"
    },
    {
     "data": {
      "image/png": "[encoded data removed]",
      "text/plain": [
       "<Figure size 864x360 with 1 Axes>"
      ]
     },
     "metadata": {
      "needs_background": "light"
     },
     "output_type": "display_data"
    }
   ],
   "source": [
    "scores_gs.rename(columns={0:'RMSE Entrenamiento',1:'RMSE Prueba'},inplace=True)\n",
    "fig,ax=plt.subplots(figsize=(12,5))\n",
    "ax.set_title('Sesgo y varianza GridSearch')\n",
    "ax.set_xlabel('K vecinos')\n",
    "ax.set_ylabel('rmse')\n",
    "ax.plot(scores_gs['RMSE Entrenamiento'],color='blue',label='Entrenamiento')\n",
    "ax.plot(scores_gs['RMSE Prueba'],color='red',label='Prueba')\n",
    "ax.legend(loc='lower right')\n"
   ]
  }
 ],
 "metadata": {
  "kernelspec": {
   "display_name": "Python 3 (ipykernel)",
   "language": "python",
   "name": "python3"
  },
  "language_info": {
   "codemirror_mode": {
    "name": "ipython",
    "version": 3
   },
   "file_extension": ".py",
   "mimetype": "text/x-python",
   "name": "python",
   "nbconvert_exporter": "python",
   "pygments_lexer": "ipython3",
   "version": "3.9.12"
  }
 },
 "nbformat": 4,
 "nbformat_minor": 5
}
