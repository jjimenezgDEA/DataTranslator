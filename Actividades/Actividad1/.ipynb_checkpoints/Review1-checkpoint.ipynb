{
 "cells": [
  {
   "cell_type": "markdown",
   "id": "b567445d",
   "metadata": {},
   "source": [
    "# Actividad: Review 1\n",
    "\n",
    "## 1. Escribe una función que imprima la cadena \"Hola mundo“\n",
    "\n"
   ]
  },
  {
   "cell_type": "code",
   "execution_count": null,
   "id": "e11fba1f",
   "metadata": {},
   "outputs": [],
   "source": [
    "def holamundo():\n",
    "    return \"Hola Mundo\""
   ]
  },
  {
   "cell_type": "code",
   "execution_count": null,
   "id": "ac7fb938",
   "metadata": {},
   "outputs": [],
   "source": [
    "holamundo()"
   ]
  },
  {
   "cell_type": "markdown",
   "id": "cab60a75",
   "metadata": {},
   "source": [
    "## 2. Si desea construir algo usando una Raspberry Pi, probablemente use resistencias. Para este ejercicio, necesitas saber dos cosas sobre ellos:\n",
    "### •Cada resistencia tiene un valor específico, los resistores son pequeños, tan pequeños que si imprimieras el valor de resistencia en ellos, sería difícil de leer.\n",
    "### •Para solucionar este problema, los fabricantes imprimen bandas codificadas por colores en las resistencias para indicar sus valores. Cada banda tiene una posición y un valor numérico.\n",
    "### •Las primeras 2 bandas de una resistencia tienen un esquema de codificación simple: cada color se asigna a un solo número. Por ejemplo, si imprimieran una banda marrón (valor 1) seguida de una banda verde (valor 5), se traduciría en el número 15.\n",
    "### •En este ejercicio vas a crear un programa útil para que no tengas que recordar los valores de las bandas. El programa tomará los nombres de los colores como entrada y generará un número de dos dígitos, ¡incluso si la entrada es de más de dos colores!\n",
    "### •Los colores de la banda se codifican de la siguiente manera:\n",
    "### •Negro: 0, Marrón: 1, Rojo: 2, Naranja: 3, Amarillo: 4, Verde: 5, Azul: 6, Púrpura: 7, Gris: 8, Blanco: 9\n",
    "### •El argumento de la función debe aceptar una cadena de colores separados por un guión."
   ]
  },
  {
   "cell_type": "code",
   "execution_count": 3,
   "id": "0ea98210",
   "metadata": {},
   "outputs": [],
   "source": [
    "def color2ohm(codigo_colores):\n",
    "    colores,lugar=[],[]\n",
    "    for lts in range(0,len(codigo_colores)):\n",
    "        print(lts)\n",
    "        lugar[lts]=0\n",
    "        colores[lugar[0]]"
   ]
  },
  {
   "cell_type": "code",
   "execution_count": 4,
   "id": "eeead27d",
   "metadata": {},
   "outputs": [
    {
     "name": "stdout",
     "output_type": "stream",
     "text": [
      "0\n",
      "1\n",
      "2\n"
     ]
    }
   ],
   "source": [
    "color2ohm('aaa')"
   ]
  },
  {
   "cell_type": "code",
   "execution_count": null,
   "id": "ee6d1f45",
   "metadata": {},
   "outputs": [],
   "source": []
  },
  {
   "cell_type": "code",
   "execution_count": null,
   "id": "08345539",
   "metadata": {},
   "outputs": [],
   "source": []
  },
  {
   "cell_type": "code",
   "execution_count": null,
   "id": "9a52ec9c",
   "metadata": {},
   "outputs": [],
   "source": []
  },
  {
   "cell_type": "code",
   "execution_count": null,
   "id": "c6940ae4",
   "metadata": {},
   "outputs": [],
   "source": []
  },
  {
   "cell_type": "code",
   "execution_count": null,
   "id": "e5c87221",
   "metadata": {},
   "outputs": [],
   "source": []
  },
  {
   "cell_type": "code",
   "execution_count": null,
   "id": "8aab7b46",
   "metadata": {},
   "outputs": [],
   "source": []
  },
  {
   "cell_type": "markdown",
   "id": "5c1bc022",
   "metadata": {},
   "source": [
    "## 3.- Crear una función que la entrada sea un año, y este de como salida si es un año bisiesto o no.\n",
    "### •Un año bisiesto en el calendario gregoriano:\n",
    "### •Por lo cual entra cada año que es divisible por 4, excepto los años que son divisibles por 100, a menos que el año también sea divisible por 400\n",
    "\n",
    "Calcula los siguientes ejemplos:\n",
    "Tierra 1,000,000,000:\n",
    "Mercurio 2134835688:\n",
    "Venus 189839836:\n",
    "Marte 2129871239:\n",
    "Jupiter 901876382:\n",
    "Saturno 2,000,000,000:\n",
    "Urano 1210123456:\n",
    "Neptuno 1821023456  "
   ]
  }
 ],
 "metadata": {
  "kernelspec": {
   "display_name": "Python 3 (ipykernel)",
   "language": "python",
   "name": "python3"
  },
  "language_info": {
   "codemirror_mode": {
    "name": "ipython",
    "version": 3
   },
   "file_extension": ".py",
   "mimetype": "text/x-python",
   "name": "python",
   "nbconvert_exporter": "python",
   "pygments_lexer": "ipython3",
   "version": "3.9.13"
  }
 },
 "nbformat": 4,
 "nbformat_minor": 5
}
