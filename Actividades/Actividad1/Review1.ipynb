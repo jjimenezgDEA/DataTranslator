{
 "cells": [
  {
   "cell_type": "markdown",
   "id": "5dc50755",
   "metadata": {},
   "source": [
    "# Actividad: Review 1\n",
    "\n",
    "## 1. Escribe una función que imprima la cadena \"Hola mundo“\n",
    "\n"
   ]
  },
  {
   "cell_type": "code",
   "execution_count": 1,
   "id": "bdded3b3",
   "metadata": {},
   "outputs": [],
   "source": [
    "def holamundo():\n",
    "    return \"Hola Mundo\""
   ]
  },
  {
   "cell_type": "code",
   "execution_count": 2,
   "id": "38d52689",
   "metadata": {},
   "outputs": [
    {
     "data": {
      "text/plain": [
       "'Hola Mundo'"
      ]
     },
     "execution_count": 2,
     "metadata": {},
     "output_type": "execute_result"
    }
   ],
   "source": [
    "holamundo()"
   ]
  },
  {
   "cell_type": "markdown",
   "id": "604e02a9",
   "metadata": {},
   "source": [
    "## 2. Si desea construir algo usando una Raspberry Pi, probablemente use resistencias. Para este ejercicio, necesitas saber dos cosas sobre ellos:\n",
    "### •Cada resistencia tiene un valor específico, los resistores son pequeños, tan pequeños que si imprimieras el valor de resistencia en ellos, sería difícil de leer.\n",
    "### •Para solucionar este problema, los fabricantes imprimen bandas codificadas por colores en las resistencias para indicar sus valores. Cada banda tiene una posición y un valor numérico.\n",
    "### •Las primeras 2 bandas de una resistencia tienen un esquema de codificación simple: cada color se asigna a un solo número. Por ejemplo, si imprimieran una banda marrón (valor 1) seguida de una banda verde (valor 5), se traduciría en el número 15.\n",
    "### •En este ejercicio vas a crear un programa útil para que no tengas que recordar los valores de las bandas. El programa tomará los nombres de los colores como entrada y generará un número de dos dígitos, ¡incluso si la entrada es de más de dos colores!\n",
    "### •Los colores de la banda se codifican de la siguiente manera:\n",
    "### •Negro: 0, Marrón: 1, Rojo: 2, Naranja: 3, Amarillo: 4, Verde: 5, Azul: 6, Púrpura: 7, Gris: 8, Blanco: 9\n",
    "### •El argumento de la función debe aceptar una cadena de colores separados por un guión."
   ]
  },
  {
   "cell_type": "code",
   "execution_count": 3,
   "id": "ad118164",
   "metadata": {},
   "outputs": [],
   "source": [
    "def color2ohm(codigo_colores):\n",
    "    colores=[]\n",
    "    res=[]\n",
    "    codigo={\"Negro\": 0, \"Marrón\": 1, \"Rojo\": 2, \"Naranja\": 3, \"Amarillo\": 4, \"Verde\": 5, \"Azul\": 6, \"Púrpura\": 7, \"Gris\": 8, \"Blanco\": 9}\n",
    "    color=\"\"\n",
    "    k=0\n",
    "    for lts in codigo_colores:\n",
    "        if lts==\"-\":\n",
    "            colores.append(color)\n",
    "            color=\"\"\n",
    "            k+=1\n",
    "            continue\n",
    "        color+=lts\n",
    "    colores.append(color)\n",
    "    for color in colores:\n",
    "        for k,v in codigo.items():\n",
    "            if k==color:\n",
    "                res.append(v)\n",
    "    print(colores)\n",
    "    res=int(\"\".join(str(k) for k in res[:2]))\n",
    "    print(res)\n",
    "    return res"
   ]
  },
  {
   "cell_type": "code",
   "execution_count": 4,
   "id": "ec7e9eec",
   "metadata": {},
   "outputs": [
    {
     "name": "stdout",
     "output_type": "stream",
     "text": [
      "['Rojo', 'Azul', 'Rojo', 'Naranja']\n",
      "26\n"
     ]
    }
   ],
   "source": [
    "resistencia_str='Rojo-Azul-Rojo-Naranja'\n",
    "R=color2ohm(resistencia_str)"
   ]
  },
  {
   "cell_type": "markdown",
   "id": "ae1d0a07",
   "metadata": {},
   "source": [
    "## 3.- Crear una función que la entrada sea un año, y este de como salida si es un año bisiesto o no.\n",
    "### •Un año bisiesto en el calendario gregoriano:\n",
    "### •Por lo cual entra cada año que es divisible por 4, excepto los años que son divisibles por 100, a menos que el año también sea divisible por 400"
   ]
  },
  {
   "cell_type": "code",
   "execution_count": 5,
   "id": "68d19103",
   "metadata": {},
   "outputs": [],
   "source": [
    "def es_bisiesto(yr):\n",
    "    bisiesto=False\n",
    "    if yr%400==0:\n",
    "        bisiesto=True\n",
    "    elif yr%100==0:\n",
    "        bisiesto==False\n",
    "    elif yr%4==0:\n",
    "        bisiesto=True\n",
    "    print(yr,bisiesto)"
   ]
  },
  {
   "cell_type": "code",
   "execution_count": 6,
   "id": "aaae97e6",
   "metadata": {},
   "outputs": [
    {
     "name": "stdout",
     "output_type": "stream",
     "text": [
      "1900 False\n"
     ]
    }
   ],
   "source": [
    "es_bisiesto(1900)"
   ]
  },
  {
   "cell_type": "markdown",
   "id": "2d3db6e9",
   "metadata": {},
   "source": [
    "## 4. Calcula los siguientes ejemplos:\n",
    "### Tierra 1,000,000,000:\n",
    "### Mercurio 2134835688:\n",
    "### Venus 189839836:\n",
    "### Marte 2129871239:\n",
    "### Jupiter 901876382:\n",
    "### Saturno 2,000,000,000:\n",
    "### Urano 1210123456:\n",
    "### Neptuno 1821023456  "
   ]
  },
  {
   "cell_type": "code",
   "execution_count": 7,
   "id": "5a423d8b",
   "metadata": {},
   "outputs": [],
   "source": [
    "def edad_planetas(planeta,edad):\n",
    "    periodos={\"Mercurio\": 0.2408467,\"Venus\": 0.61519726,\"Tierra\":1,\"Marte\":1.8808158,\"Jupiter\":11.862615,\"Saturno\":29.447498,\"Urano\":84.016846,\"Neptuno\":164.79132}\n",
    "    yrTierra=31557600 #s\n",
    "    edad_eq=periodos[planeta]*edad/yrTierra\n",
    "    return edad_eq"
   ]
  },
  {
   "cell_type": "code",
   "execution_count": 8,
   "id": "5eac2a34",
   "metadata": {},
   "outputs": [
    {
     "name": "stdout",
     "output_type": "stream",
     "text": [
      "La edad 1000000000 equivalente en Tierra es 31.68808781402895\n",
      "La edad 2134835688 equivalente en Mercurio es 16.29300487036497\n",
      "La edad 189839836 equivalente en Venus es 3.70081840653438\n",
      "La edad 2129871239 equivalente en Marte es 126.93916768945597\n",
      "La edad 901876382 equivalente en Jupiter es 339.018565963791\n",
      "La edad 2000000000 equivalente en Saturno es 1866.2698050548838\n",
      "La edad 1210123456 equivalente en Urano es 3221.7518456327407\n",
      "La edad 1821023456 equivalente en Neptuno es 9509.242118069877\n"
     ]
    }
   ],
   "source": [
    "ejs={\"Tierra\": 1000000000,\"Mercurio\": 2134835688,\"Venus\": 189839836,\"Marte\": 2129871239,\"Jupiter\":901876382,\"Saturno\": 2000000000,\"Urano\": 1210123456,\"Neptuno\": 1821023456}\n",
    "for ejemplo_planeta,ejemplo_edad in ejs.items():\n",
    "    print(\"La edad {} equivalente en {} es {}\".format(ejemplo_edad,ejemplo_planeta,edad_planetas(ejemplo_planeta,ejemplo_edad)))\n",
    "    "
   ]
  },
  {
   "cell_type": "code",
   "execution_count": null,
   "id": "294483c8",
   "metadata": {},
   "outputs": [],
   "source": []
  }
 ],
 "metadata": {
  "kernelspec": {
   "display_name": "Python 3 (ipykernel)",
   "language": "python",
   "name": "python3"
  },
  "language_info": {
   "codemirror_mode": {
    "name": "ipython",
    "version": 3
   },
   "file_extension": ".py",
   "mimetype": "text/x-python",
   "name": "python",
   "nbconvert_exporter": "python",
   "pygments_lexer": "ipython3",
   "version": "3.9.13"
  }
 },
 "nbformat": 4,
 "nbformat_minor": 5
}
