{
 "cells": [
  {
   "cell_type": "code",
   "execution_count": 2,
   "id": "54a5b17d",
   "metadata": {},
   "outputs": [],
   "source": [
    "import numpy as np\n",
    "import pandas as pd\n",
    "import scipy.stats as stats\n",
    "import matplotlib.pyplot as  plt\n",
    "%matplotlib inline"
   ]
  },
  {
   "cell_type": "markdown",
   "id": "1053796d",
   "metadata": {},
   "source": [
    "## Ejercicio 1\n",
    "####  Un inventor ha desarrollado un nuevo motor para podadoras de bajo consumo energético. Afirma que el motor funcionará continuamente durante más de 5 horas (300 minutos) con un solo galón de gasolina.\n",
    "####  El motor de podadoras de la marca líder funciona durante 300 minutos con un galón de gasolina. \n",
    "####  De su stock de motores, el inventor selecciona una muestra aleatoria de 50 motores para probarlos. Los motores seleccionados funcionan en promedio 305 minutos, con una desviación estándar de 30 minutos.\n",
    "####  Probar la hipótesis de que el tiempo medio de funcionamiento es superior a 300 minutos. Utilizar un nivel de significación de 0.05."
   ]
  },
  {
   "cell_type": "code",
   "execution_count": 5,
   "id": "18b8d07b",
   "metadata": {},
   "outputs": [
    {
     "data": {
      "text/plain": [
       "(1.1785113019775793, 1.6448536269514722, 0.11929641465821783)"
      ]
     },
     "execution_count": 5,
     "metadata": {},
     "output_type": "execute_result"
    }
   ],
   "source": [
    "sig=0.05\n",
    "t=300\n",
    "n=50\n",
    "m=305\n",
    "s=30\n",
    "\n",
    "den=s/(n**0.5)\n",
    "z_score=(m-t)/den\n",
    "ppf=stats.norm(0,1).ppf(1-sig)\n",
    "p_value=1-stats.norm(0,1).cdf(z_score)\n",
    "z_score,ppf,p_value"
   ]
  },
  {
   "cell_type": "markdown",
   "id": "d218d5cc",
   "metadata": {},
   "source": [
    "# Ejercicio 2\n",
    "#### Un fabricante de aderezos para ensaladas utiliza una máquina para dispensar los ingredientes líquidos en botellas que se mueven a lo largo de una línea de llenado. La dispensadora funciona correctamente con una cantidad de 8 onzas.\n",
    "#### Supongamos que la cantidad media dispensada en una muestra de 35 botellas es de 7.91 onzas con una varianza de 0.03 onzas al cuadrado. \n",
    "#### Determinar si la máquina debe detenerse y la producción debe esperar hasta que se repare la máquina\n",
    "#### La pérdida de producción derivada de una parada es tan grande que la dirección cree que el nivel de significación en el análisis debe ser del 99%.\n"
   ]
  },
  {
   "cell_type": "code",
   "execution_count": 8,
   "id": "8408d08e",
   "metadata": {},
   "outputs": [
    {
     "data": {
      "text/plain": [
       "(-17.74823934929882, -2.575829303548901, 2.5758293035489004, 1.0)"
      ]
     },
     "execution_count": 8,
     "metadata": {},
     "output_type": "execute_result"
    }
   ],
   "source": [
    "sig=0.01\n",
    "oz=8\n",
    "n=35\n",
    "m=7.91\n",
    "s=0.03\n",
    "\n",
    "den=s/(n**0.5)\n",
    "z_score=(m-oz)/den\n",
    "ppf_u=stats.norm(0,1).ppf(1-sig/2)\n",
    "ppf_l=stats.norm(0,1).ppf(sig/2)\n",
    "p_value=1-stats.norm(0,1).cdf(z_score)\n",
    "z_score,ppf_l,ppf_u,p_value "
   ]
  },
  {
   "cell_type": "markdown",
   "id": "ee751e6e",
   "metadata": {},
   "source": [
    "# Ejercicio 3\n",
    "#### Una empresa de bebidas afirma que sus botellas de agua tienen exactamente 16 onzas. Las muestras se encuentran en el documento “wáter.csv”\n",
    "#### Elaborar una prueba de hipótesis con alfa = 1%.\n",
    "#### Calcular manualmente y con API para comparar ambos resultados\n"
   ]
  },
  {
   "cell_type": "code",
   "execution_count": null,
   "id": "e6e71de4",
   "metadata": {},
   "outputs": [],
   "source": []
  },
  {
   "cell_type": "code",
   "execution_count": null,
   "id": "9ab99ee5",
   "metadata": {},
   "outputs": [],
   "source": []
  },
  {
   "cell_type": "code",
   "execution_count": null,
   "id": "dda92050",
   "metadata": {},
   "outputs": [],
   "source": []
  },
  {
   "cell_type": "markdown",
   "id": "ede0f0cb",
   "metadata": {},
   "source": []
  },
  {
   "cell_type": "code",
   "execution_count": null,
   "id": "b3814d5c",
   "metadata": {},
   "outputs": [],
   "source": []
  },
  {
   "cell_type": "code",
   "execution_count": null,
   "id": "069a51d7",
   "metadata": {},
   "outputs": [],
   "source": []
  },
  {
   "cell_type": "code",
   "execution_count": null,
   "id": "a404652d",
   "metadata": {},
   "outputs": [],
   "source": []
  },
  {
   "cell_type": "markdown",
   "id": "7ba7540c",
   "metadata": {},
   "source": []
  },
  {
   "cell_type": "code",
   "execution_count": null,
   "id": "6211b023",
   "metadata": {},
   "outputs": [],
   "source": []
  },
  {
   "cell_type": "code",
   "execution_count": null,
   "id": "5b8ccbfd",
   "metadata": {},
   "outputs": [],
   "source": []
  },
  {
   "cell_type": "code",
   "execution_count": null,
   "id": "2974ca2e",
   "metadata": {},
   "outputs": [],
   "source": []
  }
 ],
 "metadata": {
  "kernelspec": {
   "display_name": "Python 3 (ipykernel)",
   "language": "python",
   "name": "python3"
  },
  "language_info": {
   "codemirror_mode": {
    "name": "ipython",
    "version": 3
   },
   "file_extension": ".py",
   "mimetype": "text/x-python",
   "name": "python",
   "nbconvert_exporter": "python",
   "pygments_lexer": "ipython3",
   "version": "3.9.12"
  }
 },
 "nbformat": 4,
 "nbformat_minor": 5
}
