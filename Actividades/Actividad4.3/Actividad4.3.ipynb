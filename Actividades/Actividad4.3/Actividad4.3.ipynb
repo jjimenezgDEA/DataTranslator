{
 "cells": [
  {
   "cell_type": "code",
   "execution_count": 1,
   "id": "54a5b17d",
   "metadata": {},
   "outputs": [],
   "source": [
    "import numpy as np\n",
    "import pandas as pd\n",
    "import scipy.stats as stats\n",
    "import matplotlib.pyplot as  plt\n",
    "%matplotlib inline"
   ]
  },
  {
   "cell_type": "markdown",
   "id": "1053796d",
   "metadata": {},
   "source": [
    "## Ejercicio 1\n",
    "####  Un inventor ha desarrollado un nuevo motor para podadoras de bajo consumo energético. Afirma que el motor funcionará continuamente durante más de 5 horas (300 minutos) con un solo galón de gasolina.\n",
    "####  El motor de podadoras de la marca líder funciona durante 300 minutos con un galón de gasolina. \n",
    "####  De su stock de motores, el inventor selecciona una muestra aleatoria de 50 motores para probarlos. Los motores seleccionados funcionan en promedio 305 minutos, con una desviación estándar de 30 minutos.\n",
    "####  Probar la hipótesis de que el tiempo medio de funcionamiento es superior a 300 minutos. Utilizar un nivel de significación de 0.05."
   ]
  },
  {
   "cell_type": "code",
   "execution_count": 2,
   "id": "18b8d07b",
   "metadata": {},
   "outputs": [
    {
     "data": {
      "text/plain": [
       "(1.1785113019775793, 1.6448536269514722, 0.11929641465821783)"
      ]
     },
     "execution_count": 2,
     "metadata": {},
     "output_type": "execute_result"
    }
   ],
   "source": [
    "sig=0.05\n",
    "t=300\n",
    "n=50\n",
    "m=305\n",
    "s=30\n",
    "\n",
    "den=s/(n**0.5)\n",
    "z_score=(m-t)/den\n",
    "ppf=stats.norm(0,1).ppf(1-sig)\n",
    "p_value=1-stats.norm(0,1).cdf(z_score)\n",
    "z_score,ppf,p_value"
   ]
  },
  {
   "cell_type": "markdown",
   "id": "d218d5cc",
   "metadata": {},
   "source": [
    "# Ejercicio 2\n",
    "#### Un fabricante de aderezos para ensaladas utiliza una máquina para dispensar los ingredientes líquidos en botellas que se mueven a lo largo de una línea de llenado. La dispensadora funciona correctamente con una cantidad de 8 onzas.\n",
    "#### Supongamos que la cantidad media dispensada en una muestra de 35 botellas es de 7.91 onzas con una varianza de 0.03 onzas al cuadrado. \n",
    "#### Determinar si la máquina debe detenerse y la producción debe esperar hasta que se repare la máquina\n",
    "#### La pérdida de producción derivada de una parada es tan grande que la dirección cree que el nivel de significación en el análisis debe ser del 99%.\n"
   ]
  },
  {
   "cell_type": "code",
   "execution_count": 3,
   "id": "8408d08e",
   "metadata": {},
   "outputs": [
    {
     "data": {
      "text/plain": [
       "(-17.74823934929882, -2.575829303548901, 2.5758293035489004, 1.0)"
      ]
     },
     "execution_count": 3,
     "metadata": {},
     "output_type": "execute_result"
    }
   ],
   "source": [
    "sig=0.01\n",
    "oz=8\n",
    "n=35\n",
    "m=7.91\n",
    "s=0.03\n",
    "\n",
    "den=s/(n**0.5)\n",
    "z_score=(m-oz)/den\n",
    "ppf_u=stats.norm(0,1).ppf(1-sig/2)\n",
    "ppf_l=stats.norm(0,1).ppf(sig/2)\n",
    "p_value=1-stats.norm(0,1).cdf(z_score)\n",
    "z_score,ppf_l,ppf_u,p_value "
   ]
  },
  {
   "cell_type": "markdown",
   "id": "ee751e6e",
   "metadata": {},
   "source": [
    "# Ejercicio 3\n",
    "#### Una empresa de bebidas afirma que sus botellas de agua tienen exactamente 16 onzas. Las muestras se encuentran en el documento “wáter.csv”\n",
    "#### Elaborar una prueba de hipótesis con alfa = 1%.\n",
    "#### Calcular manualmente y con API para comparar ambos resultados\n"
   ]
  },
  {
   "cell_type": "code",
   "execution_count": 4,
   "id": "07fb7d10-e335-43b7-a1ec-e1b2150b3fa7",
   "metadata": {},
   "outputs": [
    {
     "data": {
      "text/html": [
       "<div>\n",
       "<style scoped>\n",
       "    .dataframe tbody tr th:only-of-type {\n",
       "        vertical-align: middle;\n",
       "    }\n",
       "\n",
       "    .dataframe tbody tr th {\n",
       "        vertical-align: top;\n",
       "    }\n",
       "\n",
       "    .dataframe thead th {\n",
       "        text-align: right;\n",
       "    }\n",
       "</style>\n",
       "<table border=\"1\" class=\"dataframe\">\n",
       "  <thead>\n",
       "    <tr style=\"text-align: right;\">\n",
       "      <th></th>\n",
       "      <th>Unnamed: 0</th>\n",
       "      <th>0</th>\n",
       "    </tr>\n",
       "  </thead>\n",
       "  <tbody>\n",
       "    <tr>\n",
       "      <th>count</th>\n",
       "      <td>850.00000</td>\n",
       "      <td>850.000000</td>\n",
       "    </tr>\n",
       "    <tr>\n",
       "      <th>mean</th>\n",
       "      <td>424.50000</td>\n",
       "      <td>15.914423</td>\n",
       "    </tr>\n",
       "    <tr>\n",
       "      <th>std</th>\n",
       "      <td>245.51816</td>\n",
       "      <td>0.994445</td>\n",
       "    </tr>\n",
       "    <tr>\n",
       "      <th>min</th>\n",
       "      <td>0.00000</td>\n",
       "      <td>12.632000</td>\n",
       "    </tr>\n",
       "    <tr>\n",
       "      <th>25%</th>\n",
       "      <td>212.25000</td>\n",
       "      <td>15.272372</td>\n",
       "    </tr>\n",
       "    <tr>\n",
       "      <th>50%</th>\n",
       "      <td>424.50000</td>\n",
       "      <td>15.914169</td>\n",
       "    </tr>\n",
       "    <tr>\n",
       "      <th>75%</th>\n",
       "      <td>636.75000</td>\n",
       "      <td>16.541769</td>\n",
       "    </tr>\n",
       "    <tr>\n",
       "      <th>max</th>\n",
       "      <td>849.00000</td>\n",
       "      <td>19.486895</td>\n",
       "    </tr>\n",
       "  </tbody>\n",
       "</table>\n",
       "</div>"
      ],
      "text/plain": [
       "       Unnamed: 0           0\n",
       "count   850.00000  850.000000\n",
       "mean    424.50000   15.914423\n",
       "std     245.51816    0.994445\n",
       "min       0.00000   12.632000\n",
       "25%     212.25000   15.272372\n",
       "50%     424.50000   15.914169\n",
       "75%     636.75000   16.541769\n",
       "max     849.00000   19.486895"
      ]
     },
     "execution_count": 4,
     "metadata": {},
     "output_type": "execute_result"
    }
   ],
   "source": [
    "df=pd.read_csv(\"water.csv\")\n",
    "df.describe()"
   ]
  },
  {
   "cell_type": "code",
   "execution_count": 5,
   "id": "4b236a4d-25dd-4b5f-8116-474c8d20870f",
   "metadata": {},
   "outputs": [
    {
     "name": "stdout",
     "output_type": "stream",
     "text": [
      " zscore : -2.5163605432501086, ppfl=13.600743988399454, Pvalue=5.543618294515544e-77, conclusión; se rechaza la hipotesis\n"
     ]
    }
   ],
   "source": [
    "m=850\n",
    "med=15.914169\n",
    "std=0.994445\n",
    "alpha=0.01\n",
    "oz=16\n",
    "\n",
    "den=std/(m**0.5) \n",
    "z_score=(med-oz)/den \n",
    "ppfl=stats.norm(med,std).ppf(alpha)\n",
    "p_value=stats.norm(med,std).cdf(z_score)\n",
    "z_score,ppfl,p_value\n",
    "\n",
    "print(f' zscore : {z_score}, ppfl={ppfl}, Pvalue={p_value}, conclusión; se rechaza la hipotesis')"
   ]
  },
  {
   "cell_type": "markdown",
   "id": "299fe3d4-1782-4760-8415-2ba1bbe87edb",
   "metadata": {},
   "source": [
    "## Ejercicio 4\n",
    "\n",
    "### La escala Brinell es una medida de la dureza de un material. Un ingeniero supone que la puntuación Brinell media de todas las piezas de cierto tipo de material (hierro dúctil recocido subcríticamente) no es igual a 170. \n",
    "### El ingeniero mide 25 piezas de este tipo de material y calcula que la media de la muestra es de 174.52 y la desviación estándar de la muestra es de 10.31. \n",
    "### Elaborar una prueba de hipótesis de que la verdadera puntuación Brinell media no es igual a 170, así como el correspondiente intervalo de confianza con alfa = 0.01.\n"
   ]
  },
  {
   "cell_type": "code",
   "execution_count": 6,
   "id": "0950992e-82db-4530-9962-83afc9d11e88",
   "metadata": {},
   "outputs": [
    {
     "data": {
      "text/plain": [
       "(2.1920465567410328, 174.7969293162722, 0.014188072549385256)"
      ]
     },
     "execution_count": 6,
     "metadata": {},
     "output_type": "execute_result"
    }
   ],
   "source": [
    "m=25\n",
    "med=174.52\n",
    "std=10.31\n",
    "alpha=0.01\n",
    "h0=170\n",
    "\n",
    "den=std/(m**0.5) \n",
    "z_score=(med-h0)/den \n",
    "\n",
    "ppf=stats.norm(h0,den).ppf(1-alpha)\n",
    "p_value=1-stats.norm(0,1).cdf(z_score)\n",
    "z_score,ppf,p_value"
   ]
  },
  {
   "cell_type": "code",
   "execution_count": 7,
   "id": "b664b0ce-24fa-4ac6-9db0-2d6694876c75",
   "metadata": {},
   "outputs": [
    {
     "name": "stdout",
     "output_type": "stream",
     "text": [
      " el valor de P es de: 0.018951760938419993, Mayor que alpha, por lo tanto, se acepta la hipotesis\n"
     ]
    }
   ],
   "source": [
    "h0=170\n",
    "m=25\n",
    "med=174.52\n",
    "std=10.31\n",
    "alpha=0.01\n",
    "\n",
    "den=std/(m**0.5) \n",
    "\n",
    "t=stats.t(df=25, loc=h0, scale= den)\n",
    "\n",
    "print(f' el valor de P es de: {1-t.cdf(med)}, Mayor que alpha, por lo tanto, se acepta la hipotesis')\n"
   ]
  },
  {
   "cell_type": "markdown",
   "id": "13e11e23-8bfa-46bb-b033-1934b6599afa",
   "metadata": {},
   "source": [
    "## Ejercicio 5\n",
    "### Matías tiene ocho años, y estableció un tiempo medio de 16.43 segundos para nadar 22 metros de estilo libre. Su padre, Paco, pensaba que Jeffrey podría disminuir este tiempo usando goggles. Paco le compró a Jeffrey un nuevo par de goggles y cronometró a Matías durante 15 pruebas de 22 metros estilo libre.\n",
    "### En las 15 pruebas, el tiempo medio de Matías fue de 16 segundos, con una desviación estándar de 0.8 segundos. \n",
    "### Paco pensó que las gafas ayudaban a Matías a nadar más rápido que antes. \n",
    "### Elaborar una prueba de hipótesis utilizando un alfa= 0.05."
   ]
  },
  {
   "cell_type": "code",
   "execution_count": 8,
   "id": "bced1c86-0acf-4282-92d3-5064628d4894",
   "metadata": {},
   "outputs": [
    {
     "name": "stdout",
     "output_type": "stream",
     "text": [
      " el valor de P es de: 0.027454140554840595, Mayor que alpha, por lo tanto, se acepta la hipotesis\n"
     ]
    }
   ],
   "source": [
    "n=15\n",
    "med=16\n",
    "std=0.8\n",
    "alpha=0.05\n",
    "H0=16.43\n",
    "\n",
    "\n",
    "den=std/(n**0.5)\n",
    "\n",
    "t=stats.t(df=15, loc=H0, scale= den)\n",
    "\n",
    "print(f' el valor de P es de: {t.cdf(med)}, Mayor que alpha, por lo tanto, se acepta la hipotesis')"
   ]
  },
  {
   "cell_type": "markdown",
   "id": "c114e358-3f16-431b-a9a7-e3d9224e6c3e",
   "metadata": {},
   "source": [
    "## Ejercicio 6\n",
    "### El corcho natural de las botellas de vino se deteriora, por lo que el vino de las botellas puede contaminarse. El artículo \"Effects of Bottle Closure Type on Consumer Perceptions of Wine Quality\" (Amer. J. of Enology and Viticulture, 2007: 182-191) informó de que, en una cata de chardonnays comerciales, 16 de 91 botellas se consideraron estropeadas en cierta medida por características asociadas al corcho.\n",
    "### ¿Esta información es suficiente para concluir que más del 15% de todas esas botellas están contaminadas de esta manera? \n",
    "### Utilizar un nivel de significancia igual a 0.10.\n"
   ]
  },
  {
   "cell_type": "code",
   "execution_count": 9,
   "id": "427cd13c-293c-4d4e-87ee-cfd1d51d506a",
   "metadata": {},
   "outputs": [
    {
     "data": {
      "text/plain": [
       "0.689909418247621"
      ]
     },
     "execution_count": 9,
     "metadata": {},
     "output_type": "execute_result"
    }
   ],
   "source": [
    "n=91\n",
    "med=16\n",
    "p=med/n;p\n",
    "p0=0.15\n",
    "alpha=0.1\n",
    "\n",
    "z= (p-p0)/ ((p0*(1-p0)/n)**0.5);z"
   ]
  },
  {
   "cell_type": "code",
   "execution_count": 10,
   "id": "93c823db-7e71-4525-a0f3-81b8475e8783",
   "metadata": {},
   "outputs": [
    {
     "data": {
      "text/plain": [
       "1.2815515655446004"
      ]
     },
     "execution_count": 10,
     "metadata": {},
     "output_type": "execute_result"
    }
   ],
   "source": [
    "stats.norm(0,1).ppf(0.9)"
   ]
  },
  {
   "cell_type": "code",
   "execution_count": 11,
   "id": "86370dba-166a-4e6b-91ae-f66c2641aa98",
   "metadata": {},
   "outputs": [
    {
     "name": "stdout",
     "output_type": "stream",
     "text": [
      " el valor de Z es de: 0.027454140554840595, menor que 1.2815515655446004, por lo tanto, se acepta la hipotesis\n"
     ]
    }
   ],
   "source": [
    "print(f' el valor de Z es de: {t.cdf(med)}, menor que {stats.norm(0,1).ppf(0.9)}, por lo tanto, se acepta la hipotesis')"
   ]
  }
 ],
 "metadata": {
  "kernelspec": {
   "display_name": "Python 3 (ipykernel)",
   "language": "python",
   "name": "python3"
  },
  "language_info": {
   "codemirror_mode": {
    "name": "ipython",
    "version": 3
   },
   "file_extension": ".py",
   "mimetype": "text/x-python",
   "name": "python",
   "nbconvert_exporter": "python",
   "pygments_lexer": "ipython3",
   "version": "3.9.12"
  }
 },
 "nbformat": 4,
 "nbformat_minor": 5
}
