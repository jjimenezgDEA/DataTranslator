{
 "cells": [
  {
   "cell_type": "code",
   "execution_count": 2,
   "id": "121ebb32",
   "metadata": {},
   "outputs": [
    {
     "name": "stdout",
     "output_type": "stream",
     "text": [
      "Collecting dccNote: you may need to restart the kernel to use updated packages.\n"
     ]
    },
    {
     "name": "stderr",
     "output_type": "stream",
     "text": [
      "WARNING: Ignoring invalid distribution -atplotlib (c:\\users\\jjimenezg\\anaconda3\\envs\\data_translator3.9\\lib\\site-packages)\n",
      "WARNING: Ignoring invalid distribution -atplotlib (c:\\users\\jjimenezg\\anaconda3\\envs\\data_translator3.9\\lib\\site-packages)\n",
      "WARNING: Ignoring invalid distribution -atplotlib (c:\\users\\jjimenezg\\anaconda3\\envs\\data_translator3.9\\lib\\site-packages)\n",
      "WARNING: Ignoring invalid distribution -atplotlib (c:\\users\\jjimenezg\\anaconda3\\envs\\data_translator3.9\\lib\\site-packages)\n",
      "WARNING: Ignoring invalid distribution -atplotlib (c:\\users\\jjimenezg\\anaconda3\\envs\\data_translator3.9\\lib\\site-packages)\n",
      "WARNING: Ignoring invalid distribution -atplotlib (c:\\users\\jjimenezg\\anaconda3\\envs\\data_translator3.9\\lib\\site-packages)\n",
      "WARNING: Ignoring invalid distribution -atplotlib (c:\\users\\jjimenezg\\anaconda3\\envs\\data_translator3.9\\lib\\site-packages)\n",
      "WARNING: Ignoring invalid distribution -atplotlib (c:\\users\\jjimenezg\\anaconda3\\envs\\data_translator3.9\\lib\\site-packages)\n",
      "WARNING: Ignoring invalid distribution -atplotlib (c:\\users\\jjimenezg\\anaconda3\\envs\\data_translator3.9\\lib\\site-packages)\n",
      "WARNING: Ignoring invalid distribution -atplotlib (c:\\users\\jjimenezg\\anaconda3\\envs\\data_translator3.9\\lib\\site-packages)\n",
      "WARNING: Ignoring invalid distribution -atplotlib (c:\\users\\jjimenezg\\anaconda3\\envs\\data_translator3.9\\lib\\site-packages)\n",
      "WARNING: Ignoring invalid distribution -atplotlib (c:\\users\\jjimenezg\\anaconda3\\envs\\data_translator3.9\\lib\\site-packages)\n"
     ]
    },
    {
     "name": "stdout",
     "output_type": "stream",
     "text": [
      "\n",
      "  Downloading dcc-0.8.0-py3-none-any.whl (39 kB)\n",
      "Collecting html2text>=2018.1.9\n",
      "  Downloading html2text-2020.1.16-py3-none-any.whl (32 kB)\n",
      "Collecting tomli-w>=1.0.0\n",
      "  Downloading tomli_w-1.0.0-py3-none-any.whl (6.0 kB)\n",
      "Collecting ciecplib>=0.4.4\n",
      "  Downloading ciecplib-0.7.0-py3-none-any.whl (64 kB)\n",
      "     ---------------------------------------- 64.2/64.2 kB 1.7 MB/s eta 0:00:00\n",
      "Requirement already satisfied: click>=7.0.0 in c:\\users\\jjimenezg\\anaconda3\\envs\\data_translator3.9\\lib\\site-packages (from dcc) (8.0.4)\n",
      "Requirement already satisfied: beautifulsoup4>=4.0.0 in c:\\users\\jjimenezg\\anaconda3\\envs\\data_translator3.9\\lib\\site-packages (from dcc) (4.11.1)\n",
      "Requirement already satisfied: tomli>=2.0.0 in c:\\users\\jjimenezg\\anaconda3\\envs\\data_translator3.9\\lib\\site-packages (from dcc) (2.0.1)\n",
      "Requirement already satisfied: pytz>=2018.3 in c:\\users\\jjimenezg\\anaconda3\\envs\\data_translator3.9\\lib\\site-packages (from dcc) (2022.1)\n",
      "Requirement already satisfied: soupsieve>1.2 in c:\\users\\jjimenezg\\anaconda3\\envs\\data_translator3.9\\lib\\site-packages (from beautifulsoup4>=4.0.0->dcc) (2.3.1)\n",
      "Requirement already satisfied: requests in c:\\users\\jjimenezg\\anaconda3\\envs\\data_translator3.9\\lib\\site-packages (from ciecplib>=0.4.4->dcc) (2.28.1)\n",
      "Requirement already satisfied: cryptography>=36.0.0 in c:\\users\\jjimenezg\\anaconda3\\envs\\data_translator3.9\\lib\\site-packages (from ciecplib>=0.4.4->dcc) (37.0.1)\n",
      "Collecting requests-ecp\n",
      "  Downloading requests_ecp-0.3.0-py3-none-any.whl (29 kB)\n",
      "Requirement already satisfied: colorama in c:\\users\\jjimenezg\\anaconda3\\envs\\data_translator3.9\\lib\\site-packages (from click>=7.0.0->dcc) (0.4.5)\n",
      "Requirement already satisfied: cffi>=1.12 in c:\\users\\jjimenezg\\anaconda3\\envs\\data_translator3.9\\lib\\site-packages (from cryptography>=36.0.0->ciecplib>=0.4.4->dcc) (1.15.1)\n",
      "Requirement already satisfied: certifi>=2017.4.17 in c:\\users\\jjimenezg\\anaconda3\\envs\\data_translator3.9\\lib\\site-packages (from requests->ciecplib>=0.4.4->dcc) (2022.9.24)\n",
      "Requirement already satisfied: urllib3<1.27,>=1.21.1 in c:\\users\\jjimenezg\\anaconda3\\envs\\data_translator3.9\\lib\\site-packages (from requests->ciecplib>=0.4.4->dcc) (1.26.11)\n",
      "Requirement already satisfied: idna<4,>=2.5 in c:\\users\\jjimenezg\\anaconda3\\envs\\data_translator3.9\\lib\\site-packages (from requests->ciecplib>=0.4.4->dcc) (3.3)\n",
      "Requirement already satisfied: charset-normalizer<3,>=2 in c:\\users\\jjimenezg\\anaconda3\\envs\\data_translator3.9\\lib\\site-packages (from requests->ciecplib>=0.4.4->dcc) (2.0.4)\n",
      "Collecting lxml\n",
      "  Downloading lxml-4.9.1-cp39-cp39-win_amd64.whl (3.6 MB)\n",
      "     ---------------------------------------- 3.6/3.6 MB 4.4 MB/s eta 0:00:00\n",
      "Requirement already satisfied: pycparser in c:\\users\\jjimenezg\\anaconda3\\envs\\data_translator3.9\\lib\\site-packages (from cffi>=1.12->cryptography>=36.0.0->ciecplib>=0.4.4->dcc) (2.21)\n",
      "Installing collected packages: tomli-w, lxml, html2text, requests-ecp, ciecplib, dcc\n",
      "Successfully installed ciecplib-0.7.0 dcc-0.8.0 html2text-2020.1.16 lxml-4.9.1 requests-ecp-0.3.0 tomli-w-1.0.0\n"
     ]
    }
   ],
   "source": [
    "pip install dcc"
   ]
  },
  {
   "cell_type": "code",
   "execution_count": null,
   "id": "9eeea5a5",
   "metadata": {},
   "outputs": [],
   "source": []
  }
 ],
 "metadata": {
  "kernelspec": {
   "display_name": "Python 3 (ipykernel)",
   "language": "python",
   "name": "python3"
  },
  "language_info": {
   "codemirror_mode": {
    "name": "ipython",
    "version": 3
   },
   "file_extension": ".py",
   "mimetype": "text/x-python",
   "name": "python",
   "nbconvert_exporter": "python",
   "pygments_lexer": "ipython3",
   "version": "3.9.13"
  }
 },
 "nbformat": 4,
 "nbformat_minor": 5
}
